{
 "cells": [
  {
   "cell_type": "markdown",
   "metadata": {},
   "source": [
    "# MOwNiT \n",
    "## Laboratorium - wstęp do Julia\n",
    "\n"
   ]
  },
  {
   "cell_type": "markdown",
   "metadata": {},
   "source": [
    "### Instalacja\n",
    "\n",
    "Aktualna wersja: Julia 1.5.3 https://julialang.org/\n",
    "\n",
    "Instalacja na własnym komputerze: https://julialang.org/downloads/\n"
   ]
  },
  {
   "cell_type": "markdown",
   "metadata": {},
   "source": [
    "### Uruchomienie\n",
    "\n",
    "Uruchamiamy z linii poleceń:\n",
    "```\n",
    "julia\n",
    "```"
   ]
  },
  {
   "cell_type": "markdown",
   "metadata": {},
   "source": [
    "###  Instalacja pakietu IJulia\n",
    "\n",
    "W interperterze Julii wpisujemy polecenia:\n",
    "\n",
    "```\n",
    "using Pkg\n",
    "Pkg.add(\"IJulia\")\n",
    "```"
   ]
  },
  {
   "cell_type": "markdown",
   "metadata": {},
   "source": [
    "### Uruchomienie Notatnika\n",
    "\n",
    "Polecenia:\n",
    "\n",
    "```\n",
    "using IJulia\n",
    "notebook()\n",
    "```\n",
    "\n",
    "W przeglądarce uruchomi sie nowa zakładka."
   ]
  },
  {
   "cell_type": "markdown",
   "metadata": {},
   "source": [
    "### Materiały do nauki\n",
    "\n",
    "* Dokumentacja :) https://docs.julialang.org/en/v1/manual/getting-started/\n",
    "* Coursera (do Julia 1.0, ale i tak dobry) https://www.coursera.org/learn/julia-programming\n",
    "* Kurs z MIT https://computationalthinking.mit.edu/Spring21/"
   ]
  }
 ],
 "metadata": {
  "kernelspec": {
   "display_name": "Julia 1.5.3",
   "language": "julia",
   "name": "julia-1.5"
  },
  "language_info": {
   "file_extension": ".jl",
   "mimetype": "application/julia",
   "name": "julia",
   "version": "1.5.3"
  }
 },
 "nbformat": 4,
 "nbformat_minor": 2
}
