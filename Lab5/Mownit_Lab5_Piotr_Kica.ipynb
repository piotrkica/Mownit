{
 "cells": [
  {
   "cell_type": "markdown",
   "metadata": {},
   "source": [
    "# Język R\n",
    "## Postawowe informacje\n",
    "Język programowania oraz implementujący go system R jest środowiskiem do statystycznej analizy danych. Umożliwia pracę interaktywną i skryptową.\n",
    " \n",
    "Instalacja na Ubuntu:\n",
    "\n",
    "```apt-get install r-base```\n",
    "\n",
    "Jak dodać kernel R do Jupitera:\n",
    "\n",
    "https://datatofish.com/r-tutorials/\n",
    "\n",
    "Linki:\n",
    " - Strona główna projektu R: http://www.r-project.org/\n",
    " - Quick R: http://www.statmethods.net/\n",
    " - RStudio: https://www.rstudio.com/\n",
    " - R for Data Science: https://r4ds.had.co.nz/\n",
    " - R Packages (zaawansowana): https://r-pkgs.org/\n",
    " - ggplot2: https://ggplot2-book.org/\n",
    "\n",
    "## Interaktywna praca z systemem\n",
    "\n",
    "Jest kilka możliwości:\n",
    "\n",
    " - Uruchamiamy RStudio, które zawiera zintegrowane środowisko do analizy danych w języku R\n",
    " - Można też uruchomić konsolę R bezpośrednio poleceniem R\n",
    " - W Jupyter tworzymy nowy notatnik z kernelem R"
   ]
  },
  {
   "cell_type": "markdown",
   "metadata": {},
   "source": [
    "### Instalacja pakietów"
   ]
  },
  {
   "cell_type": "markdown",
   "metadata": {},
   "source": [
    "`tidyverse` to zbiór kilku użytecznych pakietów, m.in. `dplyr` i `ggplot`. Więcej na https://www.tidyverse.org/packages/"
   ]
  },
  {
   "cell_type": "code",
   "execution_count": 1,
   "metadata": {},
   "outputs": [],
   "source": [
    "#install.packages('tidyverse')"
   ]
  },
  {
   "cell_type": "code",
   "execution_count": 2,
   "metadata": {
    "scrolled": true
   },
   "outputs": [
    {
     "name": "stderr",
     "output_type": "stream",
     "text": [
      "Warning message:\n",
      "\"package 'tidyverse' was built under R version 3.6.3\"-- Attaching packages ------------------------------------------------------------------------------- tidyverse 1.3.0 --\n",
      "v ggplot2 3.3.3     v purrr   0.3.4\n",
      "v tibble  3.1.0     v dplyr   1.0.5\n",
      "v tidyr   1.1.3     v stringr 1.4.0\n",
      "v readr   1.4.0     v forcats 0.5.1\n",
      "Warning message:\n",
      "\"package 'ggplot2' was built under R version 3.6.3\"Warning message:\n",
      "\"package 'tibble' was built under R version 3.6.3\"Warning message:\n",
      "\"package 'tidyr' was built under R version 3.6.3\"Warning message:\n",
      "\"package 'readr' was built under R version 3.6.3\"Warning message:\n",
      "\"package 'purrr' was built under R version 3.6.3\"Warning message:\n",
      "\"package 'dplyr' was built under R version 3.6.3\"Warning message:\n",
      "\"package 'stringr' was built under R version 3.6.3\"Warning message:\n",
      "\"package 'forcats' was built under R version 3.6.3\"-- Conflicts ---------------------------------------------------------------------------------- tidyverse_conflicts() --\n",
      "x dplyr::filter() masks stats::filter()\n",
      "x dplyr::lag()    masks stats::lag()\n"
     ]
    }
   ],
   "source": [
    "library(\"tidyverse\")"
   ]
  },
  {
   "cell_type": "markdown",
   "metadata": {},
   "source": [
    "### R"
   ]
  },
  {
   "cell_type": "markdown",
   "metadata": {},
   "source": [
    "Wbudowana pomoc:"
   ]
  },
  {
   "cell_type": "code",
   "execution_count": 3,
   "metadata": {},
   "outputs": [],
   "source": [
    "help()"
   ]
  },
  {
   "cell_type": "code",
   "execution_count": 4,
   "metadata": {},
   "outputs": [],
   "source": [
    "help(plot)"
   ]
  },
  {
   "cell_type": "markdown",
   "metadata": {},
   "source": [
    "bieżący katalog"
   ]
  },
  {
   "cell_type": "code",
   "execution_count": 5,
   "metadata": {},
   "outputs": [
    {
     "data": {
      "text/html": [
       "'C:/Users/Piotrek/Downloads/lab5/lab5'"
      ],
      "text/latex": [
       "'C:/Users/Piotrek/Downloads/lab5/lab5'"
      ],
      "text/markdown": [
       "'C:/Users/Piotrek/Downloads/lab5/lab5'"
      ],
      "text/plain": [
       "[1] \"C:/Users/Piotrek/Downloads/lab5/lab5\""
      ]
     },
     "metadata": {},
     "output_type": "display_data"
    }
   ],
   "source": [
    "getwd()"
   ]
  },
  {
   "cell_type": "markdown",
   "metadata": {},
   "source": [
    "zmiana katalogu bieżącego\n",
    "```\n",
    "setwd(\"~\")\n",
    "```"
   ]
  },
  {
   "cell_type": "markdown",
   "metadata": {},
   "source": [
    "#### Proste obliczenia"
   ]
  },
  {
   "cell_type": "code",
   "execution_count": 6,
   "metadata": {},
   "outputs": [
    {
     "data": {
      "text/html": [
       "4"
      ],
      "text/latex": [
       "4"
      ],
      "text/markdown": [
       "4"
      ],
      "text/plain": [
       "[1] 4"
      ]
     },
     "metadata": {},
     "output_type": "display_data"
    }
   ],
   "source": [
    "2+2"
   ]
  },
  {
   "cell_type": "markdown",
   "metadata": {},
   "source": [
    "Przypisanie \n",
    "\n",
    "więcej o rodzajach przypisania: http://stat.ethz.ch/R-manual/R-patched/library/base/html/assignOps.html"
   ]
  },
  {
   "cell_type": "code",
   "execution_count": 7,
   "metadata": {},
   "outputs": [],
   "source": [
    "a <- 2 # najczęściej stosowane"
   ]
  },
  {
   "cell_type": "code",
   "execution_count": 8,
   "metadata": {},
   "outputs": [],
   "source": [
    "a = 2"
   ]
  },
  {
   "cell_type": "markdown",
   "metadata": {},
   "source": [
    "Działanie:"
   ]
  },
  {
   "cell_type": "code",
   "execution_count": 9,
   "metadata": {},
   "outputs": [
    {
     "data": {
      "text/html": [
       "4"
      ],
      "text/latex": [
       "4"
      ],
      "text/markdown": [
       "4"
      ],
      "text/plain": [
       "[1] 4"
      ]
     },
     "metadata": {},
     "output_type": "display_data"
    }
   ],
   "source": [
    "a * 2"
   ]
  },
  {
   "cell_type": "markdown",
   "metadata": {},
   "source": [
    "Listy\n",
    "\n",
    "Funkcja `c()` - konkatenacja"
   ]
  },
  {
   "cell_type": "code",
   "execution_count": 10,
   "metadata": {},
   "outputs": [
    {
     "data": {
      "text/html": [
       "<ol class=list-inline>\n",
       "\t<li>2</li>\n",
       "\t<li>4</li>\n",
       "\t<li>6</li>\n",
       "\t<li>8</li>\n",
       "</ol>\n"
      ],
      "text/latex": [
       "\\begin{enumerate*}\n",
       "\\item 2\n",
       "\\item 4\n",
       "\\item 6\n",
       "\\item 8\n",
       "\\end{enumerate*}\n"
      ],
      "text/markdown": [
       "1. 2\n",
       "2. 4\n",
       "3. 6\n",
       "4. 8\n",
       "\n",
       "\n"
      ],
      "text/plain": [
       "[1] 2 4 6 8"
      ]
     },
     "metadata": {},
     "output_type": "display_data"
    }
   ],
   "source": [
    "x <- c(1,2,3,4)\n",
    "z <- x*2\n",
    "z"
   ]
  },
  {
   "cell_type": "code",
   "execution_count": 11,
   "metadata": {},
   "outputs": [
    {
     "data": {
      "text/html": [
       "<ol class=list-inline>\n",
       "\t<li>3</li>\n",
       "\t<li>6</li>\n",
       "\t<li>9</li>\n",
       "\t<li>12</li>\n",
       "</ol>\n"
      ],
      "text/latex": [
       "\\begin{enumerate*}\n",
       "\\item 3\n",
       "\\item 6\n",
       "\\item 9\n",
       "\\item 12\n",
       "\\end{enumerate*}\n"
      ],
      "text/markdown": [
       "1. 3\n",
       "2. 6\n",
       "3. 9\n",
       "4. 12\n",
       "\n",
       "\n"
      ],
      "text/plain": [
       "[1]  3  6  9 12"
      ]
     },
     "metadata": {},
     "output_type": "display_data"
    }
   ],
   "source": [
    "y <- 2*(1:4)\n",
    "x+y"
   ]
  },
  {
   "cell_type": "markdown",
   "metadata": {},
   "source": [
    "Funkcje"
   ]
  },
  {
   "cell_type": "code",
   "execution_count": 12,
   "metadata": {},
   "outputs": [
    {
     "data": {
      "text/html": [
       "<ol class=list-inline>\n",
       "\t<li>1</li>\n",
       "\t<li>3</li>\n",
       "\t<li>5</li>\n",
       "\t<li>7</li>\n",
       "\t<li>9</li>\n",
       "</ol>\n"
      ],
      "text/latex": [
       "\\begin{enumerate*}\n",
       "\\item 1\n",
       "\\item 3\n",
       "\\item 5\n",
       "\\item 7\n",
       "\\item 9\n",
       "\\end{enumerate*}\n"
      ],
      "text/markdown": [
       "1. 1\n",
       "2. 3\n",
       "3. 5\n",
       "4. 7\n",
       "5. 9\n",
       "\n",
       "\n"
      ],
      "text/plain": [
       "[1] 1 3 5 7 9"
      ]
     },
     "metadata": {},
     "output_type": "display_data"
    }
   ],
   "source": [
    "seq(1, 10, 2) "
   ]
  },
  {
   "cell_type": "code",
   "execution_count": 13,
   "metadata": {},
   "outputs": [],
   "source": [
    "x <- seq(1, 10)"
   ]
  },
  {
   "cell_type": "code",
   "execution_count": 14,
   "metadata": {},
   "outputs": [
    {
     "data": {
      "text/html": [
       "55"
      ],
      "text/latex": [
       "55"
      ],
      "text/markdown": [
       "55"
      ],
      "text/plain": [
       "[1] 55"
      ]
     },
     "metadata": {},
     "output_type": "display_data"
    }
   ],
   "source": [
    "sum(x)"
   ]
  },
  {
   "cell_type": "code",
   "execution_count": 15,
   "metadata": {},
   "outputs": [
    {
     "data": {
      "text/html": [
       "<ol class=list-inline>\n",
       "\t<li>1</li>\n",
       "\t<li>1.4142135623731</li>\n",
       "\t<li>1.73205080756888</li>\n",
       "\t<li>2</li>\n",
       "\t<li>2.23606797749979</li>\n",
       "\t<li>2.44948974278318</li>\n",
       "\t<li>2.64575131106459</li>\n",
       "\t<li>2.82842712474619</li>\n",
       "\t<li>3</li>\n",
       "\t<li>3.16227766016838</li>\n",
       "</ol>\n"
      ],
      "text/latex": [
       "\\begin{enumerate*}\n",
       "\\item 1\n",
       "\\item 1.4142135623731\n",
       "\\item 1.73205080756888\n",
       "\\item 2\n",
       "\\item 2.23606797749979\n",
       "\\item 2.44948974278318\n",
       "\\item 2.64575131106459\n",
       "\\item 2.82842712474619\n",
       "\\item 3\n",
       "\\item 3.16227766016838\n",
       "\\end{enumerate*}\n"
      ],
      "text/markdown": [
       "1. 1\n",
       "2. 1.4142135623731\n",
       "3. 1.73205080756888\n",
       "4. 2\n",
       "5. 2.23606797749979\n",
       "6. 2.44948974278318\n",
       "7. 2.64575131106459\n",
       "8. 2.82842712474619\n",
       "9. 3\n",
       "10. 3.16227766016838\n",
       "\n",
       "\n"
      ],
      "text/plain": [
       " [1] 1.000000 1.414214 1.732051 2.000000 2.236068 2.449490 2.645751 2.828427\n",
       " [9] 3.000000 3.162278"
      ]
     },
     "metadata": {},
     "output_type": "display_data"
    }
   ],
   "source": [
    "sqrt(x)"
   ]
  },
  {
   "cell_type": "markdown",
   "metadata": {},
   "source": [
    "## Import i przekształcanie danych"
   ]
  },
  {
   "cell_type": "markdown",
   "metadata": {},
   "source": [
    "R umożliwia wczytywanie danych z baz danych i plików w różnych formatach.\n",
    "\n",
    "Przykład: import z pliku CSV.\n",
    "\n",
    "Do importu służy funkcja `read.csv`\n",
    "\n",
    "Przykładowy plik: [data1.txt](https://www.icsr.agh.edu.pl/~malawski/dydakt/mownit/R/data1.txt)\n",
    "\n",
    "Kolumny `t1` i `t2` zawierają wyniki \"pomiarów\" czasu dla 2 \"algorytmów\"."
   ]
  },
  {
   "cell_type": "code",
   "execution_count": 16,
   "metadata": {},
   "outputs": [],
   "source": [
    "results = read.csv(\"data1.txt\")"
   ]
  },
  {
   "cell_type": "markdown",
   "metadata": {},
   "source": [
    "Zaimportowane dane są w postaci tabeli (data frame)."
   ]
  },
  {
   "cell_type": "code",
   "execution_count": 17,
   "metadata": {},
   "outputs": [
    {
     "data": {
      "text/html": [
       "<table>\n",
       "<thead><tr><th scope=col>n</th><th scope=col>t1</th><th scope=col>t2</th></tr></thead>\n",
       "<tbody>\n",
       "\t<tr><td> 1  </td><td> 1.1</td><td> 2.3</td></tr>\n",
       "\t<tr><td> 2  </td><td> 2.0</td><td> 4.1</td></tr>\n",
       "\t<tr><td> 3  </td><td> 2.8</td><td> 6.0</td></tr>\n",
       "\t<tr><td> 4  </td><td> 4.2</td><td> 8.2</td></tr>\n",
       "\t<tr><td> 5  </td><td> 5.1</td><td> 9.9</td></tr>\n",
       "\t<tr><td> 6  </td><td> 5.9</td><td>12.1</td></tr>\n",
       "\t<tr><td> 7  </td><td> 6.7</td><td>14.1</td></tr>\n",
       "\t<tr><td> 8  </td><td> 8.0</td><td>15.9</td></tr>\n",
       "\t<tr><td> 9  </td><td> 9.1</td><td>18.1</td></tr>\n",
       "\t<tr><td>10  </td><td>10.1</td><td>19.9</td></tr>\n",
       "</tbody>\n",
       "</table>\n"
      ],
      "text/latex": [
       "\\begin{tabular}{r|lll}\n",
       " n & t1 & t2\\\\\n",
       "\\hline\n",
       "\t  1   &  1.1 &  2.3\\\\\n",
       "\t  2   &  2.0 &  4.1\\\\\n",
       "\t  3   &  2.8 &  6.0\\\\\n",
       "\t  4   &  4.2 &  8.2\\\\\n",
       "\t  5   &  5.1 &  9.9\\\\\n",
       "\t  6   &  5.9 & 12.1\\\\\n",
       "\t  7   &  6.7 & 14.1\\\\\n",
       "\t  8   &  8.0 & 15.9\\\\\n",
       "\t  9   &  9.1 & 18.1\\\\\n",
       "\t 10   & 10.1 & 19.9\\\\\n",
       "\\end{tabular}\n"
      ],
      "text/markdown": [
       "\n",
       "| n | t1 | t2 |\n",
       "|---|---|---|\n",
       "|  1   |  1.1 |  2.3 |\n",
       "|  2   |  2.0 |  4.1 |\n",
       "|  3   |  2.8 |  6.0 |\n",
       "|  4   |  4.2 |  8.2 |\n",
       "|  5   |  5.1 |  9.9 |\n",
       "|  6   |  5.9 | 12.1 |\n",
       "|  7   |  6.7 | 14.1 |\n",
       "|  8   |  8.0 | 15.9 |\n",
       "|  9   |  9.1 | 18.1 |\n",
       "| 10   | 10.1 | 19.9 |\n",
       "\n"
      ],
      "text/plain": [
       "   n  t1   t2  \n",
       "1   1  1.1  2.3\n",
       "2   2  2.0  4.1\n",
       "3   3  2.8  6.0\n",
       "4   4  4.2  8.2\n",
       "5   5  5.1  9.9\n",
       "6   6  5.9 12.1\n",
       "7   7  6.7 14.1\n",
       "8   8  8.0 15.9\n",
       "9   9  9.1 18.1\n",
       "10 10 10.1 19.9"
      ]
     },
     "metadata": {},
     "output_type": "display_data"
    }
   ],
   "source": [
    "results"
   ]
  },
  {
   "cell_type": "code",
   "execution_count": 18,
   "metadata": {},
   "outputs": [
    {
     "name": "stdout",
     "output_type": "stream",
     "text": [
      "    n   t1   t2\n",
      "1   1  1.1  2.3\n",
      "2   2  2.0  4.1\n",
      "3   3  2.8  6.0\n",
      "4   4  4.2  8.2\n",
      "5   5  5.1  9.9\n",
      "6   6  5.9 12.1\n",
      "7   7  6.7 14.1\n",
      "8   8  8.0 15.9\n",
      "9   9  9.1 18.1\n",
      "10 10 10.1 19.9\n"
     ]
    }
   ],
   "source": [
    "print(results)"
   ]
  },
  {
   "cell_type": "markdown",
   "metadata": {},
   "source": [
    "Pobranie kolumny jako wektor kolumnowy:"
   ]
  },
  {
   "cell_type": "code",
   "execution_count": 19,
   "metadata": {},
   "outputs": [
    {
     "data": {
      "text/html": [
       "<table>\n",
       "<thead><tr><th scope=col>n</th></tr></thead>\n",
       "<tbody>\n",
       "\t<tr><td> 1</td></tr>\n",
       "\t<tr><td> 2</td></tr>\n",
       "\t<tr><td> 3</td></tr>\n",
       "\t<tr><td> 4</td></tr>\n",
       "\t<tr><td> 5</td></tr>\n",
       "\t<tr><td> 6</td></tr>\n",
       "\t<tr><td> 7</td></tr>\n",
       "\t<tr><td> 8</td></tr>\n",
       "\t<tr><td> 9</td></tr>\n",
       "\t<tr><td>10</td></tr>\n",
       "</tbody>\n",
       "</table>\n"
      ],
      "text/latex": [
       "\\begin{tabular}{r|l}\n",
       " n\\\\\n",
       "\\hline\n",
       "\t  1\\\\\n",
       "\t  2\\\\\n",
       "\t  3\\\\\n",
       "\t  4\\\\\n",
       "\t  5\\\\\n",
       "\t  6\\\\\n",
       "\t  7\\\\\n",
       "\t  8\\\\\n",
       "\t  9\\\\\n",
       "\t 10\\\\\n",
       "\\end{tabular}\n"
      ],
      "text/markdown": [
       "\n",
       "| n |\n",
       "|---|\n",
       "|  1 |\n",
       "|  2 |\n",
       "|  3 |\n",
       "|  4 |\n",
       "|  5 |\n",
       "|  6 |\n",
       "|  7 |\n",
       "|  8 |\n",
       "|  9 |\n",
       "| 10 |\n",
       "\n"
      ],
      "text/plain": [
       "   n \n",
       "1   1\n",
       "2   2\n",
       "3   3\n",
       "4   4\n",
       "5   5\n",
       "6   6\n",
       "7   7\n",
       "8   8\n",
       "9   9\n",
       "10 10"
      ]
     },
     "metadata": {},
     "output_type": "display_data"
    }
   ],
   "source": [
    "results[1]"
   ]
  },
  {
   "cell_type": "markdown",
   "metadata": {},
   "source": [
    "Pobranie kolumny jako lista:"
   ]
  },
  {
   "cell_type": "code",
   "execution_count": 20,
   "metadata": {},
   "outputs": [
    {
     "data": {
      "text/html": [
       "<ol class=list-inline>\n",
       "\t<li>1</li>\n",
       "\t<li>2</li>\n",
       "\t<li>3</li>\n",
       "\t<li>4</li>\n",
       "\t<li>5</li>\n",
       "\t<li>6</li>\n",
       "\t<li>7</li>\n",
       "\t<li>8</li>\n",
       "\t<li>9</li>\n",
       "\t<li>10</li>\n",
       "</ol>\n"
      ],
      "text/latex": [
       "\\begin{enumerate*}\n",
       "\\item 1\n",
       "\\item 2\n",
       "\\item 3\n",
       "\\item 4\n",
       "\\item 5\n",
       "\\item 6\n",
       "\\item 7\n",
       "\\item 8\n",
       "\\item 9\n",
       "\\item 10\n",
       "\\end{enumerate*}\n"
      ],
      "text/markdown": [
       "1. 1\n",
       "2. 2\n",
       "3. 3\n",
       "4. 4\n",
       "5. 5\n",
       "6. 6\n",
       "7. 7\n",
       "8. 8\n",
       "9. 9\n",
       "10. 10\n",
       "\n",
       "\n"
      ],
      "text/plain": [
       " [1]  1  2  3  4  5  6  7  8  9 10"
      ]
     },
     "metadata": {},
     "output_type": "display_data"
    }
   ],
   "source": [
    "results[[1]]"
   ]
  },
  {
   "cell_type": "markdown",
   "metadata": {},
   "source": [
    "pobranie kolumny po nazwie:"
   ]
  },
  {
   "cell_type": "code",
   "execution_count": 21,
   "metadata": {},
   "outputs": [
    {
     "data": {
      "text/html": [
       "<table>\n",
       "<thead><tr><th scope=col>t1</th></tr></thead>\n",
       "<tbody>\n",
       "\t<tr><td> 1.1</td></tr>\n",
       "\t<tr><td> 2.0</td></tr>\n",
       "\t<tr><td> 2.8</td></tr>\n",
       "\t<tr><td> 4.2</td></tr>\n",
       "\t<tr><td> 5.1</td></tr>\n",
       "\t<tr><td> 5.9</td></tr>\n",
       "\t<tr><td> 6.7</td></tr>\n",
       "\t<tr><td> 8.0</td></tr>\n",
       "\t<tr><td> 9.1</td></tr>\n",
       "\t<tr><td>10.1</td></tr>\n",
       "</tbody>\n",
       "</table>\n"
      ],
      "text/latex": [
       "\\begin{tabular}{r|l}\n",
       " t1\\\\\n",
       "\\hline\n",
       "\t  1.1\\\\\n",
       "\t  2.0\\\\\n",
       "\t  2.8\\\\\n",
       "\t  4.2\\\\\n",
       "\t  5.1\\\\\n",
       "\t  5.9\\\\\n",
       "\t  6.7\\\\\n",
       "\t  8.0\\\\\n",
       "\t  9.1\\\\\n",
       "\t 10.1\\\\\n",
       "\\end{tabular}\n"
      ],
      "text/markdown": [
       "\n",
       "| t1 |\n",
       "|---|\n",
       "|  1.1 |\n",
       "|  2.0 |\n",
       "|  2.8 |\n",
       "|  4.2 |\n",
       "|  5.1 |\n",
       "|  5.9 |\n",
       "|  6.7 |\n",
       "|  8.0 |\n",
       "|  9.1 |\n",
       "| 10.1 |\n",
       "\n"
      ],
      "text/plain": [
       "   t1  \n",
       "1   1.1\n",
       "2   2.0\n",
       "3   2.8\n",
       "4   4.2\n",
       "5   5.1\n",
       "6   5.9\n",
       "7   6.7\n",
       "8   8.0\n",
       "9   9.1\n",
       "10 10.1"
      ]
     },
     "metadata": {},
     "output_type": "display_data"
    }
   ],
   "source": [
    "results[\"t1\"]"
   ]
  },
  {
   "cell_type": "markdown",
   "metadata": {},
   "source": [
    "Pobranie wiersza lub wierszy:"
   ]
  },
  {
   "cell_type": "code",
   "execution_count": 22,
   "metadata": {},
   "outputs": [
    {
     "data": {
      "text/html": [
       "<table>\n",
       "<thead><tr><th></th><th scope=col>n</th><th scope=col>t1</th><th scope=col>t2</th></tr></thead>\n",
       "<tbody>\n",
       "\t<tr><th scope=row>2</th><td>2  </td><td>2  </td><td>4.1</td></tr>\n",
       "</tbody>\n",
       "</table>\n"
      ],
      "text/latex": [
       "\\begin{tabular}{r|lll}\n",
       "  & n & t1 & t2\\\\\n",
       "\\hline\n",
       "\t2 & 2   & 2   & 4.1\\\\\n",
       "\\end{tabular}\n"
      ],
      "text/markdown": [
       "\n",
       "| <!--/--> | n | t1 | t2 |\n",
       "|---|---|---|---|\n",
       "| 2 | 2   | 2   | 4.1 |\n",
       "\n"
      ],
      "text/plain": [
       "  n t1 t2 \n",
       "2 2 2  4.1"
      ]
     },
     "metadata": {},
     "output_type": "display_data"
    }
   ],
   "source": [
    "results[2,] # drugi wiersz, wszystki kolumny"
   ]
  },
  {
   "cell_type": "code",
   "execution_count": 23,
   "metadata": {},
   "outputs": [
    {
     "data": {
      "text/html": [
       "<table>\n",
       "<thead><tr><th></th><th scope=col>n</th><th scope=col>t1</th><th scope=col>t2</th></tr></thead>\n",
       "<tbody>\n",
       "\t<tr><th scope=row>2</th><td>2   </td><td>2.0 </td><td> 4.1</td></tr>\n",
       "\t<tr><th scope=row>4</th><td>4   </td><td>4.2 </td><td> 8.2</td></tr>\n",
       "\t<tr><th scope=row>6</th><td>6   </td><td>5.9 </td><td>12.1</td></tr>\n",
       "</tbody>\n",
       "</table>\n"
      ],
      "text/latex": [
       "\\begin{tabular}{r|lll}\n",
       "  & n & t1 & t2\\\\\n",
       "\\hline\n",
       "\t2 & 2    & 2.0  &  4.1\\\\\n",
       "\t4 & 4    & 4.2  &  8.2\\\\\n",
       "\t6 & 6    & 5.9  & 12.1\\\\\n",
       "\\end{tabular}\n"
      ],
      "text/markdown": [
       "\n",
       "| <!--/--> | n | t1 | t2 |\n",
       "|---|---|---|---|\n",
       "| 2 | 2    | 2.0  |  4.1 |\n",
       "| 4 | 4    | 4.2  |  8.2 |\n",
       "| 6 | 6    | 5.9  | 12.1 |\n",
       "\n"
      ],
      "text/plain": [
       "  n t1  t2  \n",
       "2 2 2.0  4.1\n",
       "4 4 4.2  8.2\n",
       "6 6 5.9 12.1"
      ]
     },
     "metadata": {},
     "output_type": "display_data"
    }
   ],
   "source": [
    "results[c(2,4,6),]"
   ]
  },
  {
   "cell_type": "markdown",
   "metadata": {},
   "source": [
    "`attach` (dodanie tabeli do kontekstu) pozwala na pojedyncze odwołania do kolumn bez odwoływania sie do calej tabeli:"
   ]
  },
  {
   "cell_type": "code",
   "execution_count": 24,
   "metadata": {},
   "outputs": [
    {
     "data": {
      "text/html": [
       "<ol class=list-inline>\n",
       "\t<li>1.1</li>\n",
       "\t<li>2</li>\n",
       "\t<li>2.8</li>\n",
       "\t<li>4.2</li>\n",
       "\t<li>5.1</li>\n",
       "\t<li>5.9</li>\n",
       "\t<li>6.7</li>\n",
       "\t<li>8</li>\n",
       "\t<li>9.1</li>\n",
       "\t<li>10.1</li>\n",
       "</ol>\n"
      ],
      "text/latex": [
       "\\begin{enumerate*}\n",
       "\\item 1.1\n",
       "\\item 2\n",
       "\\item 2.8\n",
       "\\item 4.2\n",
       "\\item 5.1\n",
       "\\item 5.9\n",
       "\\item 6.7\n",
       "\\item 8\n",
       "\\item 9.1\n",
       "\\item 10.1\n",
       "\\end{enumerate*}\n"
      ],
      "text/markdown": [
       "1. 1.1\n",
       "2. 2\n",
       "3. 2.8\n",
       "4. 4.2\n",
       "5. 5.1\n",
       "6. 5.9\n",
       "7. 6.7\n",
       "8. 8\n",
       "9. 9.1\n",
       "10. 10.1\n",
       "\n",
       "\n"
      ],
      "text/plain": [
       " [1]  1.1  2.0  2.8  4.2  5.1  5.9  6.7  8.0  9.1 10.1"
      ]
     },
     "metadata": {},
     "output_type": "display_data"
    }
   ],
   "source": [
    "attach(results)\n",
    "t1"
   ]
  },
  {
   "cell_type": "code",
   "execution_count": 25,
   "metadata": {},
   "outputs": [
    {
     "data": {
      "text/html": [
       "<ol class=list-inline>\n",
       "\t<li>2.3</li>\n",
       "\t<li>4.1</li>\n",
       "\t<li>6</li>\n",
       "\t<li>8.2</li>\n",
       "\t<li>9.9</li>\n",
       "\t<li>12.1</li>\n",
       "\t<li>14.1</li>\n",
       "\t<li>15.9</li>\n",
       "\t<li>18.1</li>\n",
       "\t<li>19.9</li>\n",
       "</ol>\n"
      ],
      "text/latex": [
       "\\begin{enumerate*}\n",
       "\\item 2.3\n",
       "\\item 4.1\n",
       "\\item 6\n",
       "\\item 8.2\n",
       "\\item 9.9\n",
       "\\item 12.1\n",
       "\\item 14.1\n",
       "\\item 15.9\n",
       "\\item 18.1\n",
       "\\item 19.9\n",
       "\\end{enumerate*}\n"
      ],
      "text/markdown": [
       "1. 2.3\n",
       "2. 4.1\n",
       "3. 6\n",
       "4. 8.2\n",
       "5. 9.9\n",
       "6. 12.1\n",
       "7. 14.1\n",
       "8. 15.9\n",
       "9. 18.1\n",
       "10. 19.9\n",
       "\n",
       "\n"
      ],
      "text/plain": [
       " [1]  2.3  4.1  6.0  8.2  9.9 12.1 14.1 15.9 18.1 19.9"
      ]
     },
     "metadata": {},
     "output_type": "display_data"
    }
   ],
   "source": [
    "t2"
   ]
  },
  {
   "cell_type": "code",
   "execution_count": 26,
   "metadata": {},
   "outputs": [
    {
     "data": {
      "text/html": [
       "<ol class=list-inline>\n",
       "\t<li>1</li>\n",
       "\t<li>2</li>\n",
       "\t<li>3</li>\n",
       "\t<li>4</li>\n",
       "\t<li>5</li>\n",
       "\t<li>6</li>\n",
       "\t<li>7</li>\n",
       "\t<li>8</li>\n",
       "\t<li>9</li>\n",
       "\t<li>10</li>\n",
       "</ol>\n"
      ],
      "text/latex": [
       "\\begin{enumerate*}\n",
       "\\item 1\n",
       "\\item 2\n",
       "\\item 3\n",
       "\\item 4\n",
       "\\item 5\n",
       "\\item 6\n",
       "\\item 7\n",
       "\\item 8\n",
       "\\item 9\n",
       "\\item 10\n",
       "\\end{enumerate*}\n"
      ],
      "text/markdown": [
       "1. 1\n",
       "2. 2\n",
       "3. 3\n",
       "4. 4\n",
       "5. 5\n",
       "6. 6\n",
       "7. 7\n",
       "8. 8\n",
       "9. 9\n",
       "10. 10\n",
       "\n",
       "\n"
      ],
      "text/plain": [
       " [1]  1  2  3  4  5  6  7  8  9 10"
      ]
     },
     "metadata": {},
     "output_type": "display_data"
    }
   ],
   "source": [
    "n"
   ]
  },
  {
   "cell_type": "code",
   "execution_count": 27,
   "metadata": {},
   "outputs": [],
   "source": [
    "detach(results)"
   ]
  },
  {
   "cell_type": "code",
   "execution_count": 28,
   "metadata": {},
   "outputs": [],
   "source": [
    "# generuje blad \n",
    "# t1"
   ]
  },
  {
   "cell_type": "markdown",
   "metadata": {},
   "source": [
    "### Wczytywanie w tidyverse"
   ]
  },
  {
   "cell_type": "markdown",
   "metadata": {},
   "source": [
    "W tidyverse dane wczytywane są do `tibble` - taki lepszy data.frame"
   ]
  },
  {
   "cell_type": "code",
   "execution_count": 29,
   "metadata": {},
   "outputs": [
    {
     "name": "stderr",
     "output_type": "stream",
     "text": [
      "\n",
      "\u001b[36m--\u001b[39m \u001b[1m\u001b[1mColumn specification\u001b[1m\u001b[22m \u001b[36m------------------------------------------------------------------------------------------------\u001b[39m\n",
      "cols(\n",
      "  n = col_double(),\n",
      "  t1 = col_double(),\n",
      "  t2 = col_double()\n",
      ")\n",
      "\n"
     ]
    }
   ],
   "source": [
    "# proszę zwrócić uwagę na _ zamiast .\n",
    "results2 = read_csv(\"data1.txt\")"
   ]
  },
  {
   "cell_type": "code",
   "execution_count": 30,
   "metadata": {},
   "outputs": [
    {
     "data": {
      "text/html": [
       "<table>\n",
       "<thead><tr><th scope=col>n</th><th scope=col>t1</th><th scope=col>t2</th></tr></thead>\n",
       "<tbody>\n",
       "\t<tr><td> 1  </td><td> 1.1</td><td> 2.3</td></tr>\n",
       "\t<tr><td> 2  </td><td> 2.0</td><td> 4.1</td></tr>\n",
       "\t<tr><td> 3  </td><td> 2.8</td><td> 6.0</td></tr>\n",
       "\t<tr><td> 4  </td><td> 4.2</td><td> 8.2</td></tr>\n",
       "\t<tr><td> 5  </td><td> 5.1</td><td> 9.9</td></tr>\n",
       "\t<tr><td> 6  </td><td> 5.9</td><td>12.1</td></tr>\n",
       "\t<tr><td> 7  </td><td> 6.7</td><td>14.1</td></tr>\n",
       "\t<tr><td> 8  </td><td> 8.0</td><td>15.9</td></tr>\n",
       "\t<tr><td> 9  </td><td> 9.1</td><td>18.1</td></tr>\n",
       "\t<tr><td>10  </td><td>10.1</td><td>19.9</td></tr>\n",
       "</tbody>\n",
       "</table>\n"
      ],
      "text/latex": [
       "\\begin{tabular}{r|lll}\n",
       " n & t1 & t2\\\\\n",
       "\\hline\n",
       "\t  1   &  1.1 &  2.3\\\\\n",
       "\t  2   &  2.0 &  4.1\\\\\n",
       "\t  3   &  2.8 &  6.0\\\\\n",
       "\t  4   &  4.2 &  8.2\\\\\n",
       "\t  5   &  5.1 &  9.9\\\\\n",
       "\t  6   &  5.9 & 12.1\\\\\n",
       "\t  7   &  6.7 & 14.1\\\\\n",
       "\t  8   &  8.0 & 15.9\\\\\n",
       "\t  9   &  9.1 & 18.1\\\\\n",
       "\t 10   & 10.1 & 19.9\\\\\n",
       "\\end{tabular}\n"
      ],
      "text/markdown": [
       "\n",
       "| n | t1 | t2 |\n",
       "|---|---|---|\n",
       "|  1   |  1.1 |  2.3 |\n",
       "|  2   |  2.0 |  4.1 |\n",
       "|  3   |  2.8 |  6.0 |\n",
       "|  4   |  4.2 |  8.2 |\n",
       "|  5   |  5.1 |  9.9 |\n",
       "|  6   |  5.9 | 12.1 |\n",
       "|  7   |  6.7 | 14.1 |\n",
       "|  8   |  8.0 | 15.9 |\n",
       "|  9   |  9.1 | 18.1 |\n",
       "| 10   | 10.1 | 19.9 |\n",
       "\n"
      ],
      "text/plain": [
       "   n  t1   t2  \n",
       "1   1  1.1  2.3\n",
       "2   2  2.0  4.1\n",
       "3   3  2.8  6.0\n",
       "4   4  4.2  8.2\n",
       "5   5  5.1  9.9\n",
       "6   6  5.9 12.1\n",
       "7   7  6.7 14.1\n",
       "8   8  8.0 15.9\n",
       "9   9  9.1 18.1\n",
       "10 10 10.1 19.9"
      ]
     },
     "metadata": {},
     "output_type": "display_data"
    }
   ],
   "source": [
    "results2"
   ]
  },
  {
   "cell_type": "code",
   "execution_count": 31,
   "metadata": {},
   "outputs": [
    {
     "name": "stdout",
     "output_type": "stream",
     "text": [
      "# A tibble: 10 x 3\n",
      "       n    t1    t2\n",
      "   <dbl> <dbl> <dbl>\n",
      " 1     1   1.1   2.3\n",
      " 2     2   2     4.1\n",
      " 3     3   2.8   6  \n",
      " 4     4   4.2   8.2\n",
      " 5     5   5.1   9.9\n",
      " 6     6   5.9  12.1\n",
      " 7     7   6.7  14.1\n",
      " 8     8   8    15.9\n",
      " 9     9   9.1  18.1\n",
      "10    10  10.1  19.9\n"
     ]
    }
   ],
   "source": [
    "print(results2)"
   ]
  },
  {
   "cell_type": "markdown",
   "metadata": {},
   "source": [
    "## Rysowanie wykresów"
   ]
  },
  {
   "cell_type": "code",
   "execution_count": 32,
   "metadata": {},
   "outputs": [
    {
     "data": {
      "image/png": "[encoded data removed]",
      "text/plain": [
       "plot without title"
      ]
     },
     "metadata": {},
     "output_type": "display_data"
    }
   ],
   "source": [
    "ggplot(results, aes(x=n, y=t2)) + geom_point()\n",
    "# nie trzeba używac \"\" w aes!"
   ]
  },
  {
   "cell_type": "code",
   "execution_count": 33,
   "metadata": {},
   "outputs": [
    {
     "data": {
      "image/png": "[encoded data removed]",
      "text/plain": [
       "plot without title"
      ]
     },
     "metadata": {},
     "output_type": "display_data"
    }
   ],
   "source": [
    "last_plot() + geom_line()\n",
    "# nie podano nic do geom_line więc wykorzystano argumenty do ggplot(...)"
   ]
  },
  {
   "cell_type": "code",
   "execution_count": 34,
   "metadata": {},
   "outputs": [
    {
     "data": {
      "image/png": "[encoded data removed]",
      "text/plain": [
       "plot without title"
      ]
     },
     "metadata": {},
     "output_type": "display_data"
    }
   ],
   "source": [
    "last_plot() + geom_line(aes(n, t1))\n",
    "# tutaj podano inny aes, ale dalej odnosimy się do \"results\""
   ]
  },
  {
   "cell_type": "markdown",
   "metadata": {},
   "source": [
    "## Przykład analizy danych w czystym R"
   ]
  },
  {
   "cell_type": "markdown",
   "metadata": {},
   "source": [
    "Przetwarzanie danych w tabeli\n",
    "\n",
    "Dane w pliku [data2.txt](https://www.icsr.agh.edu.pl/~malawski/dydakt/mownit/R/data2.txt) mają postać tabeli faktów, w której wiersze są wynikami pomiarów. \n",
    "\n",
    "Przykładowo, zmierzono czas (time) dla różnych algorytmów (t1, t2).\n",
    "\n",
    "Kolumna `alg` jest typu `factor` - jest to typ wyliczeniowy w R."
   ]
  },
  {
   "cell_type": "code",
   "execution_count": 35,
   "metadata": {},
   "outputs": [
    {
     "data": {
      "text/html": [
       "<table>\n",
       "<thead><tr><th scope=col>n</th><th scope=col>alg</th><th scope=col>time</th><th scope=col>error</th></tr></thead>\n",
       "<tbody>\n",
       "\t<tr><td> 1          </td><td>t1          </td><td> 1.010572   </td><td> 0.010572148</td></tr>\n",
       "\t<tr><td> 2          </td><td>t1          </td><td> 1.981689   </td><td>-0.018310993</td></tr>\n",
       "\t<tr><td> 3          </td><td>t1          </td><td> 3.066268   </td><td> 0.066268043</td></tr>\n",
       "\t<tr><td> 4          </td><td>t1          </td><td> 4.060221   </td><td> 0.060220570</td></tr>\n",
       "\t<tr><td> 5          </td><td>t1          </td><td> 5.029502   </td><td> 0.029502051</td></tr>\n",
       "\t<tr><td> 6          </td><td>t1          </td><td> 6.045928   </td><td> 0.045927536</td></tr>\n",
       "\t<tr><td> 7          </td><td>t1          </td><td> 6.957461   </td><td>-0.042538559</td></tr>\n",
       "\t<tr><td> 8          </td><td>t1          </td><td> 8.009891   </td><td> 0.009891313</td></tr>\n",
       "\t<tr><td> 9          </td><td>t1          </td><td> 9.053959   </td><td> 0.053959370</td></tr>\n",
       "\t<tr><td>10          </td><td>t1          </td><td> 9.982560   </td><td>-0.017439984</td></tr>\n",
       "\t<tr><td> 1          </td><td>t2          </td><td> 1.997585   </td><td>-0.002414813</td></tr>\n",
       "\t<tr><td> 2          </td><td>t2          </td><td> 3.953772   </td><td>-0.046227795</td></tr>\n",
       "\t<tr><td> 3          </td><td>t2          </td><td> 5.978172   </td><td>-0.021827928</td></tr>\n",
       "\t<tr><td> 4          </td><td>t2          </td><td> 8.052453   </td><td> 0.052453117</td></tr>\n",
       "\t<tr><td> 5          </td><td>t2          </td><td>10.072778   </td><td> 0.072777961</td></tr>\n",
       "\t<tr><td> 6          </td><td>t2          </td><td>11.957002   </td><td>-0.042997938</td></tr>\n",
       "\t<tr><td> 7          </td><td>t2          </td><td>14.002079   </td><td> 0.002078900</td></tr>\n",
       "\t<tr><td> 8          </td><td>t2          </td><td>16.031059   </td><td> 0.031058822</td></tr>\n",
       "\t<tr><td> 9          </td><td>t2          </td><td>18.046717   </td><td> 0.046716672</td></tr>\n",
       "\t<tr><td>10          </td><td>t2          </td><td>20.046959   </td><td> 0.046959194</td></tr>\n",
       "\t<tr><td> 1          </td><td>t1          </td><td> 1.079367   </td><td> 0.079366812</td></tr>\n",
       "\t<tr><td> 2          </td><td>t1          </td><td> 2.034495   </td><td> 0.034494559</td></tr>\n",
       "\t<tr><td> 3          </td><td>t1          </td><td> 2.942990   </td><td>-0.057010017</td></tr>\n",
       "\t<tr><td> 4          </td><td>t1          </td><td> 3.936265   </td><td>-0.063734966</td></tr>\n",
       "\t<tr><td> 5          </td><td>t1          </td><td> 4.971931   </td><td>-0.028069105</td></tr>\n",
       "\t<tr><td> 6          </td><td>t1          </td><td> 5.935258   </td><td>-0.064741864</td></tr>\n",
       "\t<tr><td> 7          </td><td>t1          </td><td> 6.930239   </td><td>-0.069760726</td></tr>\n",
       "\t<tr><td> 8          </td><td>t1          </td><td> 8.088869   </td><td> 0.088868510</td></tr>\n",
       "\t<tr><td> 9          </td><td>t1          </td><td> 8.949670   </td><td>-0.050330255</td></tr>\n",
       "\t<tr><td>10          </td><td>t1          </td><td> 9.963969   </td><td>-0.036030556</td></tr>\n",
       "\t<tr><td>...</td><td>...</td><td>...</td><td>...</td></tr>\n",
       "\t<tr><td> 1          </td><td>t2          </td><td> 2.0298945  </td><td> 0.029894485</td></tr>\n",
       "\t<tr><td> 2          </td><td>t2          </td><td> 3.9258667  </td><td>-0.074133292</td></tr>\n",
       "\t<tr><td> 3          </td><td>t2          </td><td> 6.0798658  </td><td> 0.079865815</td></tr>\n",
       "\t<tr><td> 4          </td><td>t2          </td><td> 8.0427000  </td><td> 0.042699961</td></tr>\n",
       "\t<tr><td> 5          </td><td>t2          </td><td>10.0047110  </td><td> 0.004710953</td></tr>\n",
       "\t<tr><td> 6          </td><td>t2          </td><td>12.0451718  </td><td> 0.045171754</td></tr>\n",
       "\t<tr><td> 7          </td><td>t2          </td><td>14.0277883  </td><td> 0.027788304</td></tr>\n",
       "\t<tr><td> 8          </td><td>t2          </td><td>15.9948606  </td><td>-0.005139422</td></tr>\n",
       "\t<tr><td> 9          </td><td>t2          </td><td>17.9814433  </td><td>-0.018556727</td></tr>\n",
       "\t<tr><td>10          </td><td>t2          </td><td>20.0706583  </td><td> 0.070658276</td></tr>\n",
       "\t<tr><td> 1          </td><td>t1          </td><td> 0.9608387  </td><td>-0.039161259</td></tr>\n",
       "\t<tr><td> 2          </td><td>t1          </td><td> 2.0267897  </td><td> 0.026789747</td></tr>\n",
       "\t<tr><td> 3          </td><td>t1          </td><td> 2.9177290  </td><td>-0.082271013</td></tr>\n",
       "\t<tr><td> 4          </td><td>t1          </td><td> 3.9467534  </td><td>-0.053246569</td></tr>\n",
       "\t<tr><td> 5          </td><td>t1          </td><td> 5.0340156  </td><td> 0.034015561</td></tr>\n",
       "\t<tr><td> 6          </td><td>t1          </td><td> 6.0447867  </td><td> 0.044786676</td></tr>\n",
       "\t<tr><td> 7          </td><td>t1          </td><td> 6.9471870  </td><td>-0.052813046</td></tr>\n",
       "\t<tr><td> 8          </td><td>t1          </td><td> 8.0205163  </td><td> 0.020516265</td></tr>\n",
       "\t<tr><td> 9          </td><td>t1          </td><td> 8.9359922  </td><td>-0.064007769</td></tr>\n",
       "\t<tr><td>10          </td><td>t1          </td><td>10.0013729  </td><td> 0.001372936</td></tr>\n",
       "\t<tr><td> 1          </td><td>t2          </td><td> 1.9076066  </td><td>-0.092393352</td></tr>\n",
       "\t<tr><td> 2          </td><td>t2          </td><td> 3.9216544  </td><td>-0.078345629</td></tr>\n",
       "\t<tr><td> 3          </td><td>t2          </td><td> 5.9047371  </td><td>-0.095262873</td></tr>\n",
       "\t<tr><td> 4          </td><td>t2          </td><td> 7.9451692  </td><td>-0.054830831</td></tr>\n",
       "\t<tr><td> 5          </td><td>t2          </td><td>10.0706839  </td><td> 0.070683864</td></tr>\n",
       "\t<tr><td> 6          </td><td>t2          </td><td>11.9154638  </td><td>-0.084536184</td></tr>\n",
       "\t<tr><td> 7          </td><td>t2          </td><td>13.9948929  </td><td>-0.005107067</td></tr>\n",
       "\t<tr><td> 8          </td><td>t2          </td><td>15.9483586  </td><td>-0.051641405</td></tr>\n",
       "\t<tr><td> 9          </td><td>t2          </td><td>17.9686723  </td><td>-0.031327676</td></tr>\n",
       "\t<tr><td>10          </td><td>t2          </td><td>19.9371683  </td><td>-0.062831726</td></tr>\n",
       "</tbody>\n",
       "</table>\n"
      ],
      "text/latex": [
       "\\begin{tabular}{r|llll}\n",
       " n & alg & time & error\\\\\n",
       "\\hline\n",
       "\t  1           & t1           &  1.010572    &  0.010572148\\\\\n",
       "\t  2           & t1           &  1.981689    & -0.018310993\\\\\n",
       "\t  3           & t1           &  3.066268    &  0.066268043\\\\\n",
       "\t  4           & t1           &  4.060221    &  0.060220570\\\\\n",
       "\t  5           & t1           &  5.029502    &  0.029502051\\\\\n",
       "\t  6           & t1           &  6.045928    &  0.045927536\\\\\n",
       "\t  7           & t1           &  6.957461    & -0.042538559\\\\\n",
       "\t  8           & t1           &  8.009891    &  0.009891313\\\\\n",
       "\t  9           & t1           &  9.053959    &  0.053959370\\\\\n",
       "\t 10           & t1           &  9.982560    & -0.017439984\\\\\n",
       "\t  1           & t2           &  1.997585    & -0.002414813\\\\\n",
       "\t  2           & t2           &  3.953772    & -0.046227795\\\\\n",
       "\t  3           & t2           &  5.978172    & -0.021827928\\\\\n",
       "\t  4           & t2           &  8.052453    &  0.052453117\\\\\n",
       "\t  5           & t2           & 10.072778    &  0.072777961\\\\\n",
       "\t  6           & t2           & 11.957002    & -0.042997938\\\\\n",
       "\t  7           & t2           & 14.002079    &  0.002078900\\\\\n",
       "\t  8           & t2           & 16.031059    &  0.031058822\\\\\n",
       "\t  9           & t2           & 18.046717    &  0.046716672\\\\\n",
       "\t 10           & t2           & 20.046959    &  0.046959194\\\\\n",
       "\t  1           & t1           &  1.079367    &  0.079366812\\\\\n",
       "\t  2           & t1           &  2.034495    &  0.034494559\\\\\n",
       "\t  3           & t1           &  2.942990    & -0.057010017\\\\\n",
       "\t  4           & t1           &  3.936265    & -0.063734966\\\\\n",
       "\t  5           & t1           &  4.971931    & -0.028069105\\\\\n",
       "\t  6           & t1           &  5.935258    & -0.064741864\\\\\n",
       "\t  7           & t1           &  6.930239    & -0.069760726\\\\\n",
       "\t  8           & t1           &  8.088869    &  0.088868510\\\\\n",
       "\t  9           & t1           &  8.949670    & -0.050330255\\\\\n",
       "\t 10           & t1           &  9.963969    & -0.036030556\\\\\n",
       "\t ... & ... & ... & ...\\\\\n",
       "\t  1           & t2           &  2.0298945   &  0.029894485\\\\\n",
       "\t  2           & t2           &  3.9258667   & -0.074133292\\\\\n",
       "\t  3           & t2           &  6.0798658   &  0.079865815\\\\\n",
       "\t  4           & t2           &  8.0427000   &  0.042699961\\\\\n",
       "\t  5           & t2           & 10.0047110   &  0.004710953\\\\\n",
       "\t  6           & t2           & 12.0451718   &  0.045171754\\\\\n",
       "\t  7           & t2           & 14.0277883   &  0.027788304\\\\\n",
       "\t  8           & t2           & 15.9948606   & -0.005139422\\\\\n",
       "\t  9           & t2           & 17.9814433   & -0.018556727\\\\\n",
       "\t 10           & t2           & 20.0706583   &  0.070658276\\\\\n",
       "\t  1           & t1           &  0.9608387   & -0.039161259\\\\\n",
       "\t  2           & t1           &  2.0267897   &  0.026789747\\\\\n",
       "\t  3           & t1           &  2.9177290   & -0.082271013\\\\\n",
       "\t  4           & t1           &  3.9467534   & -0.053246569\\\\\n",
       "\t  5           & t1           &  5.0340156   &  0.034015561\\\\\n",
       "\t  6           & t1           &  6.0447867   &  0.044786676\\\\\n",
       "\t  7           & t1           &  6.9471870   & -0.052813046\\\\\n",
       "\t  8           & t1           &  8.0205163   &  0.020516265\\\\\n",
       "\t  9           & t1           &  8.9359922   & -0.064007769\\\\\n",
       "\t 10           & t1           & 10.0013729   &  0.001372936\\\\\n",
       "\t  1           & t2           &  1.9076066   & -0.092393352\\\\\n",
       "\t  2           & t2           &  3.9216544   & -0.078345629\\\\\n",
       "\t  3           & t2           &  5.9047371   & -0.095262873\\\\\n",
       "\t  4           & t2           &  7.9451692   & -0.054830831\\\\\n",
       "\t  5           & t2           & 10.0706839   &  0.070683864\\\\\n",
       "\t  6           & t2           & 11.9154638   & -0.084536184\\\\\n",
       "\t  7           & t2           & 13.9948929   & -0.005107067\\\\\n",
       "\t  8           & t2           & 15.9483586   & -0.051641405\\\\\n",
       "\t  9           & t2           & 17.9686723   & -0.031327676\\\\\n",
       "\t 10           & t2           & 19.9371683   & -0.062831726\\\\\n",
       "\\end{tabular}\n"
      ],
      "text/markdown": [
       "\n",
       "| n | alg | time | error |\n",
       "|---|---|---|---|\n",
       "|  1           | t1           |  1.010572    |  0.010572148 |\n",
       "|  2           | t1           |  1.981689    | -0.018310993 |\n",
       "|  3           | t1           |  3.066268    |  0.066268043 |\n",
       "|  4           | t1           |  4.060221    |  0.060220570 |\n",
       "|  5           | t1           |  5.029502    |  0.029502051 |\n",
       "|  6           | t1           |  6.045928    |  0.045927536 |\n",
       "|  7           | t1           |  6.957461    | -0.042538559 |\n",
       "|  8           | t1           |  8.009891    |  0.009891313 |\n",
       "|  9           | t1           |  9.053959    |  0.053959370 |\n",
       "| 10           | t1           |  9.982560    | -0.017439984 |\n",
       "|  1           | t2           |  1.997585    | -0.002414813 |\n",
       "|  2           | t2           |  3.953772    | -0.046227795 |\n",
       "|  3           | t2           |  5.978172    | -0.021827928 |\n",
       "|  4           | t2           |  8.052453    |  0.052453117 |\n",
       "|  5           | t2           | 10.072778    |  0.072777961 |\n",
       "|  6           | t2           | 11.957002    | -0.042997938 |\n",
       "|  7           | t2           | 14.002079    |  0.002078900 |\n",
       "|  8           | t2           | 16.031059    |  0.031058822 |\n",
       "|  9           | t2           | 18.046717    |  0.046716672 |\n",
       "| 10           | t2           | 20.046959    |  0.046959194 |\n",
       "|  1           | t1           |  1.079367    |  0.079366812 |\n",
       "|  2           | t1           |  2.034495    |  0.034494559 |\n",
       "|  3           | t1           |  2.942990    | -0.057010017 |\n",
       "|  4           | t1           |  3.936265    | -0.063734966 |\n",
       "|  5           | t1           |  4.971931    | -0.028069105 |\n",
       "|  6           | t1           |  5.935258    | -0.064741864 |\n",
       "|  7           | t1           |  6.930239    | -0.069760726 |\n",
       "|  8           | t1           |  8.088869    |  0.088868510 |\n",
       "|  9           | t1           |  8.949670    | -0.050330255 |\n",
       "| 10           | t1           |  9.963969    | -0.036030556 |\n",
       "| ... | ... | ... | ... |\n",
       "|  1           | t2           |  2.0298945   |  0.029894485 |\n",
       "|  2           | t2           |  3.9258667   | -0.074133292 |\n",
       "|  3           | t2           |  6.0798658   |  0.079865815 |\n",
       "|  4           | t2           |  8.0427000   |  0.042699961 |\n",
       "|  5           | t2           | 10.0047110   |  0.004710953 |\n",
       "|  6           | t2           | 12.0451718   |  0.045171754 |\n",
       "|  7           | t2           | 14.0277883   |  0.027788304 |\n",
       "|  8           | t2           | 15.9948606   | -0.005139422 |\n",
       "|  9           | t2           | 17.9814433   | -0.018556727 |\n",
       "| 10           | t2           | 20.0706583   |  0.070658276 |\n",
       "|  1           | t1           |  0.9608387   | -0.039161259 |\n",
       "|  2           | t1           |  2.0267897   |  0.026789747 |\n",
       "|  3           | t1           |  2.9177290   | -0.082271013 |\n",
       "|  4           | t1           |  3.9467534   | -0.053246569 |\n",
       "|  5           | t1           |  5.0340156   |  0.034015561 |\n",
       "|  6           | t1           |  6.0447867   |  0.044786676 |\n",
       "|  7           | t1           |  6.9471870   | -0.052813046 |\n",
       "|  8           | t1           |  8.0205163   |  0.020516265 |\n",
       "|  9           | t1           |  8.9359922   | -0.064007769 |\n",
       "| 10           | t1           | 10.0013729   |  0.001372936 |\n",
       "|  1           | t2           |  1.9076066   | -0.092393352 |\n",
       "|  2           | t2           |  3.9216544   | -0.078345629 |\n",
       "|  3           | t2           |  5.9047371   | -0.095262873 |\n",
       "|  4           | t2           |  7.9451692   | -0.054830831 |\n",
       "|  5           | t2           | 10.0706839   |  0.070683864 |\n",
       "|  6           | t2           | 11.9154638   | -0.084536184 |\n",
       "|  7           | t2           | 13.9948929   | -0.005107067 |\n",
       "|  8           | t2           | 15.9483586   | -0.051641405 |\n",
       "|  9           | t2           | 17.9686723   | -0.031327676 |\n",
       "| 10           | t2           | 19.9371683   | -0.062831726 |\n",
       "\n"
      ],
      "text/plain": [
       "    n   alg time       error       \n",
       "1    1  t1   1.010572   0.010572148\n",
       "2    2  t1   1.981689  -0.018310993\n",
       "3    3  t1   3.066268   0.066268043\n",
       "4    4  t1   4.060221   0.060220570\n",
       "5    5  t1   5.029502   0.029502051\n",
       "6    6  t1   6.045928   0.045927536\n",
       "7    7  t1   6.957461  -0.042538559\n",
       "8    8  t1   8.009891   0.009891313\n",
       "9    9  t1   9.053959   0.053959370\n",
       "10  10  t1   9.982560  -0.017439984\n",
       "11   1  t2   1.997585  -0.002414813\n",
       "12   2  t2   3.953772  -0.046227795\n",
       "13   3  t2   5.978172  -0.021827928\n",
       "14   4  t2   8.052453   0.052453117\n",
       "15   5  t2  10.072778   0.072777961\n",
       "16   6  t2  11.957002  -0.042997938\n",
       "17   7  t2  14.002079   0.002078900\n",
       "18   8  t2  16.031059   0.031058822\n",
       "19   9  t2  18.046717   0.046716672\n",
       "20  10  t2  20.046959   0.046959194\n",
       "21   1  t1   1.079367   0.079366812\n",
       "22   2  t1   2.034495   0.034494559\n",
       "23   3  t1   2.942990  -0.057010017\n",
       "24   4  t1   3.936265  -0.063734966\n",
       "25   5  t1   4.971931  -0.028069105\n",
       "26   6  t1   5.935258  -0.064741864\n",
       "27   7  t1   6.930239  -0.069760726\n",
       "28   8  t1   8.088869   0.088868510\n",
       "29   9  t1   8.949670  -0.050330255\n",
       "30  10  t1   9.963969  -0.036030556\n",
       "... ... ... ...        ...         \n",
       "71   1  t2   2.0298945  0.029894485\n",
       "72   2  t2   3.9258667 -0.074133292\n",
       "73   3  t2   6.0798658  0.079865815\n",
       "74   4  t2   8.0427000  0.042699961\n",
       "75   5  t2  10.0047110  0.004710953\n",
       "76   6  t2  12.0451718  0.045171754\n",
       "77   7  t2  14.0277883  0.027788304\n",
       "78   8  t2  15.9948606 -0.005139422\n",
       "79   9  t2  17.9814433 -0.018556727\n",
       "80  10  t2  20.0706583  0.070658276\n",
       "81   1  t1   0.9608387 -0.039161259\n",
       "82   2  t1   2.0267897  0.026789747\n",
       "83   3  t1   2.9177290 -0.082271013\n",
       "84   4  t1   3.9467534 -0.053246569\n",
       "85   5  t1   5.0340156  0.034015561\n",
       "86   6  t1   6.0447867  0.044786676\n",
       "87   7  t1   6.9471870 -0.052813046\n",
       "88   8  t1   8.0205163  0.020516265\n",
       "89   9  t1   8.9359922 -0.064007769\n",
       "90  10  t1  10.0013729  0.001372936\n",
       "91   1  t2   1.9076066 -0.092393352\n",
       "92   2  t2   3.9216544 -0.078345629\n",
       "93   3  t2   5.9047371 -0.095262873\n",
       "94   4  t2   7.9451692 -0.054830831\n",
       "95   5  t2  10.0706839  0.070683864\n",
       "96   6  t2  11.9154638 -0.084536184\n",
       "97   7  t2  13.9948929 -0.005107067\n",
       "98   8  t2  15.9483586 -0.051641405\n",
       "99   9  t2  17.9686723 -0.031327676\n",
       "100 10  t2  19.9371683 -0.062831726"
      ]
     },
     "metadata": {},
     "output_type": "display_data"
    }
   ],
   "source": [
    "results <- read.csv(\"data2.txt\")\n",
    "\n",
    "results"
   ]
  },
  {
   "cell_type": "code",
   "execution_count": 36,
   "metadata": {},
   "outputs": [
    {
     "data": {
      "text/html": [
       "'factor'"
      ],
      "text/latex": [
       "'factor'"
      ],
      "text/markdown": [
       "'factor'"
      ],
      "text/plain": [
       "[1] \"factor\""
      ]
     },
     "metadata": {},
     "output_type": "display_data"
    }
   ],
   "source": [
    "class(results$alg)"
   ]
  },
  {
   "cell_type": "markdown",
   "metadata": {},
   "source": [
    "Dodanie nowej kolumny:"
   ]
  },
  {
   "cell_type": "code",
   "execution_count": 37,
   "metadata": {
    "scrolled": true
   },
   "outputs": [
    {
     "data": {
      "text/html": [
       "<table>\n",
       "<thead><tr><th scope=col>n</th><th scope=col>alg</th><th scope=col>time</th><th scope=col>error</th><th scope=col>speed</th></tr></thead>\n",
       "<tbody>\n",
       "\t<tr><td> 1          </td><td>t1          </td><td> 1.010572   </td><td> 0.010572148</td><td>0.9895385   </td></tr>\n",
       "\t<tr><td> 2          </td><td>t1          </td><td> 1.981689   </td><td>-0.018310993</td><td>1.0092401   </td></tr>\n",
       "\t<tr><td> 3          </td><td>t1          </td><td> 3.066268   </td><td> 0.066268043</td><td>0.9783880   </td></tr>\n",
       "\t<tr><td> 4          </td><td>t1          </td><td> 4.060221   </td><td> 0.060220570</td><td>0.9851682   </td></tr>\n",
       "\t<tr><td> 5          </td><td>t1          </td><td> 5.029502   </td><td> 0.029502051</td><td>0.9941342   </td></tr>\n",
       "\t<tr><td> 6          </td><td>t1          </td><td> 6.045928   </td><td> 0.045927536</td><td>0.9924036   </td></tr>\n",
       "\t<tr><td> 7          </td><td>t1          </td><td> 6.957461   </td><td>-0.042538559</td><td>1.0061141   </td></tr>\n",
       "\t<tr><td> 8          </td><td>t1          </td><td> 8.009891   </td><td> 0.009891313</td><td>0.9987651   </td></tr>\n",
       "\t<tr><td> 9          </td><td>t1          </td><td> 9.053959   </td><td> 0.053959370</td><td>0.9940402   </td></tr>\n",
       "\t<tr><td>10          </td><td>t1          </td><td> 9.982560   </td><td>-0.017439984</td><td>1.0017470   </td></tr>\n",
       "\t<tr><td> 1          </td><td>t2          </td><td> 1.997585   </td><td>-0.002414813</td><td>0.5006044   </td></tr>\n",
       "\t<tr><td> 2          </td><td>t2          </td><td> 3.953772   </td><td>-0.046227795</td><td>0.5058460   </td></tr>\n",
       "\t<tr><td> 3          </td><td>t2          </td><td> 5.978172   </td><td>-0.021827928</td><td>0.5018256   </td></tr>\n",
       "\t<tr><td> 4          </td><td>t2          </td><td> 8.052453   </td><td> 0.052453117</td><td>0.4967430   </td></tr>\n",
       "\t<tr><td> 5          </td><td>t2          </td><td>10.072778   </td><td> 0.072777961</td><td>0.4963874   </td></tr>\n",
       "\t<tr><td> 6          </td><td>t2          </td><td>11.957002   </td><td>-0.042997938</td><td>0.5017980   </td></tr>\n",
       "\t<tr><td> 7          </td><td>t2          </td><td>14.002079   </td><td> 0.002078900</td><td>0.4999258   </td></tr>\n",
       "\t<tr><td> 8          </td><td>t2          </td><td>16.031059   </td><td> 0.031058822</td><td>0.4990313   </td></tr>\n",
       "\t<tr><td> 9          </td><td>t2          </td><td>18.046717   </td><td> 0.046716672</td><td>0.4987057   </td></tr>\n",
       "\t<tr><td>10          </td><td>t2          </td><td>20.046959   </td><td> 0.046959194</td><td>0.4988288   </td></tr>\n",
       "\t<tr><td> 1          </td><td>t1          </td><td> 1.079367   </td><td> 0.079366812</td><td>0.9264691   </td></tr>\n",
       "\t<tr><td> 2          </td><td>t1          </td><td> 2.034495   </td><td> 0.034494559</td><td>0.9830451   </td></tr>\n",
       "\t<tr><td> 3          </td><td>t1          </td><td> 2.942990   </td><td>-0.057010017</td><td>1.0193715   </td></tr>\n",
       "\t<tr><td> 4          </td><td>t1          </td><td> 3.936265   </td><td>-0.063734966</td><td>1.0161917   </td></tr>\n",
       "\t<tr><td> 5          </td><td>t1          </td><td> 4.971931   </td><td>-0.028069105</td><td>1.0056455   </td></tr>\n",
       "\t<tr><td> 6          </td><td>t1          </td><td> 5.935258   </td><td>-0.064741864</td><td>1.0109080   </td></tr>\n",
       "\t<tr><td> 7          </td><td>t1          </td><td> 6.930239   </td><td>-0.069760726</td><td>1.0100661   </td></tr>\n",
       "\t<tr><td> 8          </td><td>t1          </td><td> 8.088869   </td><td> 0.088868510</td><td>0.9890135   </td></tr>\n",
       "\t<tr><td> 9          </td><td>t1          </td><td> 8.949670   </td><td>-0.050330255</td><td>1.0056237   </td></tr>\n",
       "\t<tr><td>10          </td><td>t1          </td><td> 9.963969   </td><td>-0.036030556</td><td>1.0036161   </td></tr>\n",
       "\t<tr><td>...</td><td>...</td><td>...</td><td>...</td><td>...</td></tr>\n",
       "\t<tr><td> 1          </td><td>t2          </td><td> 2.0298945  </td><td> 0.029894485</td><td>0.4926364   </td></tr>\n",
       "\t<tr><td> 2          </td><td>t2          </td><td> 3.9258667  </td><td>-0.074133292</td><td>0.5094416   </td></tr>\n",
       "\t<tr><td> 3          </td><td>t2          </td><td> 6.0798658  </td><td> 0.079865815</td><td>0.4934319   </td></tr>\n",
       "\t<tr><td> 4          </td><td>t2          </td><td> 8.0427000  </td><td> 0.042699961</td><td>0.4973454   </td></tr>\n",
       "\t<tr><td> 5          </td><td>t2          </td><td>10.0047110  </td><td> 0.004710953</td><td>0.4997646   </td></tr>\n",
       "\t<tr><td> 6          </td><td>t2          </td><td>12.0451718  </td><td> 0.045171754</td><td>0.4981249   </td></tr>\n",
       "\t<tr><td> 7          </td><td>t2          </td><td>14.0277883  </td><td> 0.027788304</td><td>0.4990095   </td></tr>\n",
       "\t<tr><td> 8          </td><td>t2          </td><td>15.9948606  </td><td>-0.005139422</td><td>0.5001607   </td></tr>\n",
       "\t<tr><td> 9          </td><td>t2          </td><td>17.9814433  </td><td>-0.018556727</td><td>0.5005160   </td></tr>\n",
       "\t<tr><td>10          </td><td>t2          </td><td>20.0706583  </td><td> 0.070658276</td><td>0.4982398   </td></tr>\n",
       "\t<tr><td> 1          </td><td>t1          </td><td> 0.9608387  </td><td>-0.039161259</td><td>1.0407574   </td></tr>\n",
       "\t<tr><td> 2          </td><td>t1          </td><td> 2.0267897  </td><td> 0.026789747</td><td>0.9867822   </td></tr>\n",
       "\t<tr><td> 3          </td><td>t1          </td><td> 2.9177290  </td><td>-0.082271013</td><td>1.0281969   </td></tr>\n",
       "\t<tr><td> 4          </td><td>t1          </td><td> 3.9467534  </td><td>-0.053246569</td><td>1.0134912   </td></tr>\n",
       "\t<tr><td> 5          </td><td>t1          </td><td> 5.0340156  </td><td> 0.034015561</td><td>0.9932429   </td></tr>\n",
       "\t<tr><td> 6          </td><td>t1          </td><td> 6.0447867  </td><td> 0.044786676</td><td>0.9925909   </td></tr>\n",
       "\t<tr><td> 7          </td><td>t1          </td><td> 6.9471870  </td><td>-0.052813046</td><td>1.0076021   </td></tr>\n",
       "\t<tr><td> 8          </td><td>t1          </td><td> 8.0205163  </td><td> 0.020516265</td><td>0.9974420   </td></tr>\n",
       "\t<tr><td> 9          </td><td>t1          </td><td> 8.9359922  </td><td>-0.064007769</td><td>1.0071629   </td></tr>\n",
       "\t<tr><td>10          </td><td>t1          </td><td>10.0013729  </td><td> 0.001372936</td><td>0.9998627   </td></tr>\n",
       "\t<tr><td> 1          </td><td>t2          </td><td> 1.9076066  </td><td>-0.092393352</td><td>0.5242171   </td></tr>\n",
       "\t<tr><td> 2          </td><td>t2          </td><td> 3.9216544  </td><td>-0.078345629</td><td>0.5099888   </td></tr>\n",
       "\t<tr><td> 3          </td><td>t2          </td><td> 5.9047371  </td><td>-0.095262873</td><td>0.5080666   </td></tr>\n",
       "\t<tr><td> 4          </td><td>t2          </td><td> 7.9451692  </td><td>-0.054830831</td><td>0.5034506   </td></tr>\n",
       "\t<tr><td> 5          </td><td>t2          </td><td>10.0706839  </td><td> 0.070683864</td><td>0.4964906   </td></tr>\n",
       "\t<tr><td> 6          </td><td>t2          </td><td>11.9154638  </td><td>-0.084536184</td><td>0.5035473   </td></tr>\n",
       "\t<tr><td> 7          </td><td>t2          </td><td>13.9948929  </td><td>-0.005107067</td><td>0.5001825   </td></tr>\n",
       "\t<tr><td> 8          </td><td>t2          </td><td>15.9483586  </td><td>-0.051641405</td><td>0.5016190   </td></tr>\n",
       "\t<tr><td> 9          </td><td>t2          </td><td>17.9686723  </td><td>-0.031327676</td><td>0.5008717   </td></tr>\n",
       "\t<tr><td>10          </td><td>t2          </td><td>19.9371683  </td><td>-0.062831726</td><td>0.5015757   </td></tr>\n",
       "</tbody>\n",
       "</table>\n"
      ],
      "text/latex": [
       "\\begin{tabular}{r|lllll}\n",
       " n & alg & time & error & speed\\\\\n",
       "\\hline\n",
       "\t  1           & t1           &  1.010572    &  0.010572148 & 0.9895385   \\\\\n",
       "\t  2           & t1           &  1.981689    & -0.018310993 & 1.0092401   \\\\\n",
       "\t  3           & t1           &  3.066268    &  0.066268043 & 0.9783880   \\\\\n",
       "\t  4           & t1           &  4.060221    &  0.060220570 & 0.9851682   \\\\\n",
       "\t  5           & t1           &  5.029502    &  0.029502051 & 0.9941342   \\\\\n",
       "\t  6           & t1           &  6.045928    &  0.045927536 & 0.9924036   \\\\\n",
       "\t  7           & t1           &  6.957461    & -0.042538559 & 1.0061141   \\\\\n",
       "\t  8           & t1           &  8.009891    &  0.009891313 & 0.9987651   \\\\\n",
       "\t  9           & t1           &  9.053959    &  0.053959370 & 0.9940402   \\\\\n",
       "\t 10           & t1           &  9.982560    & -0.017439984 & 1.0017470   \\\\\n",
       "\t  1           & t2           &  1.997585    & -0.002414813 & 0.5006044   \\\\\n",
       "\t  2           & t2           &  3.953772    & -0.046227795 & 0.5058460   \\\\\n",
       "\t  3           & t2           &  5.978172    & -0.021827928 & 0.5018256   \\\\\n",
       "\t  4           & t2           &  8.052453    &  0.052453117 & 0.4967430   \\\\\n",
       "\t  5           & t2           & 10.072778    &  0.072777961 & 0.4963874   \\\\\n",
       "\t  6           & t2           & 11.957002    & -0.042997938 & 0.5017980   \\\\\n",
       "\t  7           & t2           & 14.002079    &  0.002078900 & 0.4999258   \\\\\n",
       "\t  8           & t2           & 16.031059    &  0.031058822 & 0.4990313   \\\\\n",
       "\t  9           & t2           & 18.046717    &  0.046716672 & 0.4987057   \\\\\n",
       "\t 10           & t2           & 20.046959    &  0.046959194 & 0.4988288   \\\\\n",
       "\t  1           & t1           &  1.079367    &  0.079366812 & 0.9264691   \\\\\n",
       "\t  2           & t1           &  2.034495    &  0.034494559 & 0.9830451   \\\\\n",
       "\t  3           & t1           &  2.942990    & -0.057010017 & 1.0193715   \\\\\n",
       "\t  4           & t1           &  3.936265    & -0.063734966 & 1.0161917   \\\\\n",
       "\t  5           & t1           &  4.971931    & -0.028069105 & 1.0056455   \\\\\n",
       "\t  6           & t1           &  5.935258    & -0.064741864 & 1.0109080   \\\\\n",
       "\t  7           & t1           &  6.930239    & -0.069760726 & 1.0100661   \\\\\n",
       "\t  8           & t1           &  8.088869    &  0.088868510 & 0.9890135   \\\\\n",
       "\t  9           & t1           &  8.949670    & -0.050330255 & 1.0056237   \\\\\n",
       "\t 10           & t1           &  9.963969    & -0.036030556 & 1.0036161   \\\\\n",
       "\t ... & ... & ... & ... & ...\\\\\n",
       "\t  1           & t2           &  2.0298945   &  0.029894485 & 0.4926364   \\\\\n",
       "\t  2           & t2           &  3.9258667   & -0.074133292 & 0.5094416   \\\\\n",
       "\t  3           & t2           &  6.0798658   &  0.079865815 & 0.4934319   \\\\\n",
       "\t  4           & t2           &  8.0427000   &  0.042699961 & 0.4973454   \\\\\n",
       "\t  5           & t2           & 10.0047110   &  0.004710953 & 0.4997646   \\\\\n",
       "\t  6           & t2           & 12.0451718   &  0.045171754 & 0.4981249   \\\\\n",
       "\t  7           & t2           & 14.0277883   &  0.027788304 & 0.4990095   \\\\\n",
       "\t  8           & t2           & 15.9948606   & -0.005139422 & 0.5001607   \\\\\n",
       "\t  9           & t2           & 17.9814433   & -0.018556727 & 0.5005160   \\\\\n",
       "\t 10           & t2           & 20.0706583   &  0.070658276 & 0.4982398   \\\\\n",
       "\t  1           & t1           &  0.9608387   & -0.039161259 & 1.0407574   \\\\\n",
       "\t  2           & t1           &  2.0267897   &  0.026789747 & 0.9867822   \\\\\n",
       "\t  3           & t1           &  2.9177290   & -0.082271013 & 1.0281969   \\\\\n",
       "\t  4           & t1           &  3.9467534   & -0.053246569 & 1.0134912   \\\\\n",
       "\t  5           & t1           &  5.0340156   &  0.034015561 & 0.9932429   \\\\\n",
       "\t  6           & t1           &  6.0447867   &  0.044786676 & 0.9925909   \\\\\n",
       "\t  7           & t1           &  6.9471870   & -0.052813046 & 1.0076021   \\\\\n",
       "\t  8           & t1           &  8.0205163   &  0.020516265 & 0.9974420   \\\\\n",
       "\t  9           & t1           &  8.9359922   & -0.064007769 & 1.0071629   \\\\\n",
       "\t 10           & t1           & 10.0013729   &  0.001372936 & 0.9998627   \\\\\n",
       "\t  1           & t2           &  1.9076066   & -0.092393352 & 0.5242171   \\\\\n",
       "\t  2           & t2           &  3.9216544   & -0.078345629 & 0.5099888   \\\\\n",
       "\t  3           & t2           &  5.9047371   & -0.095262873 & 0.5080666   \\\\\n",
       "\t  4           & t2           &  7.9451692   & -0.054830831 & 0.5034506   \\\\\n",
       "\t  5           & t2           & 10.0706839   &  0.070683864 & 0.4964906   \\\\\n",
       "\t  6           & t2           & 11.9154638   & -0.084536184 & 0.5035473   \\\\\n",
       "\t  7           & t2           & 13.9948929   & -0.005107067 & 0.5001825   \\\\\n",
       "\t  8           & t2           & 15.9483586   & -0.051641405 & 0.5016190   \\\\\n",
       "\t  9           & t2           & 17.9686723   & -0.031327676 & 0.5008717   \\\\\n",
       "\t 10           & t2           & 19.9371683   & -0.062831726 & 0.5015757   \\\\\n",
       "\\end{tabular}\n"
      ],
      "text/markdown": [
       "\n",
       "| n | alg | time | error | speed |\n",
       "|---|---|---|---|---|\n",
       "|  1           | t1           |  1.010572    |  0.010572148 | 0.9895385    |\n",
       "|  2           | t1           |  1.981689    | -0.018310993 | 1.0092401    |\n",
       "|  3           | t1           |  3.066268    |  0.066268043 | 0.9783880    |\n",
       "|  4           | t1           |  4.060221    |  0.060220570 | 0.9851682    |\n",
       "|  5           | t1           |  5.029502    |  0.029502051 | 0.9941342    |\n",
       "|  6           | t1           |  6.045928    |  0.045927536 | 0.9924036    |\n",
       "|  7           | t1           |  6.957461    | -0.042538559 | 1.0061141    |\n",
       "|  8           | t1           |  8.009891    |  0.009891313 | 0.9987651    |\n",
       "|  9           | t1           |  9.053959    |  0.053959370 | 0.9940402    |\n",
       "| 10           | t1           |  9.982560    | -0.017439984 | 1.0017470    |\n",
       "|  1           | t2           |  1.997585    | -0.002414813 | 0.5006044    |\n",
       "|  2           | t2           |  3.953772    | -0.046227795 | 0.5058460    |\n",
       "|  3           | t2           |  5.978172    | -0.021827928 | 0.5018256    |\n",
       "|  4           | t2           |  8.052453    |  0.052453117 | 0.4967430    |\n",
       "|  5           | t2           | 10.072778    |  0.072777961 | 0.4963874    |\n",
       "|  6           | t2           | 11.957002    | -0.042997938 | 0.5017980    |\n",
       "|  7           | t2           | 14.002079    |  0.002078900 | 0.4999258    |\n",
       "|  8           | t2           | 16.031059    |  0.031058822 | 0.4990313    |\n",
       "|  9           | t2           | 18.046717    |  0.046716672 | 0.4987057    |\n",
       "| 10           | t2           | 20.046959    |  0.046959194 | 0.4988288    |\n",
       "|  1           | t1           |  1.079367    |  0.079366812 | 0.9264691    |\n",
       "|  2           | t1           |  2.034495    |  0.034494559 | 0.9830451    |\n",
       "|  3           | t1           |  2.942990    | -0.057010017 | 1.0193715    |\n",
       "|  4           | t1           |  3.936265    | -0.063734966 | 1.0161917    |\n",
       "|  5           | t1           |  4.971931    | -0.028069105 | 1.0056455    |\n",
       "|  6           | t1           |  5.935258    | -0.064741864 | 1.0109080    |\n",
       "|  7           | t1           |  6.930239    | -0.069760726 | 1.0100661    |\n",
       "|  8           | t1           |  8.088869    |  0.088868510 | 0.9890135    |\n",
       "|  9           | t1           |  8.949670    | -0.050330255 | 1.0056237    |\n",
       "| 10           | t1           |  9.963969    | -0.036030556 | 1.0036161    |\n",
       "| ... | ... | ... | ... | ... |\n",
       "|  1           | t2           |  2.0298945   |  0.029894485 | 0.4926364    |\n",
       "|  2           | t2           |  3.9258667   | -0.074133292 | 0.5094416    |\n",
       "|  3           | t2           |  6.0798658   |  0.079865815 | 0.4934319    |\n",
       "|  4           | t2           |  8.0427000   |  0.042699961 | 0.4973454    |\n",
       "|  5           | t2           | 10.0047110   |  0.004710953 | 0.4997646    |\n",
       "|  6           | t2           | 12.0451718   |  0.045171754 | 0.4981249    |\n",
       "|  7           | t2           | 14.0277883   |  0.027788304 | 0.4990095    |\n",
       "|  8           | t2           | 15.9948606   | -0.005139422 | 0.5001607    |\n",
       "|  9           | t2           | 17.9814433   | -0.018556727 | 0.5005160    |\n",
       "| 10           | t2           | 20.0706583   |  0.070658276 | 0.4982398    |\n",
       "|  1           | t1           |  0.9608387   | -0.039161259 | 1.0407574    |\n",
       "|  2           | t1           |  2.0267897   |  0.026789747 | 0.9867822    |\n",
       "|  3           | t1           |  2.9177290   | -0.082271013 | 1.0281969    |\n",
       "|  4           | t1           |  3.9467534   | -0.053246569 | 1.0134912    |\n",
       "|  5           | t1           |  5.0340156   |  0.034015561 | 0.9932429    |\n",
       "|  6           | t1           |  6.0447867   |  0.044786676 | 0.9925909    |\n",
       "|  7           | t1           |  6.9471870   | -0.052813046 | 1.0076021    |\n",
       "|  8           | t1           |  8.0205163   |  0.020516265 | 0.9974420    |\n",
       "|  9           | t1           |  8.9359922   | -0.064007769 | 1.0071629    |\n",
       "| 10           | t1           | 10.0013729   |  0.001372936 | 0.9998627    |\n",
       "|  1           | t2           |  1.9076066   | -0.092393352 | 0.5242171    |\n",
       "|  2           | t2           |  3.9216544   | -0.078345629 | 0.5099888    |\n",
       "|  3           | t2           |  5.9047371   | -0.095262873 | 0.5080666    |\n",
       "|  4           | t2           |  7.9451692   | -0.054830831 | 0.5034506    |\n",
       "|  5           | t2           | 10.0706839   |  0.070683864 | 0.4964906    |\n",
       "|  6           | t2           | 11.9154638   | -0.084536184 | 0.5035473    |\n",
       "|  7           | t2           | 13.9948929   | -0.005107067 | 0.5001825    |\n",
       "|  8           | t2           | 15.9483586   | -0.051641405 | 0.5016190    |\n",
       "|  9           | t2           | 17.9686723   | -0.031327676 | 0.5008717    |\n",
       "| 10           | t2           | 19.9371683   | -0.062831726 | 0.5015757    |\n",
       "\n"
      ],
      "text/plain": [
       "    n   alg time       error        speed    \n",
       "1    1  t1   1.010572   0.010572148 0.9895385\n",
       "2    2  t1   1.981689  -0.018310993 1.0092401\n",
       "3    3  t1   3.066268   0.066268043 0.9783880\n",
       "4    4  t1   4.060221   0.060220570 0.9851682\n",
       "5    5  t1   5.029502   0.029502051 0.9941342\n",
       "6    6  t1   6.045928   0.045927536 0.9924036\n",
       "7    7  t1   6.957461  -0.042538559 1.0061141\n",
       "8    8  t1   8.009891   0.009891313 0.9987651\n",
       "9    9  t1   9.053959   0.053959370 0.9940402\n",
       "10  10  t1   9.982560  -0.017439984 1.0017470\n",
       "11   1  t2   1.997585  -0.002414813 0.5006044\n",
       "12   2  t2   3.953772  -0.046227795 0.5058460\n",
       "13   3  t2   5.978172  -0.021827928 0.5018256\n",
       "14   4  t2   8.052453   0.052453117 0.4967430\n",
       "15   5  t2  10.072778   0.072777961 0.4963874\n",
       "16   6  t2  11.957002  -0.042997938 0.5017980\n",
       "17   7  t2  14.002079   0.002078900 0.4999258\n",
       "18   8  t2  16.031059   0.031058822 0.4990313\n",
       "19   9  t2  18.046717   0.046716672 0.4987057\n",
       "20  10  t2  20.046959   0.046959194 0.4988288\n",
       "21   1  t1   1.079367   0.079366812 0.9264691\n",
       "22   2  t1   2.034495   0.034494559 0.9830451\n",
       "23   3  t1   2.942990  -0.057010017 1.0193715\n",
       "24   4  t1   3.936265  -0.063734966 1.0161917\n",
       "25   5  t1   4.971931  -0.028069105 1.0056455\n",
       "26   6  t1   5.935258  -0.064741864 1.0109080\n",
       "27   7  t1   6.930239  -0.069760726 1.0100661\n",
       "28   8  t1   8.088869   0.088868510 0.9890135\n",
       "29   9  t1   8.949670  -0.050330255 1.0056237\n",
       "30  10  t1   9.963969  -0.036030556 1.0036161\n",
       "... ... ... ...        ...          ...      \n",
       "71   1  t2   2.0298945  0.029894485 0.4926364\n",
       "72   2  t2   3.9258667 -0.074133292 0.5094416\n",
       "73   3  t2   6.0798658  0.079865815 0.4934319\n",
       "74   4  t2   8.0427000  0.042699961 0.4973454\n",
       "75   5  t2  10.0047110  0.004710953 0.4997646\n",
       "76   6  t2  12.0451718  0.045171754 0.4981249\n",
       "77   7  t2  14.0277883  0.027788304 0.4990095\n",
       "78   8  t2  15.9948606 -0.005139422 0.5001607\n",
       "79   9  t2  17.9814433 -0.018556727 0.5005160\n",
       "80  10  t2  20.0706583  0.070658276 0.4982398\n",
       "81   1  t1   0.9608387 -0.039161259 1.0407574\n",
       "82   2  t1   2.0267897  0.026789747 0.9867822\n",
       "83   3  t1   2.9177290 -0.082271013 1.0281969\n",
       "84   4  t1   3.9467534 -0.053246569 1.0134912\n",
       "85   5  t1   5.0340156  0.034015561 0.9932429\n",
       "86   6  t1   6.0447867  0.044786676 0.9925909\n",
       "87   7  t1   6.9471870 -0.052813046 1.0076021\n",
       "88   8  t1   8.0205163  0.020516265 0.9974420\n",
       "89   9  t1   8.9359922 -0.064007769 1.0071629\n",
       "90  10  t1  10.0013729  0.001372936 0.9998627\n",
       "91   1  t2   1.9076066 -0.092393352 0.5242171\n",
       "92   2  t2   3.9216544 -0.078345629 0.5099888\n",
       "93   3  t2   5.9047371 -0.095262873 0.5080666\n",
       "94   4  t2   7.9451692 -0.054830831 0.5034506\n",
       "95   5  t2  10.0706839  0.070683864 0.4964906\n",
       "96   6  t2  11.9154638 -0.084536184 0.5035473\n",
       "97   7  t2  13.9948929 -0.005107067 0.5001825\n",
       "98   8  t2  15.9483586 -0.051641405 0.5016190\n",
       "99   9  t2  17.9686723 -0.031327676 0.5008717\n",
       "100 10  t2  19.9371683 -0.062831726 0.5015757"
      ]
     },
     "metadata": {},
     "output_type": "display_data"
    }
   ],
   "source": [
    "results$speed <- results$n / results$time\n",
    "\n",
    "results"
   ]
  },
  {
   "cell_type": "markdown",
   "metadata": {},
   "source": [
    "Grupowanie (agregacja)\n",
    "\n",
    "Przyklad: zastosowanie funkcji FUN (tutaj: mean czyli obliczającej średnią) do wszystkich wartosci time dla takich samych n i alg:"
   ]
  },
  {
   "cell_type": "code",
   "execution_count": 38,
   "metadata": {},
   "outputs": [
    {
     "data": {
      "text/html": [
       "<table>\n",
       "<thead><tr><th scope=col>n</th><th scope=col>alg</th><th scope=col>time</th></tr></thead>\n",
       "<tbody>\n",
       "\t<tr><td> 1        </td><td>t1        </td><td> 0.9990494</td></tr>\n",
       "\t<tr><td> 2        </td><td>t1        </td><td> 2.0152520</td></tr>\n",
       "\t<tr><td> 3        </td><td>t1        </td><td> 2.9867132</td></tr>\n",
       "\t<tr><td> 4        </td><td>t1        </td><td> 3.9869472</td></tr>\n",
       "\t<tr><td> 5        </td><td>t1        </td><td> 4.9716765</td></tr>\n",
       "\t<tr><td> 6        </td><td>t1        </td><td> 6.0127196</td></tr>\n",
       "\t<tr><td> 7        </td><td>t1        </td><td> 6.9400184</td></tr>\n",
       "\t<tr><td> 8        </td><td>t1        </td><td> 8.0313431</td></tr>\n",
       "\t<tr><td> 9        </td><td>t1        </td><td> 8.9836556</td></tr>\n",
       "\t<tr><td>10        </td><td>t1        </td><td> 9.9948604</td></tr>\n",
       "\t<tr><td> 1        </td><td>t2        </td><td> 1.9878299</td></tr>\n",
       "\t<tr><td> 2        </td><td>t2        </td><td> 3.9599609</td></tr>\n",
       "\t<tr><td> 3        </td><td>t2        </td><td> 5.9861750</td></tr>\n",
       "\t<tr><td> 4        </td><td>t2        </td><td> 8.0300291</td></tr>\n",
       "\t<tr><td> 5        </td><td>t2        </td><td>10.0251302</td></tr>\n",
       "\t<tr><td> 6        </td><td>t2        </td><td>11.9724193</td></tr>\n",
       "\t<tr><td> 7        </td><td>t2        </td><td>14.0112964</td></tr>\n",
       "\t<tr><td> 8        </td><td>t2        </td><td>16.0212972</td></tr>\n",
       "\t<tr><td> 9        </td><td>t2        </td><td>17.9699109</td></tr>\n",
       "\t<tr><td>10        </td><td>t2        </td><td>19.9883028</td></tr>\n",
       "</tbody>\n",
       "</table>\n"
      ],
      "text/latex": [
       "\\begin{tabular}{r|lll}\n",
       " n & alg & time\\\\\n",
       "\\hline\n",
       "\t  1         & t1         &  0.9990494\\\\\n",
       "\t  2         & t1         &  2.0152520\\\\\n",
       "\t  3         & t1         &  2.9867132\\\\\n",
       "\t  4         & t1         &  3.9869472\\\\\n",
       "\t  5         & t1         &  4.9716765\\\\\n",
       "\t  6         & t1         &  6.0127196\\\\\n",
       "\t  7         & t1         &  6.9400184\\\\\n",
       "\t  8         & t1         &  8.0313431\\\\\n",
       "\t  9         & t1         &  8.9836556\\\\\n",
       "\t 10         & t1         &  9.9948604\\\\\n",
       "\t  1         & t2         &  1.9878299\\\\\n",
       "\t  2         & t2         &  3.9599609\\\\\n",
       "\t  3         & t2         &  5.9861750\\\\\n",
       "\t  4         & t2         &  8.0300291\\\\\n",
       "\t  5         & t2         & 10.0251302\\\\\n",
       "\t  6         & t2         & 11.9724193\\\\\n",
       "\t  7         & t2         & 14.0112964\\\\\n",
       "\t  8         & t2         & 16.0212972\\\\\n",
       "\t  9         & t2         & 17.9699109\\\\\n",
       "\t 10         & t2         & 19.9883028\\\\\n",
       "\\end{tabular}\n"
      ],
      "text/markdown": [
       "\n",
       "| n | alg | time |\n",
       "|---|---|---|\n",
       "|  1         | t1         |  0.9990494 |\n",
       "|  2         | t1         |  2.0152520 |\n",
       "|  3         | t1         |  2.9867132 |\n",
       "|  4         | t1         |  3.9869472 |\n",
       "|  5         | t1         |  4.9716765 |\n",
       "|  6         | t1         |  6.0127196 |\n",
       "|  7         | t1         |  6.9400184 |\n",
       "|  8         | t1         |  8.0313431 |\n",
       "|  9         | t1         |  8.9836556 |\n",
       "| 10         | t1         |  9.9948604 |\n",
       "|  1         | t2         |  1.9878299 |\n",
       "|  2         | t2         |  3.9599609 |\n",
       "|  3         | t2         |  5.9861750 |\n",
       "|  4         | t2         |  8.0300291 |\n",
       "|  5         | t2         | 10.0251302 |\n",
       "|  6         | t2         | 11.9724193 |\n",
       "|  7         | t2         | 14.0112964 |\n",
       "|  8         | t2         | 16.0212972 |\n",
       "|  9         | t2         | 17.9699109 |\n",
       "| 10         | t2         | 19.9883028 |\n",
       "\n"
      ],
      "text/plain": [
       "   n  alg time      \n",
       "1   1 t1   0.9990494\n",
       "2   2 t1   2.0152520\n",
       "3   3 t1   2.9867132\n",
       "4   4 t1   3.9869472\n",
       "5   5 t1   4.9716765\n",
       "6   6 t1   6.0127196\n",
       "7   7 t1   6.9400184\n",
       "8   8 t1   8.0313431\n",
       "9   9 t1   8.9836556\n",
       "10 10 t1   9.9948604\n",
       "11  1 t2   1.9878299\n",
       "12  2 t2   3.9599609\n",
       "13  3 t2   5.9861750\n",
       "14  4 t2   8.0300291\n",
       "15  5 t2  10.0251302\n",
       "16  6 t2  11.9724193\n",
       "17  7 t2  14.0112964\n",
       "18  8 t2  16.0212972\n",
       "19  9 t2  17.9699109\n",
       "20 10 t2  19.9883028"
      ]
     },
     "metadata": {},
     "output_type": "display_data"
    }
   ],
   "source": [
    "avg_results <- aggregate(time ~ n:alg, data=results, FUN=mean)\n",
    "\n",
    "avg_results"
   ]
  },
  {
   "cell_type": "markdown",
   "metadata": {},
   "source": [
    "Dołączenie kolumny z obliczonym odchyleniem standardowym (sd) do tabeli:"
   ]
  },
  {
   "cell_type": "code",
   "execution_count": 39,
   "metadata": {},
   "outputs": [],
   "source": [
    "avg_results$sd <- aggregate(time ~ n:alg, data=results, FUN=sd)$time"
   ]
  },
  {
   "cell_type": "markdown",
   "metadata": {},
   "source": [
    "Agregacja kilku wielkości:"
   ]
  },
  {
   "cell_type": "code",
   "execution_count": 40,
   "metadata": {},
   "outputs": [],
   "source": [
    "avg_results <- aggregate(cbind(time,speed) ~ n:alg, data=results, FUN=mean) "
   ]
  },
  {
   "cell_type": "markdown",
   "metadata": {},
   "source": [
    "Filtrowanie danych:"
   ]
  },
  {
   "cell_type": "code",
   "execution_count": 41,
   "metadata": {},
   "outputs": [
    {
     "data": {
      "text/html": [
       "<table>\n",
       "<thead><tr><th scope=col>n</th><th scope=col>alg</th><th scope=col>time</th><th scope=col>speed</th></tr></thead>\n",
       "<tbody>\n",
       "\t<tr><td> 1       </td><td>t1       </td><td>0.9990494</td><td>1.0028054</td></tr>\n",
       "\t<tr><td> 2       </td><td>t1       </td><td>2.0152520</td><td>0.9928574</td></tr>\n",
       "\t<tr><td> 3       </td><td>t1       </td><td>2.9867132</td><td>1.0049406</td></tr>\n",
       "\t<tr><td> 4       </td><td>t1       </td><td>3.9869472</td><td>1.0036074</td></tr>\n",
       "\t<tr><td> 5       </td><td>t1       </td><td>4.9716765</td><td>1.0058149</td></tr>\n",
       "\t<tr><td> 6       </td><td>t1       </td><td>6.0127196</td><td>0.9979343</td></tr>\n",
       "\t<tr><td> 7       </td><td>t1       </td><td>6.9400184</td><td>1.0086470</td></tr>\n",
       "\t<tr><td> 8       </td><td>t1       </td><td>8.0313431</td><td>0.9961325</td></tr>\n",
       "\t<tr><td> 9       </td><td>t1       </td><td>8.9836556</td><td>1.0018430</td></tr>\n",
       "\t<tr><td>10       </td><td>t1       </td><td>9.9948604</td><td>1.0005453</td></tr>\n",
       "</tbody>\n",
       "</table>\n"
      ],
      "text/latex": [
       "\\begin{tabular}{r|llll}\n",
       " n & alg & time & speed\\\\\n",
       "\\hline\n",
       "\t  1        & t1        & 0.9990494 & 1.0028054\\\\\n",
       "\t  2        & t1        & 2.0152520 & 0.9928574\\\\\n",
       "\t  3        & t1        & 2.9867132 & 1.0049406\\\\\n",
       "\t  4        & t1        & 3.9869472 & 1.0036074\\\\\n",
       "\t  5        & t1        & 4.9716765 & 1.0058149\\\\\n",
       "\t  6        & t1        & 6.0127196 & 0.9979343\\\\\n",
       "\t  7        & t1        & 6.9400184 & 1.0086470\\\\\n",
       "\t  8        & t1        & 8.0313431 & 0.9961325\\\\\n",
       "\t  9        & t1        & 8.9836556 & 1.0018430\\\\\n",
       "\t 10        & t1        & 9.9948604 & 1.0005453\\\\\n",
       "\\end{tabular}\n"
      ],
      "text/markdown": [
       "\n",
       "| n | alg | time | speed |\n",
       "|---|---|---|---|\n",
       "|  1        | t1        | 0.9990494 | 1.0028054 |\n",
       "|  2        | t1        | 2.0152520 | 0.9928574 |\n",
       "|  3        | t1        | 2.9867132 | 1.0049406 |\n",
       "|  4        | t1        | 3.9869472 | 1.0036074 |\n",
       "|  5        | t1        | 4.9716765 | 1.0058149 |\n",
       "|  6        | t1        | 6.0127196 | 0.9979343 |\n",
       "|  7        | t1        | 6.9400184 | 1.0086470 |\n",
       "|  8        | t1        | 8.0313431 | 0.9961325 |\n",
       "|  9        | t1        | 8.9836556 | 1.0018430 |\n",
       "| 10        | t1        | 9.9948604 | 1.0005453 |\n",
       "\n"
      ],
      "text/plain": [
       "   n  alg time      speed    \n",
       "1   1 t1  0.9990494 1.0028054\n",
       "2   2 t1  2.0152520 0.9928574\n",
       "3   3 t1  2.9867132 1.0049406\n",
       "4   4 t1  3.9869472 1.0036074\n",
       "5   5 t1  4.9716765 1.0058149\n",
       "6   6 t1  6.0127196 0.9979343\n",
       "7   7 t1  6.9400184 1.0086470\n",
       "8   8 t1  8.0313431 0.9961325\n",
       "9   9 t1  8.9836556 1.0018430\n",
       "10 10 t1  9.9948604 1.0005453"
      ]
     },
     "metadata": {},
     "output_type": "display_data"
    }
   ],
   "source": [
    "avg_results[avg_results$alg==\"t1\",]"
   ]
  },
  {
   "cell_type": "markdown",
   "metadata": {},
   "source": [
    "Rysowanie wykresów.\n",
    "\n",
    "Wykres time w funkcji n:"
   ]
  },
  {
   "cell_type": "code",
   "execution_count": 42,
   "metadata": {},
   "outputs": [
    {
     "data": {
      "image/png": "[encoded data removed]",
      "text/plain": [
       "plot without title"
      ]
     },
     "metadata": {},
     "output_type": "display_data"
    }
   ],
   "source": [
    "ggplot(avg_results, aes(n,time)) + geom_point()"
   ]
  },
  {
   "cell_type": "markdown",
   "metadata": {},
   "source": [
    "Przykład skryptu rysującego wykres. Skrypt data2_plot.R uruchamiamy poleceniem:\n",
    "W wersji okienkowej: Plik -> Otworz skrypt i potem \"uruchom linijke lub zaznaczenie\"\n",
    "albo w konsoli:"
   ]
  },
  {
   "cell_type": "code",
   "execution_count": 43,
   "metadata": {},
   "outputs": [
    {
     "data": {
      "image/png": "[encoded data removed]",
      "text/plain": [
       "plot without title"
      ]
     },
     "metadata": {},
     "output_type": "display_data"
    }
   ],
   "source": [
    "results <- read.csv(\"data2.txt\")\n",
    "results$speed <- results$n / results$time\n",
    "avg_results <- aggregate( cbind(time,speed) ~ n:alg, data=results, FUN=mean) \n",
    "ggplot(avg_results, aes(n,time,color=alg)) + geom_point() + ylab(\"Computing time in seconds\")"
   ]
  },
  {
   "cell_type": "markdown",
   "metadata": {},
   "source": [
    "Możemy też uruchomić kod tworzący wykres z osobngo pliku"
   ]
  },
  {
   "cell_type": "code",
   "execution_count": 44,
   "metadata": {},
   "outputs": [
    {
     "name": "stderr",
     "output_type": "stream",
     "text": [
      "Saving 6.67 x 6.67 in image\n"
     ]
    }
   ],
   "source": [
    "source(\"data2_plot.R\")"
   ]
  },
  {
   "cell_type": "markdown",
   "metadata": {},
   "source": [
    "w bashu za pomoca polecenia:"
   ]
  },
  {
   "cell_type": "markdown",
   "metadata": {},
   "source": [
    "```Rscript data2_plot.R```"
   ]
  },
  {
   "cell_type": "markdown",
   "metadata": {},
   "source": [
    "W wyniku powstaje plik [myplot.png](myplot.png)"
   ]
  },
  {
   "cell_type": "markdown",
   "metadata": {},
   "source": [
    "### Powyższy przykład z wykorzystaniem tidyverse"
   ]
  },
  {
   "cell_type": "code",
   "execution_count": 45,
   "metadata": {
    "scrolled": true
   },
   "outputs": [
    {
     "name": "stderr",
     "output_type": "stream",
     "text": [
      "\n",
      "\u001b[36m--\u001b[39m \u001b[1m\u001b[1mColumn specification\u001b[1m\u001b[22m \u001b[36m------------------------------------------------------------------------------------------------\u001b[39m\n",
      "cols(\n",
      "  n = col_double(),\n",
      "  alg = col_character(),\n",
      "  time = col_double(),\n",
      "  error = col_double()\n",
      ")\n",
      "\n"
     ]
    }
   ],
   "source": [
    "results <- read_csv(\"data2.txt\")"
   ]
  },
  {
   "cell_type": "code",
   "execution_count": 46,
   "metadata": {},
   "outputs": [
    {
     "name": "stderr",
     "output_type": "stream",
     "text": [
      "`summarise()` has grouped output by 'n'. You can override using the `.groups` argument.\n"
     ]
    }
   ],
   "source": [
    "avg_dplyr <- results %>% \n",
    "    mutate(speed = n/time) %>% # tylko aby pokazać mutate, nie wykorzystujemy do plota\n",
    "    group_by(n, alg) %>%\n",
    "    summarise(\n",
    "        time_sd = sd(time),\n",
    "        time = mean(time),\n",
    "        speed = mean(speed)\n",
    "    )  %>% \n",
    "    ungroup() %>%\n",
    "    arrange(alg, n)"
   ]
  },
  {
   "cell_type": "markdown",
   "metadata": {},
   "source": [
    "Kolejność operacji w `summarise` ma znaczenie!"
   ]
  },
  {
   "cell_type": "code",
   "execution_count": 47,
   "metadata": {},
   "outputs": [
    {
     "name": "stderr",
     "output_type": "stream",
     "text": [
      "`summarise()` has grouped output by 'n'. You can override using the `.groups` argument.\n"
     ]
    },
    {
     "data": {
      "text/html": [
       "<table>\n",
       "<thead><tr><th scope=col>n</th><th scope=col>alg</th><th scope=col>time</th><th scope=col>time_sd</th></tr></thead>\n",
       "<tbody>\n",
       "\t<tr><td> 1        </td><td>t1        </td><td> 0.9990494</td><td>NA        </td></tr>\n",
       "\t<tr><td> 2        </td><td>t1        </td><td> 2.0152520</td><td>NA        </td></tr>\n",
       "\t<tr><td> 3        </td><td>t1        </td><td> 2.9867132</td><td>NA        </td></tr>\n",
       "\t<tr><td> 4        </td><td>t1        </td><td> 3.9869472</td><td>NA        </td></tr>\n",
       "\t<tr><td> 5        </td><td>t1        </td><td> 4.9716765</td><td>NA        </td></tr>\n",
       "\t<tr><td> 6        </td><td>t1        </td><td> 6.0127196</td><td>NA        </td></tr>\n",
       "\t<tr><td> 7        </td><td>t1        </td><td> 6.9400184</td><td>NA        </td></tr>\n",
       "\t<tr><td> 8        </td><td>t1        </td><td> 8.0313431</td><td>NA        </td></tr>\n",
       "\t<tr><td> 9        </td><td>t1        </td><td> 8.9836556</td><td>NA        </td></tr>\n",
       "\t<tr><td>10        </td><td>t1        </td><td> 9.9948604</td><td>NA        </td></tr>\n",
       "\t<tr><td> 1        </td><td>t2        </td><td> 1.9878299</td><td>NA        </td></tr>\n",
       "\t<tr><td> 2        </td><td>t2        </td><td> 3.9599609</td><td>NA        </td></tr>\n",
       "\t<tr><td> 3        </td><td>t2        </td><td> 5.9861750</td><td>NA        </td></tr>\n",
       "\t<tr><td> 4        </td><td>t2        </td><td> 8.0300291</td><td>NA        </td></tr>\n",
       "\t<tr><td> 5        </td><td>t2        </td><td>10.0251302</td><td>NA        </td></tr>\n",
       "\t<tr><td> 6        </td><td>t2        </td><td>11.9724193</td><td>NA        </td></tr>\n",
       "\t<tr><td> 7        </td><td>t2        </td><td>14.0112964</td><td>NA        </td></tr>\n",
       "\t<tr><td> 8        </td><td>t2        </td><td>16.0212972</td><td>NA        </td></tr>\n",
       "\t<tr><td> 9        </td><td>t2        </td><td>17.9699109</td><td>NA        </td></tr>\n",
       "\t<tr><td>10        </td><td>t2        </td><td>19.9883028</td><td>NA        </td></tr>\n",
       "</tbody>\n",
       "</table>\n"
      ],
      "text/latex": [
       "\\begin{tabular}{r|llll}\n",
       " n & alg & time & time\\_sd\\\\\n",
       "\\hline\n",
       "\t  1         & t1         &  0.9990494 & NA        \\\\\n",
       "\t  2         & t1         &  2.0152520 & NA        \\\\\n",
       "\t  3         & t1         &  2.9867132 & NA        \\\\\n",
       "\t  4         & t1         &  3.9869472 & NA        \\\\\n",
       "\t  5         & t1         &  4.9716765 & NA        \\\\\n",
       "\t  6         & t1         &  6.0127196 & NA        \\\\\n",
       "\t  7         & t1         &  6.9400184 & NA        \\\\\n",
       "\t  8         & t1         &  8.0313431 & NA        \\\\\n",
       "\t  9         & t1         &  8.9836556 & NA        \\\\\n",
       "\t 10         & t1         &  9.9948604 & NA        \\\\\n",
       "\t  1         & t2         &  1.9878299 & NA        \\\\\n",
       "\t  2         & t2         &  3.9599609 & NA        \\\\\n",
       "\t  3         & t2         &  5.9861750 & NA        \\\\\n",
       "\t  4         & t2         &  8.0300291 & NA        \\\\\n",
       "\t  5         & t2         & 10.0251302 & NA        \\\\\n",
       "\t  6         & t2         & 11.9724193 & NA        \\\\\n",
       "\t  7         & t2         & 14.0112964 & NA        \\\\\n",
       "\t  8         & t2         & 16.0212972 & NA        \\\\\n",
       "\t  9         & t2         & 17.9699109 & NA        \\\\\n",
       "\t 10         & t2         & 19.9883028 & NA        \\\\\n",
       "\\end{tabular}\n"
      ],
      "text/markdown": [
       "\n",
       "| n | alg | time | time_sd |\n",
       "|---|---|---|---|\n",
       "|  1         | t1         |  0.9990494 | NA         |\n",
       "|  2         | t1         |  2.0152520 | NA         |\n",
       "|  3         | t1         |  2.9867132 | NA         |\n",
       "|  4         | t1         |  3.9869472 | NA         |\n",
       "|  5         | t1         |  4.9716765 | NA         |\n",
       "|  6         | t1         |  6.0127196 | NA         |\n",
       "|  7         | t1         |  6.9400184 | NA         |\n",
       "|  8         | t1         |  8.0313431 | NA         |\n",
       "|  9         | t1         |  8.9836556 | NA         |\n",
       "| 10         | t1         |  9.9948604 | NA         |\n",
       "|  1         | t2         |  1.9878299 | NA         |\n",
       "|  2         | t2         |  3.9599609 | NA         |\n",
       "|  3         | t2         |  5.9861750 | NA         |\n",
       "|  4         | t2         |  8.0300291 | NA         |\n",
       "|  5         | t2         | 10.0251302 | NA         |\n",
       "|  6         | t2         | 11.9724193 | NA         |\n",
       "|  7         | t2         | 14.0112964 | NA         |\n",
       "|  8         | t2         | 16.0212972 | NA         |\n",
       "|  9         | t2         | 17.9699109 | NA         |\n",
       "| 10         | t2         | 19.9883028 | NA         |\n",
       "\n"
      ],
      "text/plain": [
       "   n  alg time       time_sd\n",
       "1   1 t1   0.9990494 NA     \n",
       "2   2 t1   2.0152520 NA     \n",
       "3   3 t1   2.9867132 NA     \n",
       "4   4 t1   3.9869472 NA     \n",
       "5   5 t1   4.9716765 NA     \n",
       "6   6 t1   6.0127196 NA     \n",
       "7   7 t1   6.9400184 NA     \n",
       "8   8 t1   8.0313431 NA     \n",
       "9   9 t1   8.9836556 NA     \n",
       "10 10 t1   9.9948604 NA     \n",
       "11  1 t2   1.9878299 NA     \n",
       "12  2 t2   3.9599609 NA     \n",
       "13  3 t2   5.9861750 NA     \n",
       "14  4 t2   8.0300291 NA     \n",
       "15  5 t2  10.0251302 NA     \n",
       "16  6 t2  11.9724193 NA     \n",
       "17  7 t2  14.0112964 NA     \n",
       "18  8 t2  16.0212972 NA     \n",
       "19  9 t2  17.9699109 NA     \n",
       "20 10 t2  19.9883028 NA     "
      ]
     },
     "metadata": {},
     "output_type": "display_data"
    }
   ],
   "source": [
    "results %>% \n",
    "    group_by(n, alg) %>%\n",
    "    summarise(\n",
    "        time = mean(time),\n",
    "        time_sd = sd(time) # sd jest liczone dla jednego wiersza po agregracji, stad NA w wynikach\n",
    "    )  %>% \n",
    "    ungroup() %>%\n",
    "    arrange(alg, n)"
   ]
  },
  {
   "cell_type": "code",
   "execution_count": 48,
   "metadata": {},
   "outputs": [
    {
     "data": {
      "text/html": [
       "<table>\n",
       "<thead><tr><th scope=col>n</th><th scope=col>alg</th><th scope=col>time_sd</th><th scope=col>time</th><th scope=col>speed</th></tr></thead>\n",
       "<tbody>\n",
       "\t<tr><td> 1        </td><td>t1        </td><td>0.04902917</td><td> 0.9990494</td><td>1.0028054 </td></tr>\n",
       "\t<tr><td> 2        </td><td>t1        </td><td>0.04664671</td><td> 2.0152520</td><td>0.9928574 </td></tr>\n",
       "\t<tr><td> 3        </td><td>t1        </td><td>0.07417292</td><td> 2.9867132</td><td>1.0049406 </td></tr>\n",
       "\t<tr><td> 4        </td><td>t1        </td><td>0.08150832</td><td> 3.9869472</td><td>1.0036074 </td></tr>\n",
       "\t<tr><td> 5        </td><td>t1        </td><td>0.06018547</td><td> 4.9716765</td><td>1.0058149 </td></tr>\n",
       "\t<tr><td> 6        </td><td>t1        </td><td>0.04730261</td><td> 6.0127196</td><td>0.9979343 </td></tr>\n",
       "\t<tr><td> 7        </td><td>t1        </td><td>0.01562886</td><td> 6.9400184</td><td>1.0086470 </td></tr>\n",
       "\t<tr><td> 8        </td><td>t1        </td><td>0.05328619</td><td> 8.0313431</td><td>0.9961325 </td></tr>\n",
       "\t<tr><td> 9        </td><td>t1        </td><td>0.04886179</td><td> 8.9836556</td><td>1.0018430 </td></tr>\n",
       "\t<tr><td>10        </td><td>t1        </td><td>0.06245583</td><td> 9.9948604</td><td>1.0005453 </td></tr>\n",
       "\t<tr><td> 1        </td><td>t2        </td><td>0.06654991</td><td> 1.9878299</td><td>0.5035135 </td></tr>\n",
       "\t<tr><td> 2        </td><td>t2        </td><td>0.04418932</td><td> 3.9599609</td><td>0.5051054 </td></tr>\n",
       "\t<tr><td> 3        </td><td>t2        </td><td>0.06413231</td><td> 5.9861750</td><td>0.5012006 </td></tr>\n",
       "\t<tr><td> 4        </td><td>t2        </td><td>0.04983246</td><td> 8.0300291</td><td>0.4981456 </td></tr>\n",
       "\t<tr><td> 5        </td><td>t2        </td><td>0.04548820</td><td>10.0251302</td><td>0.4987549 </td></tr>\n",
       "\t<tr><td> 6        </td><td>t2        </td><td>0.05267832</td><td>11.9724193</td><td>0.5011596 </td></tr>\n",
       "\t<tr><td> 7        </td><td>t2        </td><td>0.05988583</td><td>14.0112964</td><td>0.4996042 </td></tr>\n",
       "\t<tr><td> 8        </td><td>t2        </td><td>0.05359947</td><td>16.0212972</td><td>0.4993398 </td></tr>\n",
       "\t<tr><td> 9        </td><td>t2        </td><td>0.05270112</td><td>17.9699109</td><td>0.5008407 </td></tr>\n",
       "\t<tr><td>10        </td><td>t2        </td><td>0.07047764</td><td>19.9883028</td><td>0.5002976 </td></tr>\n",
       "</tbody>\n",
       "</table>\n"
      ],
      "text/latex": [
       "\\begin{tabular}{r|lllll}\n",
       " n & alg & time\\_sd & time & speed\\\\\n",
       "\\hline\n",
       "\t  1         & t1         & 0.04902917 &  0.9990494 & 1.0028054 \\\\\n",
       "\t  2         & t1         & 0.04664671 &  2.0152520 & 0.9928574 \\\\\n",
       "\t  3         & t1         & 0.07417292 &  2.9867132 & 1.0049406 \\\\\n",
       "\t  4         & t1         & 0.08150832 &  3.9869472 & 1.0036074 \\\\\n",
       "\t  5         & t1         & 0.06018547 &  4.9716765 & 1.0058149 \\\\\n",
       "\t  6         & t1         & 0.04730261 &  6.0127196 & 0.9979343 \\\\\n",
       "\t  7         & t1         & 0.01562886 &  6.9400184 & 1.0086470 \\\\\n",
       "\t  8         & t1         & 0.05328619 &  8.0313431 & 0.9961325 \\\\\n",
       "\t  9         & t1         & 0.04886179 &  8.9836556 & 1.0018430 \\\\\n",
       "\t 10         & t1         & 0.06245583 &  9.9948604 & 1.0005453 \\\\\n",
       "\t  1         & t2         & 0.06654991 &  1.9878299 & 0.5035135 \\\\\n",
       "\t  2         & t2         & 0.04418932 &  3.9599609 & 0.5051054 \\\\\n",
       "\t  3         & t2         & 0.06413231 &  5.9861750 & 0.5012006 \\\\\n",
       "\t  4         & t2         & 0.04983246 &  8.0300291 & 0.4981456 \\\\\n",
       "\t  5         & t2         & 0.04548820 & 10.0251302 & 0.4987549 \\\\\n",
       "\t  6         & t2         & 0.05267832 & 11.9724193 & 0.5011596 \\\\\n",
       "\t  7         & t2         & 0.05988583 & 14.0112964 & 0.4996042 \\\\\n",
       "\t  8         & t2         & 0.05359947 & 16.0212972 & 0.4993398 \\\\\n",
       "\t  9         & t2         & 0.05270112 & 17.9699109 & 0.5008407 \\\\\n",
       "\t 10         & t2         & 0.07047764 & 19.9883028 & 0.5002976 \\\\\n",
       "\\end{tabular}\n"
      ],
      "text/markdown": [
       "\n",
       "| n | alg | time_sd | time | speed |\n",
       "|---|---|---|---|---|\n",
       "|  1         | t1         | 0.04902917 |  0.9990494 | 1.0028054  |\n",
       "|  2         | t1         | 0.04664671 |  2.0152520 | 0.9928574  |\n",
       "|  3         | t1         | 0.07417292 |  2.9867132 | 1.0049406  |\n",
       "|  4         | t1         | 0.08150832 |  3.9869472 | 1.0036074  |\n",
       "|  5         | t1         | 0.06018547 |  4.9716765 | 1.0058149  |\n",
       "|  6         | t1         | 0.04730261 |  6.0127196 | 0.9979343  |\n",
       "|  7         | t1         | 0.01562886 |  6.9400184 | 1.0086470  |\n",
       "|  8         | t1         | 0.05328619 |  8.0313431 | 0.9961325  |\n",
       "|  9         | t1         | 0.04886179 |  8.9836556 | 1.0018430  |\n",
       "| 10         | t1         | 0.06245583 |  9.9948604 | 1.0005453  |\n",
       "|  1         | t2         | 0.06654991 |  1.9878299 | 0.5035135  |\n",
       "|  2         | t2         | 0.04418932 |  3.9599609 | 0.5051054  |\n",
       "|  3         | t2         | 0.06413231 |  5.9861750 | 0.5012006  |\n",
       "|  4         | t2         | 0.04983246 |  8.0300291 | 0.4981456  |\n",
       "|  5         | t2         | 0.04548820 | 10.0251302 | 0.4987549  |\n",
       "|  6         | t2         | 0.05267832 | 11.9724193 | 0.5011596  |\n",
       "|  7         | t2         | 0.05988583 | 14.0112964 | 0.4996042  |\n",
       "|  8         | t2         | 0.05359947 | 16.0212972 | 0.4993398  |\n",
       "|  9         | t2         | 0.05270112 | 17.9699109 | 0.5008407  |\n",
       "| 10         | t2         | 0.07047764 | 19.9883028 | 0.5002976  |\n",
       "\n"
      ],
      "text/plain": [
       "   n  alg time_sd    time       speed    \n",
       "1   1 t1  0.04902917  0.9990494 1.0028054\n",
       "2   2 t1  0.04664671  2.0152520 0.9928574\n",
       "3   3 t1  0.07417292  2.9867132 1.0049406\n",
       "4   4 t1  0.08150832  3.9869472 1.0036074\n",
       "5   5 t1  0.06018547  4.9716765 1.0058149\n",
       "6   6 t1  0.04730261  6.0127196 0.9979343\n",
       "7   7 t1  0.01562886  6.9400184 1.0086470\n",
       "8   8 t1  0.05328619  8.0313431 0.9961325\n",
       "9   9 t1  0.04886179  8.9836556 1.0018430\n",
       "10 10 t1  0.06245583  9.9948604 1.0005453\n",
       "11  1 t2  0.06654991  1.9878299 0.5035135\n",
       "12  2 t2  0.04418932  3.9599609 0.5051054\n",
       "13  3 t2  0.06413231  5.9861750 0.5012006\n",
       "14  4 t2  0.04983246  8.0300291 0.4981456\n",
       "15  5 t2  0.04548820 10.0251302 0.4987549\n",
       "16  6 t2  0.05267832 11.9724193 0.5011596\n",
       "17  7 t2  0.05988583 14.0112964 0.4996042\n",
       "18  8 t2  0.05359947 16.0212972 0.4993398\n",
       "19  9 t2  0.05270112 17.9699109 0.5008407\n",
       "20 10 t2  0.07047764 19.9883028 0.5002976"
      ]
     },
     "metadata": {},
     "output_type": "display_data"
    }
   ],
   "source": [
    "avg_dplyr"
   ]
  },
  {
   "cell_type": "code",
   "execution_count": 49,
   "metadata": {},
   "outputs": [
    {
     "data": {
      "image/png": "[encoded data removed]",
      "text/plain": [
       "plot without title"
      ]
     },
     "metadata": {},
     "output_type": "display_data"
    }
   ],
   "source": [
    "ggplot(avg_dplyr, aes(n, time, color=alg)) + geom_point() + ylab(\"Computing time in seconds\") + \n",
    "    geom_errorbar(aes(ymin = time-time_sd, ymax = time+time_sd, width=.25))"
   ]
  },
  {
   "cell_type": "markdown",
   "metadata": {},
   "source": [
    "Przykład filtrowania i wybierania kolumn"
   ]
  },
  {
   "cell_type": "code",
   "execution_count": 50,
   "metadata": {},
   "outputs": [
    {
     "data": {
      "text/html": [
       "<table>\n",
       "<thead><tr><th scope=col>n</th><th scope=col>time_sd</th><th scope=col>time</th><th scope=col>speed</th></tr></thead>\n",
       "<tbody>\n",
       "\t<tr><td> 1        </td><td>0.04902917</td><td>0.9990494 </td><td>1.0028054 </td></tr>\n",
       "\t<tr><td> 2        </td><td>0.04664671</td><td>2.0152520 </td><td>0.9928574 </td></tr>\n",
       "\t<tr><td> 3        </td><td>0.07417292</td><td>2.9867132 </td><td>1.0049406 </td></tr>\n",
       "\t<tr><td> 4        </td><td>0.08150832</td><td>3.9869472 </td><td>1.0036074 </td></tr>\n",
       "\t<tr><td> 5        </td><td>0.06018547</td><td>4.9716765 </td><td>1.0058149 </td></tr>\n",
       "\t<tr><td> 6        </td><td>0.04730261</td><td>6.0127196 </td><td>0.9979343 </td></tr>\n",
       "\t<tr><td> 7        </td><td>0.01562886</td><td>6.9400184 </td><td>1.0086470 </td></tr>\n",
       "\t<tr><td> 8        </td><td>0.05328619</td><td>8.0313431 </td><td>0.9961325 </td></tr>\n",
       "\t<tr><td> 9        </td><td>0.04886179</td><td>8.9836556 </td><td>1.0018430 </td></tr>\n",
       "\t<tr><td>10        </td><td>0.06245583</td><td>9.9948604 </td><td>1.0005453 </td></tr>\n",
       "</tbody>\n",
       "</table>\n"
      ],
      "text/latex": [
       "\\begin{tabular}{r|llll}\n",
       " n & time\\_sd & time & speed\\\\\n",
       "\\hline\n",
       "\t  1         & 0.04902917 & 0.9990494  & 1.0028054 \\\\\n",
       "\t  2         & 0.04664671 & 2.0152520  & 0.9928574 \\\\\n",
       "\t  3         & 0.07417292 & 2.9867132  & 1.0049406 \\\\\n",
       "\t  4         & 0.08150832 & 3.9869472  & 1.0036074 \\\\\n",
       "\t  5         & 0.06018547 & 4.9716765  & 1.0058149 \\\\\n",
       "\t  6         & 0.04730261 & 6.0127196  & 0.9979343 \\\\\n",
       "\t  7         & 0.01562886 & 6.9400184  & 1.0086470 \\\\\n",
       "\t  8         & 0.05328619 & 8.0313431  & 0.9961325 \\\\\n",
       "\t  9         & 0.04886179 & 8.9836556  & 1.0018430 \\\\\n",
       "\t 10         & 0.06245583 & 9.9948604  & 1.0005453 \\\\\n",
       "\\end{tabular}\n"
      ],
      "text/markdown": [
       "\n",
       "| n | time_sd | time | speed |\n",
       "|---|---|---|---|\n",
       "|  1         | 0.04902917 | 0.9990494  | 1.0028054  |\n",
       "|  2         | 0.04664671 | 2.0152520  | 0.9928574  |\n",
       "|  3         | 0.07417292 | 2.9867132  | 1.0049406  |\n",
       "|  4         | 0.08150832 | 3.9869472  | 1.0036074  |\n",
       "|  5         | 0.06018547 | 4.9716765  | 1.0058149  |\n",
       "|  6         | 0.04730261 | 6.0127196  | 0.9979343  |\n",
       "|  7         | 0.01562886 | 6.9400184  | 1.0086470  |\n",
       "|  8         | 0.05328619 | 8.0313431  | 0.9961325  |\n",
       "|  9         | 0.04886179 | 8.9836556  | 1.0018430  |\n",
       "| 10         | 0.06245583 | 9.9948604  | 1.0005453  |\n",
       "\n"
      ],
      "text/plain": [
       "   n  time_sd    time      speed    \n",
       "1   1 0.04902917 0.9990494 1.0028054\n",
       "2   2 0.04664671 2.0152520 0.9928574\n",
       "3   3 0.07417292 2.9867132 1.0049406\n",
       "4   4 0.08150832 3.9869472 1.0036074\n",
       "5   5 0.06018547 4.9716765 1.0058149\n",
       "6   6 0.04730261 6.0127196 0.9979343\n",
       "7   7 0.01562886 6.9400184 1.0086470\n",
       "8   8 0.05328619 8.0313431 0.9961325\n",
       "9   9 0.04886179 8.9836556 1.0018430\n",
       "10 10 0.06245583 9.9948604 1.0005453"
      ]
     },
     "metadata": {},
     "output_type": "display_data"
    }
   ],
   "source": [
    "avg_dplyr %>% filter(alg==\"t1\") %>% select(-alg)"
   ]
  },
  {
   "cell_type": "markdown",
   "metadata": {},
   "source": [
    "## Przyklad aproksymacji wielomianami"
   ]
  },
  {
   "cell_type": "markdown",
   "metadata": {},
   "source": [
    "Generujemy ciąg punktów, który będziemy aproksymować"
   ]
  },
  {
   "cell_type": "code",
   "execution_count": 21,
   "metadata": {},
   "outputs": [
    {
     "data": {
      "text/html": [
       "<table>\n",
       "<thead><tr><th scope=col>x</th><th scope=col>y</th></tr></thead>\n",
       "<tbody>\n",
       "\t<tr><td> 32.0</td><td> 99.5</td></tr>\n",
       "\t<tr><td> 64.0</td><td>104.8</td></tr>\n",
       "\t<tr><td> 96.0</td><td>108.5</td></tr>\n",
       "\t<tr><td>118.0</td><td>100.0</td></tr>\n",
       "\t<tr><td>126.0</td><td> 86.0</td></tr>\n",
       "\t<tr><td>144.0</td><td> 64.0</td></tr>\n",
       "\t<tr><td>152.5</td><td> 35.3</td></tr>\n",
       "\t<tr><td>158.0</td><td> 15.0</td></tr>\n",
       "</tbody>\n",
       "</table>\n"
      ],
      "text/latex": [
       "\\begin{tabular}{r|ll}\n",
       " x & y\\\\\n",
       "\\hline\n",
       "\t  32.0 &  99.5\\\\\n",
       "\t  64.0 & 104.8\\\\\n",
       "\t  96.0 & 108.5\\\\\n",
       "\t 118.0 & 100.0\\\\\n",
       "\t 126.0 &  86.0\\\\\n",
       "\t 144.0 &  64.0\\\\\n",
       "\t 152.5 &  35.3\\\\\n",
       "\t 158.0 &  15.0\\\\\n",
       "\\end{tabular}\n"
      ],
      "text/markdown": [
       "\n",
       "| x | y |\n",
       "|---|---|\n",
       "|  32.0 |  99.5 |\n",
       "|  64.0 | 104.8 |\n",
       "|  96.0 | 108.5 |\n",
       "| 118.0 | 100.0 |\n",
       "| 126.0 |  86.0 |\n",
       "| 144.0 |  64.0 |\n",
       "| 152.5 |  35.3 |\n",
       "| 158.0 |  15.0 |\n",
       "\n"
      ],
      "text/plain": [
       "  x     y    \n",
       "1  32.0  99.5\n",
       "2  64.0 104.8\n",
       "3  96.0 108.5\n",
       "4 118.0 100.0\n",
       "5 126.0  86.0\n",
       "6 144.0  64.0\n",
       "7 152.5  35.3\n",
       "8 158.0  15.0"
      ]
     },
     "metadata": {},
     "output_type": "display_data"
    }
   ],
   "source": [
    "x <- c(32,64,96,118,126,144,152.5,158)  \n",
    "y <- c(99.5,104.8,108.5,100,86,64,35.3,15)\n",
    "mydata <- data.frame(x,y)\n",
    "mydata"
   ]
  },
  {
   "cell_type": "markdown",
   "metadata": {},
   "source": [
    "Fitujemy zwyklym wielomianem stopnia 3"
   ]
  },
  {
   "cell_type": "code",
   "execution_count": 22,
   "metadata": {},
   "outputs": [],
   "source": [
    "fit <- lm(y ~ poly(x, 3, raw=TRUE), data=mydata)"
   ]
  },
  {
   "cell_type": "markdown",
   "metadata": {},
   "source": [
    "Możemy wyświetlić współczynniki wielomianu:"
   ]
  },
  {
   "cell_type": "code",
   "execution_count": 53,
   "metadata": {},
   "outputs": [
    {
     "data": {
      "text/plain": [
       "\n",
       "Call:\n",
       "lm(formula = y ~ poly(x, 3, raw = TRUE), data = mydata)\n",
       "\n",
       "Coefficients:\n",
       "            (Intercept)  poly(x, 3, raw = TRUE)1  poly(x, 3, raw = TRUE)2  \n",
       "              1.269e+02               -1.626e+00                2.910e-02  \n",
       "poly(x, 3, raw = TRUE)3  \n",
       "             -1.468e-04  \n"
      ]
     },
     "metadata": {},
     "output_type": "display_data"
    }
   ],
   "source": [
    "fit "
   ]
  },
  {
   "cell_type": "markdown",
   "metadata": {},
   "source": [
    "Rysujemy wykres punktów:"
   ]
  },
  {
   "cell_type": "code",
   "execution_count": 24,
   "metadata": {},
   "outputs": [
    {
     "data": {
      "image/png": "[encoded data removed]",
      "text/plain": [
       "plot without title"
      ]
     },
     "metadata": {},
     "output_type": "display_data"
    }
   ],
   "source": [
    "ggplot(mydata, aes(x,y)) + geom_point()"
   ]
  },
  {
   "cell_type": "markdown",
   "metadata": {},
   "source": [
    "Generujemy gęstą listę punktów dla wyliczenia wartości wielomianu aproksymujacego"
   ]
  },
  {
   "cell_type": "code",
   "execution_count": 17,
   "metadata": {},
   "outputs": [],
   "source": [
    "newdata = data.frame(x = seq(30, 160, length.out=250))"
   ]
  },
  {
   "cell_type": "code",
   "execution_count": 26,
   "metadata": {
    "scrolled": true
   },
   "outputs": [
    {
     "data": {
      "text/html": [
       "<table>\n",
       "<thead><tr><th scope=col>x</th><th scope=col>y</th></tr></thead>\n",
       "<tbody>\n",
       "\t<tr><td>30.00000 </td><td>100.37796</td></tr>\n",
       "\t<tr><td>30.52209 </td><td>100.23794</td></tr>\n",
       "\t<tr><td>31.04418 </td><td>100.10647</td></tr>\n",
       "\t<tr><td>31.56627 </td><td> 99.98341</td></tr>\n",
       "\t<tr><td>32.08835 </td><td> 99.86864</td></tr>\n",
       "\t<tr><td>32.61044 </td><td> 99.76203</td></tr>\n",
       "\t<tr><td>33.13253 </td><td> 99.66346</td></tr>\n",
       "\t<tr><td>33.65462 </td><td> 99.57280</td></tr>\n",
       "\t<tr><td>34.17671 </td><td> 99.48993</td></tr>\n",
       "\t<tr><td>34.69880 </td><td> 99.41472</td></tr>\n",
       "\t<tr><td>35.22088 </td><td> 99.34705</td></tr>\n",
       "\t<tr><td>35.74297 </td><td> 99.28679</td></tr>\n",
       "\t<tr><td>36.26506 </td><td> 99.23382</td></tr>\n",
       "\t<tr><td>36.78715 </td><td> 99.18801</td></tr>\n",
       "\t<tr><td>37.30924 </td><td> 99.14923</td></tr>\n",
       "\t<tr><td>37.83133 </td><td> 99.11737</td></tr>\n",
       "\t<tr><td>38.35341 </td><td> 99.09228</td></tr>\n",
       "\t<tr><td>38.87550 </td><td> 99.07386</td></tr>\n",
       "\t<tr><td>39.39759 </td><td> 99.06197</td></tr>\n",
       "\t<tr><td>39.91968 </td><td> 99.05650</td></tr>\n",
       "\t<tr><td>40.44177 </td><td> 99.05730</td></tr>\n",
       "\t<tr><td>40.96386 </td><td> 99.06426</td></tr>\n",
       "\t<tr><td>41.48594 </td><td> 99.07726</td></tr>\n",
       "\t<tr><td>42.00803 </td><td> 99.09617</td></tr>\n",
       "\t<tr><td>42.53012 </td><td> 99.12085</td></tr>\n",
       "\t<tr><td>43.05221 </td><td> 99.15120</td></tr>\n",
       "\t<tr><td>43.57430 </td><td> 99.18707</td></tr>\n",
       "\t<tr><td>44.09639 </td><td> 99.22836</td></tr>\n",
       "\t<tr><td>44.61847 </td><td> 99.27492</td></tr>\n",
       "\t<tr><td>45.14056 </td><td> 99.32664</td></tr>\n",
       "\t<tr><td>...</td><td>...</td></tr>\n",
       "\t<tr><td>144.8594</td><td>55.92557</td></tr>\n",
       "\t<tr><td>145.3815</td><td>54.64547</td></tr>\n",
       "\t<tr><td>145.9036</td><td>53.34634</td></tr>\n",
       "\t<tr><td>146.4257</td><td>52.02806</td></tr>\n",
       "\t<tr><td>146.9478</td><td>50.69049</td></tr>\n",
       "\t<tr><td>147.4699</td><td>49.33353</td></tr>\n",
       "\t<tr><td>147.9920</td><td>47.95703</td></tr>\n",
       "\t<tr><td>148.5141</td><td>46.56088</td></tr>\n",
       "\t<tr><td>149.0361</td><td>45.14494</td></tr>\n",
       "\t<tr><td>149.5582</td><td>43.70910</td></tr>\n",
       "\t<tr><td>150.0803</td><td>42.25323</td></tr>\n",
       "\t<tr><td>150.6024</td><td>40.77721</td></tr>\n",
       "\t<tr><td>151.1245</td><td>39.28089</td></tr>\n",
       "\t<tr><td>151.6466</td><td>37.76418</td></tr>\n",
       "\t<tr><td>152.1687</td><td>36.22693</td></tr>\n",
       "\t<tr><td>152.6908</td><td>34.66902</td></tr>\n",
       "\t<tr><td>153.2129</td><td>33.09033</td></tr>\n",
       "\t<tr><td>153.7349</td><td>31.49073</td></tr>\n",
       "\t<tr><td>154.2570</td><td>29.87009</td></tr>\n",
       "\t<tr><td>154.7791</td><td>28.22830</td></tr>\n",
       "\t<tr><td>155.3012</td><td>26.56522</td></tr>\n",
       "\t<tr><td>155.8233</td><td>24.88073</td></tr>\n",
       "\t<tr><td>156.3454</td><td>23.17471</td></tr>\n",
       "\t<tr><td>156.8675</td><td>21.44702</td></tr>\n",
       "\t<tr><td>157.3896</td><td>19.69755</td></tr>\n",
       "\t<tr><td>157.9116</td><td>17.92617</td></tr>\n",
       "\t<tr><td>158.4337</td><td>16.13275</td></tr>\n",
       "\t<tr><td>158.9558</td><td>14.31717</td></tr>\n",
       "\t<tr><td>159.4779</td><td>12.47931</td></tr>\n",
       "\t<tr><td>160.0000</td><td>10.61903</td></tr>\n",
       "</tbody>\n",
       "</table>\n"
      ],
      "text/latex": [
       "\\begin{tabular}{r|ll}\n",
       " x & y\\\\\n",
       "\\hline\n",
       "\t 30.00000  & 100.37796\\\\\n",
       "\t 30.52209  & 100.23794\\\\\n",
       "\t 31.04418  & 100.10647\\\\\n",
       "\t 31.56627  &  99.98341\\\\\n",
       "\t 32.08835  &  99.86864\\\\\n",
       "\t 32.61044  &  99.76203\\\\\n",
       "\t 33.13253  &  99.66346\\\\\n",
       "\t 33.65462  &  99.57280\\\\\n",
       "\t 34.17671  &  99.48993\\\\\n",
       "\t 34.69880  &  99.41472\\\\\n",
       "\t 35.22088  &  99.34705\\\\\n",
       "\t 35.74297  &  99.28679\\\\\n",
       "\t 36.26506  &  99.23382\\\\\n",
       "\t 36.78715  &  99.18801\\\\\n",
       "\t 37.30924  &  99.14923\\\\\n",
       "\t 37.83133  &  99.11737\\\\\n",
       "\t 38.35341  &  99.09228\\\\\n",
       "\t 38.87550  &  99.07386\\\\\n",
       "\t 39.39759  &  99.06197\\\\\n",
       "\t 39.91968  &  99.05650\\\\\n",
       "\t 40.44177  &  99.05730\\\\\n",
       "\t 40.96386  &  99.06426\\\\\n",
       "\t 41.48594  &  99.07726\\\\\n",
       "\t 42.00803  &  99.09617\\\\\n",
       "\t 42.53012  &  99.12085\\\\\n",
       "\t 43.05221  &  99.15120\\\\\n",
       "\t 43.57430  &  99.18707\\\\\n",
       "\t 44.09639  &  99.22836\\\\\n",
       "\t 44.61847  &  99.27492\\\\\n",
       "\t 45.14056  &  99.32664\\\\\n",
       "\t ... & ...\\\\\n",
       "\t 144.8594 & 55.92557\\\\\n",
       "\t 145.3815 & 54.64547\\\\\n",
       "\t 145.9036 & 53.34634\\\\\n",
       "\t 146.4257 & 52.02806\\\\\n",
       "\t 146.9478 & 50.69049\\\\\n",
       "\t 147.4699 & 49.33353\\\\\n",
       "\t 147.9920 & 47.95703\\\\\n",
       "\t 148.5141 & 46.56088\\\\\n",
       "\t 149.0361 & 45.14494\\\\\n",
       "\t 149.5582 & 43.70910\\\\\n",
       "\t 150.0803 & 42.25323\\\\\n",
       "\t 150.6024 & 40.77721\\\\\n",
       "\t 151.1245 & 39.28089\\\\\n",
       "\t 151.6466 & 37.76418\\\\\n",
       "\t 152.1687 & 36.22693\\\\\n",
       "\t 152.6908 & 34.66902\\\\\n",
       "\t 153.2129 & 33.09033\\\\\n",
       "\t 153.7349 & 31.49073\\\\\n",
       "\t 154.2570 & 29.87009\\\\\n",
       "\t 154.7791 & 28.22830\\\\\n",
       "\t 155.3012 & 26.56522\\\\\n",
       "\t 155.8233 & 24.88073\\\\\n",
       "\t 156.3454 & 23.17471\\\\\n",
       "\t 156.8675 & 21.44702\\\\\n",
       "\t 157.3896 & 19.69755\\\\\n",
       "\t 157.9116 & 17.92617\\\\\n",
       "\t 158.4337 & 16.13275\\\\\n",
       "\t 158.9558 & 14.31717\\\\\n",
       "\t 159.4779 & 12.47931\\\\\n",
       "\t 160.0000 & 10.61903\\\\\n",
       "\\end{tabular}\n"
      ],
      "text/markdown": [
       "\n",
       "| x | y |\n",
       "|---|---|\n",
       "| 30.00000  | 100.37796 |\n",
       "| 30.52209  | 100.23794 |\n",
       "| 31.04418  | 100.10647 |\n",
       "| 31.56627  |  99.98341 |\n",
       "| 32.08835  |  99.86864 |\n",
       "| 32.61044  |  99.76203 |\n",
       "| 33.13253  |  99.66346 |\n",
       "| 33.65462  |  99.57280 |\n",
       "| 34.17671  |  99.48993 |\n",
       "| 34.69880  |  99.41472 |\n",
       "| 35.22088  |  99.34705 |\n",
       "| 35.74297  |  99.28679 |\n",
       "| 36.26506  |  99.23382 |\n",
       "| 36.78715  |  99.18801 |\n",
       "| 37.30924  |  99.14923 |\n",
       "| 37.83133  |  99.11737 |\n",
       "| 38.35341  |  99.09228 |\n",
       "| 38.87550  |  99.07386 |\n",
       "| 39.39759  |  99.06197 |\n",
       "| 39.91968  |  99.05650 |\n",
       "| 40.44177  |  99.05730 |\n",
       "| 40.96386  |  99.06426 |\n",
       "| 41.48594  |  99.07726 |\n",
       "| 42.00803  |  99.09617 |\n",
       "| 42.53012  |  99.12085 |\n",
       "| 43.05221  |  99.15120 |\n",
       "| 43.57430  |  99.18707 |\n",
       "| 44.09639  |  99.22836 |\n",
       "| 44.61847  |  99.27492 |\n",
       "| 45.14056  |  99.32664 |\n",
       "| ... | ... |\n",
       "| 144.8594 | 55.92557 |\n",
       "| 145.3815 | 54.64547 |\n",
       "| 145.9036 | 53.34634 |\n",
       "| 146.4257 | 52.02806 |\n",
       "| 146.9478 | 50.69049 |\n",
       "| 147.4699 | 49.33353 |\n",
       "| 147.9920 | 47.95703 |\n",
       "| 148.5141 | 46.56088 |\n",
       "| 149.0361 | 45.14494 |\n",
       "| 149.5582 | 43.70910 |\n",
       "| 150.0803 | 42.25323 |\n",
       "| 150.6024 | 40.77721 |\n",
       "| 151.1245 | 39.28089 |\n",
       "| 151.6466 | 37.76418 |\n",
       "| 152.1687 | 36.22693 |\n",
       "| 152.6908 | 34.66902 |\n",
       "| 153.2129 | 33.09033 |\n",
       "| 153.7349 | 31.49073 |\n",
       "| 154.2570 | 29.87009 |\n",
       "| 154.7791 | 28.22830 |\n",
       "| 155.3012 | 26.56522 |\n",
       "| 155.8233 | 24.88073 |\n",
       "| 156.3454 | 23.17471 |\n",
       "| 156.8675 | 21.44702 |\n",
       "| 157.3896 | 19.69755 |\n",
       "| 157.9116 | 17.92617 |\n",
       "| 158.4337 | 16.13275 |\n",
       "| 158.9558 | 14.31717 |\n",
       "| 159.4779 | 12.47931 |\n",
       "| 160.0000 | 10.61903 |\n",
       "\n"
      ],
      "text/plain": [
       "    x        y        \n",
       "1   30.00000 100.37796\n",
       "2   30.52209 100.23794\n",
       "3   31.04418 100.10647\n",
       "4   31.56627  99.98341\n",
       "5   32.08835  99.86864\n",
       "6   32.61044  99.76203\n",
       "7   33.13253  99.66346\n",
       "8   33.65462  99.57280\n",
       "9   34.17671  99.48993\n",
       "10  34.69880  99.41472\n",
       "11  35.22088  99.34705\n",
       "12  35.74297  99.28679\n",
       "13  36.26506  99.23382\n",
       "14  36.78715  99.18801\n",
       "15  37.30924  99.14923\n",
       "16  37.83133  99.11737\n",
       "17  38.35341  99.09228\n",
       "18  38.87550  99.07386\n",
       "19  39.39759  99.06197\n",
       "20  39.91968  99.05650\n",
       "21  40.44177  99.05730\n",
       "22  40.96386  99.06426\n",
       "23  41.48594  99.07726\n",
       "24  42.00803  99.09617\n",
       "25  42.53012  99.12085\n",
       "26  43.05221  99.15120\n",
       "27  43.57430  99.18707\n",
       "28  44.09639  99.22836\n",
       "29  44.61847  99.27492\n",
       "30  45.14056  99.32664\n",
       "... ...      ...      \n",
       "221 144.8594 55.92557 \n",
       "222 145.3815 54.64547 \n",
       "223 145.9036 53.34634 \n",
       "224 146.4257 52.02806 \n",
       "225 146.9478 50.69049 \n",
       "226 147.4699 49.33353 \n",
       "227 147.9920 47.95703 \n",
       "228 148.5141 46.56088 \n",
       "229 149.0361 45.14494 \n",
       "230 149.5582 43.70910 \n",
       "231 150.0803 42.25323 \n",
       "232 150.6024 40.77721 \n",
       "233 151.1245 39.28089 \n",
       "234 151.6466 37.76418 \n",
       "235 152.1687 36.22693 \n",
       "236 152.6908 34.66902 \n",
       "237 153.2129 33.09033 \n",
       "238 153.7349 31.49073 \n",
       "239 154.2570 29.87009 \n",
       "240 154.7791 28.22830 \n",
       "241 155.3012 26.56522 \n",
       "242 155.8233 24.88073 \n",
       "243 156.3454 23.17471 \n",
       "244 156.8675 21.44702 \n",
       "245 157.3896 19.69755 \n",
       "246 157.9116 17.92617 \n",
       "247 158.4337 16.13275 \n",
       "248 158.9558 14.31717 \n",
       "249 159.4779 12.47931 \n",
       "250 160.0000 10.61903 "
      ]
     },
     "metadata": {},
     "output_type": "display_data"
    }
   ],
   "source": [
    "newdata"
   ]
  },
  {
   "cell_type": "markdown",
   "metadata": {},
   "source": [
    "Dodajemy do wykresu krzywą wielomianu"
   ]
  },
  {
   "cell_type": "code",
   "execution_count": 25,
   "metadata": {},
   "outputs": [
    {
     "data": {
      "image/png": "[encoded data removed]",
      "text/plain": [
       "plot without title"
      ]
     },
     "metadata": {},
     "output_type": "display_data"
    }
   ],
   "source": [
    "newdata$y = predict(fit, newdata)\n",
    "last_plot() + geom_line(data=newdata, aes(x,y))"
   ]
  },
  {
   "cell_type": "markdown",
   "metadata": {},
   "source": [
    "[Multiple Regression in R](http://www.statmethods.net/stats/regression.html)"
   ]
  },
  {
   "cell_type": "markdown",
   "metadata": {},
   "source": [
    "## Zadanie"
   ]
  },
  {
   "cell_type": "markdown",
   "metadata": {},
   "source": [
    "Za pomocą języka R przeanalizować dowolne dane z poprzednich laboratoriów. Elementy obowiązkowe:\n",
    "\n",
    "1. W jednej tabeli języka R należy umieścić wyniki dwóch różnych eksperymentów (t.j. czas działania dwóch różnych funkcji) dla różnych parametrów (t.j. rozmiarów wektora(macierzy)). Tabela powinna zawierać dane z 10-krotnego uruchomienia tego samego eksperymentu dla tych samych parametrów (dla każdego takiego zestawu)  (1p.)\n",
    "2. Należy przedstawić wykresy średnich czasów obliczenia wybranych funkcji w zależności od rozmiaru wektora (macierzy) (1p.)\n",
    "3. Wykresy powinny zawierać informację o odchyleniu standardowym dla uzyskanych wyników. Słupki błędów można narysować korzystając z funkcji geom_errorbar pakietu ggplot2 (1p.)\n",
    "4. Użyć aproksymacji wielomianowej dostępnej w języku R do znalezienia odpowiednich wielomianów, które najlepiej pasują do wyników każdego z algorytmów. Dodać wykresy uzyskanych wielomianow do wykresu. (1p.)\n",
    "5. Dopasować krzywą wykładniczą do liczby zakażonych koronawirusem. Przykładowe źródło danych w [GoogleDoc](https://docs.google.com/spreadsheets/d/1ZIdpVF5AfbkFvGxey92RQLjRVWF8_oWN5-hSbFDL8g0/htmlview#) lub https://ourworldindata.org/explorers/coronavirus-data-explorer. Jak zmieniają się krzywe w zależności od wybranego okresu czasu. Porównać na wykresach co najmniej 2 dopasowania (2p.)\n",
    "\n",
    "Można używać \"bazowego\" R, ale preferowane jest wykorzystanie `tidyverse`."
   ]
  },
  {
   "cell_type": "markdown",
   "metadata": {},
   "source": [
    "### Zadania 1-3"
   ]
  },
  {
   "cell_type": "code",
   "execution_count": 60,
   "metadata": {
    "scrolled": true
   },
   "outputs": [
    {
     "name": "stderr",
     "output_type": "stream",
     "text": [
      "\n",
      "\u001b[36m--\u001b[39m \u001b[1m\u001b[1mColumn specification\u001b[1m\u001b[22m \u001b[36m------------------------------------------------------------------------------------------------\u001b[39m\n",
      "cols(\n",
      "  n = col_double(),\n",
      "  k = col_double(),\n",
      "  naive = col_double(),\n",
      "  better = col_double(),\n",
      "  blas = col_double()\n",
      ")\n",
      "\n"
     ]
    },
    {
     "data": {
      "text/html": [
       "<table>\n",
       "<thead><tr><th scope=col>n</th><th scope=col>k</th><th scope=col>naive</th><th scope=col>blas</th></tr></thead>\n",
       "<tbody>\n",
       "\t<tr><td>10  </td><td>0   </td><td>0.00</td><td>0   </td></tr>\n",
       "\t<tr><td>10  </td><td>1   </td><td>0.00</td><td>0   </td></tr>\n",
       "\t<tr><td>10  </td><td>2   </td><td>0.00</td><td>0   </td></tr>\n",
       "\t<tr><td>10  </td><td>3   </td><td>0.00</td><td>0   </td></tr>\n",
       "\t<tr><td>10  </td><td>4   </td><td>0.00</td><td>0   </td></tr>\n",
       "\t<tr><td>10  </td><td>5   </td><td>0.00</td><td>0   </td></tr>\n",
       "\t<tr><td>10  </td><td>6   </td><td>0.00</td><td>0   </td></tr>\n",
       "\t<tr><td>10  </td><td>7   </td><td>0.00</td><td>0   </td></tr>\n",
       "\t<tr><td>10  </td><td>8   </td><td>0.00</td><td>0   </td></tr>\n",
       "\t<tr><td>10  </td><td>9   </td><td>0.00</td><td>0   </td></tr>\n",
       "\t<tr><td>20  </td><td>0   </td><td>0.00</td><td>0   </td></tr>\n",
       "\t<tr><td>20  </td><td>1   </td><td>0.00</td><td>0   </td></tr>\n",
       "\t<tr><td>20  </td><td>2   </td><td>0.00</td><td>0   </td></tr>\n",
       "\t<tr><td>20  </td><td>3   </td><td>0.00</td><td>0   </td></tr>\n",
       "\t<tr><td>20  </td><td>4   </td><td>0.00</td><td>0   </td></tr>\n",
       "\t<tr><td>20  </td><td>5   </td><td>0.00</td><td>0   </td></tr>\n",
       "\t<tr><td>20  </td><td>6   </td><td>0.00</td><td>0   </td></tr>\n",
       "\t<tr><td>20  </td><td>7   </td><td>0.00</td><td>0   </td></tr>\n",
       "\t<tr><td>20  </td><td>8   </td><td>0.00</td><td>0   </td></tr>\n",
       "\t<tr><td>20  </td><td>9   </td><td>0.00</td><td>0   </td></tr>\n",
       "\t<tr><td>30  </td><td>0   </td><td>0.00</td><td>0   </td></tr>\n",
       "\t<tr><td>30  </td><td>1   </td><td>0.00</td><td>0   </td></tr>\n",
       "\t<tr><td>30  </td><td>2   </td><td>0.00</td><td>0   </td></tr>\n",
       "\t<tr><td>30  </td><td>3   </td><td>0.00</td><td>0   </td></tr>\n",
       "\t<tr><td>30  </td><td>4   </td><td>0.00</td><td>0   </td></tr>\n",
       "\t<tr><td>30  </td><td>5   </td><td>0.00</td><td>0   </td></tr>\n",
       "\t<tr><td>30  </td><td>6   </td><td>0.00</td><td>0   </td></tr>\n",
       "\t<tr><td>30  </td><td>7   </td><td>0.00</td><td>0   </td></tr>\n",
       "\t<tr><td>30  </td><td>8   </td><td>0.00</td><td>0   </td></tr>\n",
       "\t<tr><td>30  </td><td>9   </td><td>0.01</td><td>0   </td></tr>\n",
       "\t<tr><td>...</td><td>...</td><td>...</td><td>...</td></tr>\n",
       "\t<tr><td>380 </td><td>0   </td><td>0.31</td><td>0.03</td></tr>\n",
       "\t<tr><td>380 </td><td>1   </td><td>0.31</td><td>0.03</td></tr>\n",
       "\t<tr><td>380 </td><td>2   </td><td>0.31</td><td>0.03</td></tr>\n",
       "\t<tr><td>380 </td><td>3   </td><td>0.31</td><td>0.03</td></tr>\n",
       "\t<tr><td>380 </td><td>4   </td><td>0.31</td><td>0.02</td></tr>\n",
       "\t<tr><td>380 </td><td>5   </td><td>0.31</td><td>0.03</td></tr>\n",
       "\t<tr><td>380 </td><td>6   </td><td>0.31</td><td>0.03</td></tr>\n",
       "\t<tr><td>380 </td><td>7   </td><td>0.31</td><td>0.02</td></tr>\n",
       "\t<tr><td>380 </td><td>8   </td><td>0.31</td><td>0.02</td></tr>\n",
       "\t<tr><td>380 </td><td>9   </td><td>0.31</td><td>0.03</td></tr>\n",
       "\t<tr><td>390 </td><td>0   </td><td>0.26</td><td>0.03</td></tr>\n",
       "\t<tr><td>390 </td><td>1   </td><td>0.26</td><td>0.03</td></tr>\n",
       "\t<tr><td>390 </td><td>2   </td><td>0.26</td><td>0.03</td></tr>\n",
       "\t<tr><td>390 </td><td>3   </td><td>0.26</td><td>0.03</td></tr>\n",
       "\t<tr><td>390 </td><td>4   </td><td>0.26</td><td>0.03</td></tr>\n",
       "\t<tr><td>390 </td><td>5   </td><td>0.25</td><td>0.04</td></tr>\n",
       "\t<tr><td>390 </td><td>6   </td><td>0.26</td><td>0.02</td></tr>\n",
       "\t<tr><td>390 </td><td>7   </td><td>0.25</td><td>0.03</td></tr>\n",
       "\t<tr><td>390 </td><td>8   </td><td>0.25</td><td>0.04</td></tr>\n",
       "\t<tr><td>390 </td><td>9   </td><td>0.26</td><td>0.03</td></tr>\n",
       "\t<tr><td>400 </td><td>0   </td><td>0.28</td><td>0.03</td></tr>\n",
       "\t<tr><td>400 </td><td>1   </td><td>0.28</td><td>0.03</td></tr>\n",
       "\t<tr><td>400 </td><td>2   </td><td>0.28</td><td>0.03</td></tr>\n",
       "\t<tr><td>400 </td><td>3   </td><td>0.27</td><td>0.04</td></tr>\n",
       "\t<tr><td>400 </td><td>4   </td><td>0.28</td><td>0.04</td></tr>\n",
       "\t<tr><td>400 </td><td>5   </td><td>0.28</td><td>0.04</td></tr>\n",
       "\t<tr><td>400 </td><td>6   </td><td>0.28</td><td>0.04</td></tr>\n",
       "\t<tr><td>400 </td><td>7   </td><td>0.28</td><td>0.04</td></tr>\n",
       "\t<tr><td>400 </td><td>8   </td><td>0.28</td><td>0.04</td></tr>\n",
       "\t<tr><td>400 </td><td>9   </td><td>0.28</td><td>0.03</td></tr>\n",
       "</tbody>\n",
       "</table>\n"
      ],
      "text/latex": [
       "\\begin{tabular}{r|llll}\n",
       " n & k & naive & blas\\\\\n",
       "\\hline\n",
       "\t 10   & 0    & 0.00 & 0   \\\\\n",
       "\t 10   & 1    & 0.00 & 0   \\\\\n",
       "\t 10   & 2    & 0.00 & 0   \\\\\n",
       "\t 10   & 3    & 0.00 & 0   \\\\\n",
       "\t 10   & 4    & 0.00 & 0   \\\\\n",
       "\t 10   & 5    & 0.00 & 0   \\\\\n",
       "\t 10   & 6    & 0.00 & 0   \\\\\n",
       "\t 10   & 7    & 0.00 & 0   \\\\\n",
       "\t 10   & 8    & 0.00 & 0   \\\\\n",
       "\t 10   & 9    & 0.00 & 0   \\\\\n",
       "\t 20   & 0    & 0.00 & 0   \\\\\n",
       "\t 20   & 1    & 0.00 & 0   \\\\\n",
       "\t 20   & 2    & 0.00 & 0   \\\\\n",
       "\t 20   & 3    & 0.00 & 0   \\\\\n",
       "\t 20   & 4    & 0.00 & 0   \\\\\n",
       "\t 20   & 5    & 0.00 & 0   \\\\\n",
       "\t 20   & 6    & 0.00 & 0   \\\\\n",
       "\t 20   & 7    & 0.00 & 0   \\\\\n",
       "\t 20   & 8    & 0.00 & 0   \\\\\n",
       "\t 20   & 9    & 0.00 & 0   \\\\\n",
       "\t 30   & 0    & 0.00 & 0   \\\\\n",
       "\t 30   & 1    & 0.00 & 0   \\\\\n",
       "\t 30   & 2    & 0.00 & 0   \\\\\n",
       "\t 30   & 3    & 0.00 & 0   \\\\\n",
       "\t 30   & 4    & 0.00 & 0   \\\\\n",
       "\t 30   & 5    & 0.00 & 0   \\\\\n",
       "\t 30   & 6    & 0.00 & 0   \\\\\n",
       "\t 30   & 7    & 0.00 & 0   \\\\\n",
       "\t 30   & 8    & 0.00 & 0   \\\\\n",
       "\t 30   & 9    & 0.01 & 0   \\\\\n",
       "\t ... & ... & ... & ...\\\\\n",
       "\t 380  & 0    & 0.31 & 0.03\\\\\n",
       "\t 380  & 1    & 0.31 & 0.03\\\\\n",
       "\t 380  & 2    & 0.31 & 0.03\\\\\n",
       "\t 380  & 3    & 0.31 & 0.03\\\\\n",
       "\t 380  & 4    & 0.31 & 0.02\\\\\n",
       "\t 380  & 5    & 0.31 & 0.03\\\\\n",
       "\t 380  & 6    & 0.31 & 0.03\\\\\n",
       "\t 380  & 7    & 0.31 & 0.02\\\\\n",
       "\t 380  & 8    & 0.31 & 0.02\\\\\n",
       "\t 380  & 9    & 0.31 & 0.03\\\\\n",
       "\t 390  & 0    & 0.26 & 0.03\\\\\n",
       "\t 390  & 1    & 0.26 & 0.03\\\\\n",
       "\t 390  & 2    & 0.26 & 0.03\\\\\n",
       "\t 390  & 3    & 0.26 & 0.03\\\\\n",
       "\t 390  & 4    & 0.26 & 0.03\\\\\n",
       "\t 390  & 5    & 0.25 & 0.04\\\\\n",
       "\t 390  & 6    & 0.26 & 0.02\\\\\n",
       "\t 390  & 7    & 0.25 & 0.03\\\\\n",
       "\t 390  & 8    & 0.25 & 0.04\\\\\n",
       "\t 390  & 9    & 0.26 & 0.03\\\\\n",
       "\t 400  & 0    & 0.28 & 0.03\\\\\n",
       "\t 400  & 1    & 0.28 & 0.03\\\\\n",
       "\t 400  & 2    & 0.28 & 0.03\\\\\n",
       "\t 400  & 3    & 0.27 & 0.04\\\\\n",
       "\t 400  & 4    & 0.28 & 0.04\\\\\n",
       "\t 400  & 5    & 0.28 & 0.04\\\\\n",
       "\t 400  & 6    & 0.28 & 0.04\\\\\n",
       "\t 400  & 7    & 0.28 & 0.04\\\\\n",
       "\t 400  & 8    & 0.28 & 0.04\\\\\n",
       "\t 400  & 9    & 0.28 & 0.03\\\\\n",
       "\\end{tabular}\n"
      ],
      "text/markdown": [
       "\n",
       "| n | k | naive | blas |\n",
       "|---|---|---|---|\n",
       "| 10   | 0    | 0.00 | 0    |\n",
       "| 10   | 1    | 0.00 | 0    |\n",
       "| 10   | 2    | 0.00 | 0    |\n",
       "| 10   | 3    | 0.00 | 0    |\n",
       "| 10   | 4    | 0.00 | 0    |\n",
       "| 10   | 5    | 0.00 | 0    |\n",
       "| 10   | 6    | 0.00 | 0    |\n",
       "| 10   | 7    | 0.00 | 0    |\n",
       "| 10   | 8    | 0.00 | 0    |\n",
       "| 10   | 9    | 0.00 | 0    |\n",
       "| 20   | 0    | 0.00 | 0    |\n",
       "| 20   | 1    | 0.00 | 0    |\n",
       "| 20   | 2    | 0.00 | 0    |\n",
       "| 20   | 3    | 0.00 | 0    |\n",
       "| 20   | 4    | 0.00 | 0    |\n",
       "| 20   | 5    | 0.00 | 0    |\n",
       "| 20   | 6    | 0.00 | 0    |\n",
       "| 20   | 7    | 0.00 | 0    |\n",
       "| 20   | 8    | 0.00 | 0    |\n",
       "| 20   | 9    | 0.00 | 0    |\n",
       "| 30   | 0    | 0.00 | 0    |\n",
       "| 30   | 1    | 0.00 | 0    |\n",
       "| 30   | 2    | 0.00 | 0    |\n",
       "| 30   | 3    | 0.00 | 0    |\n",
       "| 30   | 4    | 0.00 | 0    |\n",
       "| 30   | 5    | 0.00 | 0    |\n",
       "| 30   | 6    | 0.00 | 0    |\n",
       "| 30   | 7    | 0.00 | 0    |\n",
       "| 30   | 8    | 0.00 | 0    |\n",
       "| 30   | 9    | 0.01 | 0    |\n",
       "| ... | ... | ... | ... |\n",
       "| 380  | 0    | 0.31 | 0.03 |\n",
       "| 380  | 1    | 0.31 | 0.03 |\n",
       "| 380  | 2    | 0.31 | 0.03 |\n",
       "| 380  | 3    | 0.31 | 0.03 |\n",
       "| 380  | 4    | 0.31 | 0.02 |\n",
       "| 380  | 5    | 0.31 | 0.03 |\n",
       "| 380  | 6    | 0.31 | 0.03 |\n",
       "| 380  | 7    | 0.31 | 0.02 |\n",
       "| 380  | 8    | 0.31 | 0.02 |\n",
       "| 380  | 9    | 0.31 | 0.03 |\n",
       "| 390  | 0    | 0.26 | 0.03 |\n",
       "| 390  | 1    | 0.26 | 0.03 |\n",
       "| 390  | 2    | 0.26 | 0.03 |\n",
       "| 390  | 3    | 0.26 | 0.03 |\n",
       "| 390  | 4    | 0.26 | 0.03 |\n",
       "| 390  | 5    | 0.25 | 0.04 |\n",
       "| 390  | 6    | 0.26 | 0.02 |\n",
       "| 390  | 7    | 0.25 | 0.03 |\n",
       "| 390  | 8    | 0.25 | 0.04 |\n",
       "| 390  | 9    | 0.26 | 0.03 |\n",
       "| 400  | 0    | 0.28 | 0.03 |\n",
       "| 400  | 1    | 0.28 | 0.03 |\n",
       "| 400  | 2    | 0.28 | 0.03 |\n",
       "| 400  | 3    | 0.27 | 0.04 |\n",
       "| 400  | 4    | 0.28 | 0.04 |\n",
       "| 400  | 5    | 0.28 | 0.04 |\n",
       "| 400  | 6    | 0.28 | 0.04 |\n",
       "| 400  | 7    | 0.28 | 0.04 |\n",
       "| 400  | 8    | 0.28 | 0.04 |\n",
       "| 400  | 9    | 0.28 | 0.03 |\n",
       "\n"
      ],
      "text/plain": [
       "    n   k   naive blas\n",
       "1   10  0   0.00  0   \n",
       "2   10  1   0.00  0   \n",
       "3   10  2   0.00  0   \n",
       "4   10  3   0.00  0   \n",
       "5   10  4   0.00  0   \n",
       "6   10  5   0.00  0   \n",
       "7   10  6   0.00  0   \n",
       "8   10  7   0.00  0   \n",
       "9   10  8   0.00  0   \n",
       "10  10  9   0.00  0   \n",
       "11  20  0   0.00  0   \n",
       "12  20  1   0.00  0   \n",
       "13  20  2   0.00  0   \n",
       "14  20  3   0.00  0   \n",
       "15  20  4   0.00  0   \n",
       "16  20  5   0.00  0   \n",
       "17  20  6   0.00  0   \n",
       "18  20  7   0.00  0   \n",
       "19  20  8   0.00  0   \n",
       "20  20  9   0.00  0   \n",
       "21  30  0   0.00  0   \n",
       "22  30  1   0.00  0   \n",
       "23  30  2   0.00  0   \n",
       "24  30  3   0.00  0   \n",
       "25  30  4   0.00  0   \n",
       "26  30  5   0.00  0   \n",
       "27  30  6   0.00  0   \n",
       "28  30  7   0.00  0   \n",
       "29  30  8   0.00  0   \n",
       "30  30  9   0.01  0   \n",
       "... ... ... ...   ... \n",
       "371 380 0   0.31  0.03\n",
       "372 380 1   0.31  0.03\n",
       "373 380 2   0.31  0.03\n",
       "374 380 3   0.31  0.03\n",
       "375 380 4   0.31  0.02\n",
       "376 380 5   0.31  0.03\n",
       "377 380 6   0.31  0.03\n",
       "378 380 7   0.31  0.02\n",
       "379 380 8   0.31  0.02\n",
       "380 380 9   0.31  0.03\n",
       "381 390 0   0.26  0.03\n",
       "382 390 1   0.26  0.03\n",
       "383 390 2   0.26  0.03\n",
       "384 390 3   0.26  0.03\n",
       "385 390 4   0.26  0.03\n",
       "386 390 5   0.25  0.04\n",
       "387 390 6   0.26  0.02\n",
       "388 390 7   0.25  0.03\n",
       "389 390 8   0.25  0.04\n",
       "390 390 9   0.26  0.03\n",
       "391 400 0   0.28  0.03\n",
       "392 400 1   0.28  0.03\n",
       "393 400 2   0.28  0.03\n",
       "394 400 3   0.27  0.04\n",
       "395 400 4   0.28  0.04\n",
       "396 400 5   0.28  0.04\n",
       "397 400 6   0.28  0.04\n",
       "398 400 7   0.28  0.04\n",
       "399 400 8   0.28  0.04\n",
       "400 400 9   0.28  0.03"
      ]
     },
     "metadata": {},
     "output_type": "display_data"
    }
   ],
   "source": [
    "results = read_csv(\"results.csv\") # czasy wykonania algorytmów (naiwny i blas) mnożenia macierzy w C z poprzednich labów\n",
    "df$better <- NULL\n",
    "df"
   ]
  },
  {
   "cell_type": "code",
   "execution_count": 68,
   "metadata": {},
   "outputs": [],
   "source": [
    "results_agg <- results %>% \n",
    "    group_by(n) %>%\n",
    "    summarise(\n",
    "        naive_mean = mean(naive),\n",
    "        blas_mean = mean(blas),\n",
    "        naive_sd = sd(naive),\n",
    "        blas_sd = sd(blas)\n",
    "    )  %>% \n",
    "    ungroup() %>%\n",
    "    arrange(n)"
   ]
  },
  {
   "cell_type": "code",
   "execution_count": 69,
   "metadata": {
    "scrolled": true
   },
   "outputs": [
    {
     "data": {
      "text/html": [
       "<table>\n",
       "<thead><tr><th scope=col>n</th><th scope=col>naive_mean</th><th scope=col>blas_mean</th><th scope=col>naive_sd</th><th scope=col>blas_sd</th></tr></thead>\n",
       "<tbody>\n",
       "\t<tr><td> 10        </td><td>0.000      </td><td>0.000      </td><td>0.000000000</td><td>0.000000000</td></tr>\n",
       "\t<tr><td> 20        </td><td>0.000      </td><td>0.000      </td><td>0.000000000</td><td>0.000000000</td></tr>\n",
       "\t<tr><td> 30        </td><td>0.001      </td><td>0.000      </td><td>0.003162278</td><td>0.000000000</td></tr>\n",
       "\t<tr><td> 40        </td><td>0.001      </td><td>0.000      </td><td>0.003162278</td><td>0.000000000</td></tr>\n",
       "\t<tr><td> 50        </td><td>0.001      </td><td>0.000      </td><td>0.003162278</td><td>0.000000000</td></tr>\n",
       "\t<tr><td> 60        </td><td>0.001      </td><td>0.000      </td><td>0.003162278</td><td>0.000000000</td></tr>\n",
       "\t<tr><td> 70        </td><td>0.001      </td><td>0.001      </td><td>0.003162278</td><td>0.003162278</td></tr>\n",
       "\t<tr><td> 80        </td><td>0.001      </td><td>0.001      </td><td>0.003162278</td><td>0.003162278</td></tr>\n",
       "\t<tr><td> 90        </td><td>0.003      </td><td>0.001      </td><td>0.004830459</td><td>0.003162278</td></tr>\n",
       "\t<tr><td>100        </td><td>0.005      </td><td>0.002      </td><td>0.005270463</td><td>0.004216370</td></tr>\n",
       "\t<tr><td>110        </td><td>0.010      </td><td>0.000      </td><td>0.000000000</td><td>0.000000000</td></tr>\n",
       "\t<tr><td>120        </td><td>0.007      </td><td>0.001      </td><td>0.004830459</td><td>0.003162278</td></tr>\n",
       "\t<tr><td>130        </td><td>0.007      </td><td>0.001      </td><td>0.004830459</td><td>0.003162278</td></tr>\n",
       "\t<tr><td>140        </td><td>0.009      </td><td>0.003      </td><td>0.005676462</td><td>0.004830459</td></tr>\n",
       "\t<tr><td>150        </td><td>0.012      </td><td>0.003      </td><td>0.004216370</td><td>0.004830459</td></tr>\n",
       "\t<tr><td>160        </td><td>0.015      </td><td>0.002      </td><td>0.005270463</td><td>0.004216370</td></tr>\n",
       "\t<tr><td>170        </td><td>0.016      </td><td>0.003      </td><td>0.005163978</td><td>0.004830459</td></tr>\n",
       "\t<tr><td>180        </td><td>0.020      </td><td>0.002      </td><td>0.000000000</td><td>0.004216370</td></tr>\n",
       "\t<tr><td>190        </td><td>0.030      </td><td>0.007      </td><td>0.000000000</td><td>0.004830459</td></tr>\n",
       "\t<tr><td>200        </td><td>0.029      </td><td>0.002      </td><td>0.005676462</td><td>0.004216370</td></tr>\n",
       "\t<tr><td>210        </td><td>0.034      </td><td>0.005      </td><td>0.005163978</td><td>0.005270463</td></tr>\n",
       "\t<tr><td>220        </td><td>0.045      </td><td>0.006      </td><td>0.005270463</td><td>0.005163978</td></tr>\n",
       "\t<tr><td>230        </td><td>0.047      </td><td>0.005      </td><td>0.004830459</td><td>0.005270463</td></tr>\n",
       "\t<tr><td>240        </td><td>0.056      </td><td>0.008      </td><td>0.005163978</td><td>0.004216370</td></tr>\n",
       "\t<tr><td>250        </td><td>0.062      </td><td>0.007      </td><td>0.004216370</td><td>0.004830459</td></tr>\n",
       "\t<tr><td>260        </td><td>0.070      </td><td>0.009      </td><td>0.004714045</td><td>0.005676462</td></tr>\n",
       "\t<tr><td>270        </td><td>0.083      </td><td>0.010      </td><td>0.004830459</td><td>0.000000000</td></tr>\n",
       "\t<tr><td>280        </td><td>0.090      </td><td>0.011      </td><td>0.000000000</td><td>0.005676462</td></tr>\n",
       "\t<tr><td>290        </td><td>0.105      </td><td>0.011      </td><td>0.005270463</td><td>0.003162278</td></tr>\n",
       "\t<tr><td>300        </td><td>0.110      </td><td>0.015      </td><td>0.000000000</td><td>0.005270463</td></tr>\n",
       "\t<tr><td>310        </td><td>0.122      </td><td>0.014      </td><td>0.004216370</td><td>0.005163978</td></tr>\n",
       "\t<tr><td>320        </td><td>0.134      </td><td>0.017      </td><td>0.005163978</td><td>0.004830459</td></tr>\n",
       "\t<tr><td>330        </td><td>0.147      </td><td>0.017      </td><td>0.004830459</td><td>0.004830459</td></tr>\n",
       "\t<tr><td>340        </td><td>0.160      </td><td>0.020      </td><td>0.004714045</td><td>0.000000000</td></tr>\n",
       "\t<tr><td>350        </td><td>0.174      </td><td>0.022      </td><td>0.005163978</td><td>0.004216370</td></tr>\n",
       "\t<tr><td>360        </td><td>0.198      </td><td>0.022      </td><td>0.004216370</td><td>0.004216370</td></tr>\n",
       "\t<tr><td>370        </td><td>0.219      </td><td>0.027      </td><td>0.003162278</td><td>0.004830459</td></tr>\n",
       "\t<tr><td>380        </td><td>0.310      </td><td>0.027      </td><td>0.000000000</td><td>0.004830459</td></tr>\n",
       "\t<tr><td>390        </td><td>0.257      </td><td>0.031      </td><td>0.004830459</td><td>0.005676462</td></tr>\n",
       "\t<tr><td>400        </td><td>0.279      </td><td>0.036      </td><td>0.003162278</td><td>0.005163978</td></tr>\n",
       "</tbody>\n",
       "</table>\n"
      ],
      "text/latex": [
       "\\begin{tabular}{r|lllll}\n",
       " n & naive\\_mean & blas\\_mean & naive\\_sd & blas\\_sd\\\\\n",
       "\\hline\n",
       "\t  10         & 0.000       & 0.000       & 0.000000000 & 0.000000000\\\\\n",
       "\t  20         & 0.000       & 0.000       & 0.000000000 & 0.000000000\\\\\n",
       "\t  30         & 0.001       & 0.000       & 0.003162278 & 0.000000000\\\\\n",
       "\t  40         & 0.001       & 0.000       & 0.003162278 & 0.000000000\\\\\n",
       "\t  50         & 0.001       & 0.000       & 0.003162278 & 0.000000000\\\\\n",
       "\t  60         & 0.001       & 0.000       & 0.003162278 & 0.000000000\\\\\n",
       "\t  70         & 0.001       & 0.001       & 0.003162278 & 0.003162278\\\\\n",
       "\t  80         & 0.001       & 0.001       & 0.003162278 & 0.003162278\\\\\n",
       "\t  90         & 0.003       & 0.001       & 0.004830459 & 0.003162278\\\\\n",
       "\t 100         & 0.005       & 0.002       & 0.005270463 & 0.004216370\\\\\n",
       "\t 110         & 0.010       & 0.000       & 0.000000000 & 0.000000000\\\\\n",
       "\t 120         & 0.007       & 0.001       & 0.004830459 & 0.003162278\\\\\n",
       "\t 130         & 0.007       & 0.001       & 0.004830459 & 0.003162278\\\\\n",
       "\t 140         & 0.009       & 0.003       & 0.005676462 & 0.004830459\\\\\n",
       "\t 150         & 0.012       & 0.003       & 0.004216370 & 0.004830459\\\\\n",
       "\t 160         & 0.015       & 0.002       & 0.005270463 & 0.004216370\\\\\n",
       "\t 170         & 0.016       & 0.003       & 0.005163978 & 0.004830459\\\\\n",
       "\t 180         & 0.020       & 0.002       & 0.000000000 & 0.004216370\\\\\n",
       "\t 190         & 0.030       & 0.007       & 0.000000000 & 0.004830459\\\\\n",
       "\t 200         & 0.029       & 0.002       & 0.005676462 & 0.004216370\\\\\n",
       "\t 210         & 0.034       & 0.005       & 0.005163978 & 0.005270463\\\\\n",
       "\t 220         & 0.045       & 0.006       & 0.005270463 & 0.005163978\\\\\n",
       "\t 230         & 0.047       & 0.005       & 0.004830459 & 0.005270463\\\\\n",
       "\t 240         & 0.056       & 0.008       & 0.005163978 & 0.004216370\\\\\n",
       "\t 250         & 0.062       & 0.007       & 0.004216370 & 0.004830459\\\\\n",
       "\t 260         & 0.070       & 0.009       & 0.004714045 & 0.005676462\\\\\n",
       "\t 270         & 0.083       & 0.010       & 0.004830459 & 0.000000000\\\\\n",
       "\t 280         & 0.090       & 0.011       & 0.000000000 & 0.005676462\\\\\n",
       "\t 290         & 0.105       & 0.011       & 0.005270463 & 0.003162278\\\\\n",
       "\t 300         & 0.110       & 0.015       & 0.000000000 & 0.005270463\\\\\n",
       "\t 310         & 0.122       & 0.014       & 0.004216370 & 0.005163978\\\\\n",
       "\t 320         & 0.134       & 0.017       & 0.005163978 & 0.004830459\\\\\n",
       "\t 330         & 0.147       & 0.017       & 0.004830459 & 0.004830459\\\\\n",
       "\t 340         & 0.160       & 0.020       & 0.004714045 & 0.000000000\\\\\n",
       "\t 350         & 0.174       & 0.022       & 0.005163978 & 0.004216370\\\\\n",
       "\t 360         & 0.198       & 0.022       & 0.004216370 & 0.004216370\\\\\n",
       "\t 370         & 0.219       & 0.027       & 0.003162278 & 0.004830459\\\\\n",
       "\t 380         & 0.310       & 0.027       & 0.000000000 & 0.004830459\\\\\n",
       "\t 390         & 0.257       & 0.031       & 0.004830459 & 0.005676462\\\\\n",
       "\t 400         & 0.279       & 0.036       & 0.003162278 & 0.005163978\\\\\n",
       "\\end{tabular}\n"
      ],
      "text/markdown": [
       "\n",
       "| n | naive_mean | blas_mean | naive_sd | blas_sd |\n",
       "|---|---|---|---|---|\n",
       "|  10         | 0.000       | 0.000       | 0.000000000 | 0.000000000 |\n",
       "|  20         | 0.000       | 0.000       | 0.000000000 | 0.000000000 |\n",
       "|  30         | 0.001       | 0.000       | 0.003162278 | 0.000000000 |\n",
       "|  40         | 0.001       | 0.000       | 0.003162278 | 0.000000000 |\n",
       "|  50         | 0.001       | 0.000       | 0.003162278 | 0.000000000 |\n",
       "|  60         | 0.001       | 0.000       | 0.003162278 | 0.000000000 |\n",
       "|  70         | 0.001       | 0.001       | 0.003162278 | 0.003162278 |\n",
       "|  80         | 0.001       | 0.001       | 0.003162278 | 0.003162278 |\n",
       "|  90         | 0.003       | 0.001       | 0.004830459 | 0.003162278 |\n",
       "| 100         | 0.005       | 0.002       | 0.005270463 | 0.004216370 |\n",
       "| 110         | 0.010       | 0.000       | 0.000000000 | 0.000000000 |\n",
       "| 120         | 0.007       | 0.001       | 0.004830459 | 0.003162278 |\n",
       "| 130         | 0.007       | 0.001       | 0.004830459 | 0.003162278 |\n",
       "| 140         | 0.009       | 0.003       | 0.005676462 | 0.004830459 |\n",
       "| 150         | 0.012       | 0.003       | 0.004216370 | 0.004830459 |\n",
       "| 160         | 0.015       | 0.002       | 0.005270463 | 0.004216370 |\n",
       "| 170         | 0.016       | 0.003       | 0.005163978 | 0.004830459 |\n",
       "| 180         | 0.020       | 0.002       | 0.000000000 | 0.004216370 |\n",
       "| 190         | 0.030       | 0.007       | 0.000000000 | 0.004830459 |\n",
       "| 200         | 0.029       | 0.002       | 0.005676462 | 0.004216370 |\n",
       "| 210         | 0.034       | 0.005       | 0.005163978 | 0.005270463 |\n",
       "| 220         | 0.045       | 0.006       | 0.005270463 | 0.005163978 |\n",
       "| 230         | 0.047       | 0.005       | 0.004830459 | 0.005270463 |\n",
       "| 240         | 0.056       | 0.008       | 0.005163978 | 0.004216370 |\n",
       "| 250         | 0.062       | 0.007       | 0.004216370 | 0.004830459 |\n",
       "| 260         | 0.070       | 0.009       | 0.004714045 | 0.005676462 |\n",
       "| 270         | 0.083       | 0.010       | 0.004830459 | 0.000000000 |\n",
       "| 280         | 0.090       | 0.011       | 0.000000000 | 0.005676462 |\n",
       "| 290         | 0.105       | 0.011       | 0.005270463 | 0.003162278 |\n",
       "| 300         | 0.110       | 0.015       | 0.000000000 | 0.005270463 |\n",
       "| 310         | 0.122       | 0.014       | 0.004216370 | 0.005163978 |\n",
       "| 320         | 0.134       | 0.017       | 0.005163978 | 0.004830459 |\n",
       "| 330         | 0.147       | 0.017       | 0.004830459 | 0.004830459 |\n",
       "| 340         | 0.160       | 0.020       | 0.004714045 | 0.000000000 |\n",
       "| 350         | 0.174       | 0.022       | 0.005163978 | 0.004216370 |\n",
       "| 360         | 0.198       | 0.022       | 0.004216370 | 0.004216370 |\n",
       "| 370         | 0.219       | 0.027       | 0.003162278 | 0.004830459 |\n",
       "| 380         | 0.310       | 0.027       | 0.000000000 | 0.004830459 |\n",
       "| 390         | 0.257       | 0.031       | 0.004830459 | 0.005676462 |\n",
       "| 400         | 0.279       | 0.036       | 0.003162278 | 0.005163978 |\n",
       "\n"
      ],
      "text/plain": [
       "   n   naive_mean blas_mean naive_sd    blas_sd    \n",
       "1   10 0.000      0.000     0.000000000 0.000000000\n",
       "2   20 0.000      0.000     0.000000000 0.000000000\n",
       "3   30 0.001      0.000     0.003162278 0.000000000\n",
       "4   40 0.001      0.000     0.003162278 0.000000000\n",
       "5   50 0.001      0.000     0.003162278 0.000000000\n",
       "6   60 0.001      0.000     0.003162278 0.000000000\n",
       "7   70 0.001      0.001     0.003162278 0.003162278\n",
       "8   80 0.001      0.001     0.003162278 0.003162278\n",
       "9   90 0.003      0.001     0.004830459 0.003162278\n",
       "10 100 0.005      0.002     0.005270463 0.004216370\n",
       "11 110 0.010      0.000     0.000000000 0.000000000\n",
       "12 120 0.007      0.001     0.004830459 0.003162278\n",
       "13 130 0.007      0.001     0.004830459 0.003162278\n",
       "14 140 0.009      0.003     0.005676462 0.004830459\n",
       "15 150 0.012      0.003     0.004216370 0.004830459\n",
       "16 160 0.015      0.002     0.005270463 0.004216370\n",
       "17 170 0.016      0.003     0.005163978 0.004830459\n",
       "18 180 0.020      0.002     0.000000000 0.004216370\n",
       "19 190 0.030      0.007     0.000000000 0.004830459\n",
       "20 200 0.029      0.002     0.005676462 0.004216370\n",
       "21 210 0.034      0.005     0.005163978 0.005270463\n",
       "22 220 0.045      0.006     0.005270463 0.005163978\n",
       "23 230 0.047      0.005     0.004830459 0.005270463\n",
       "24 240 0.056      0.008     0.005163978 0.004216370\n",
       "25 250 0.062      0.007     0.004216370 0.004830459\n",
       "26 260 0.070      0.009     0.004714045 0.005676462\n",
       "27 270 0.083      0.010     0.004830459 0.000000000\n",
       "28 280 0.090      0.011     0.000000000 0.005676462\n",
       "29 290 0.105      0.011     0.005270463 0.003162278\n",
       "30 300 0.110      0.015     0.000000000 0.005270463\n",
       "31 310 0.122      0.014     0.004216370 0.005163978\n",
       "32 320 0.134      0.017     0.005163978 0.004830459\n",
       "33 330 0.147      0.017     0.004830459 0.004830459\n",
       "34 340 0.160      0.020     0.004714045 0.000000000\n",
       "35 350 0.174      0.022     0.005163978 0.004216370\n",
       "36 360 0.198      0.022     0.004216370 0.004216370\n",
       "37 370 0.219      0.027     0.003162278 0.004830459\n",
       "38 380 0.310      0.027     0.000000000 0.004830459\n",
       "39 390 0.257      0.031     0.004830459 0.005676462\n",
       "40 400 0.279      0.036     0.003162278 0.005163978"
      ]
     },
     "metadata": {},
     "output_type": "display_data"
    }
   ],
   "source": [
    "results_agg"
   ]
  },
  {
   "cell_type": "code",
   "execution_count": 72,
   "metadata": {},
   "outputs": [
    {
     "data": {
      "image/png": "[encoded data removed]",
      "text/plain": [
       "plot without title"
      ]
     },
     "metadata": {},
     "output_type": "display_data"
    }
   ],
   "source": [
    "ggplot(results_agg, aes(n, naive_mean)) + geom_point() + ylab(\"Computing time in seconds\") + \n",
    "    geom_errorbar(aes(ymin = naive_mean-naive_sd, ymax = naive_mean+naive_sd, width=.25))"
   ]
  },
  {
   "cell_type": "code",
   "execution_count": 75,
   "metadata": {},
   "outputs": [
    {
     "data": {
      "image/png": "[encoded data removed]",
      "text/plain": [
       "plot without title"
      ]
     },
     "metadata": {},
     "output_type": "display_data"
    }
   ],
   "source": [
    "ggplot(results_agg, aes(n, blas_mean)) + geom_point() + ylab(\"Computing time in seconds\") + \n",
    "    geom_errorbar(aes(ymin = blas_mean-naive_sd, ymax = blas_mean+naive_sd, width=.25))"
   ]
  },
  {
   "cell_type": "markdown",
   "metadata": {},
   "source": [
    "### Zadanie 4"
   ]
  },
  {
   "cell_type": "code",
   "execution_count": 87,
   "metadata": {},
   "outputs": [
    {
     "data": {
      "text/plain": [
       "\n",
       "Call:\n",
       "lm(formula = naive_mean ~ poly(n, 3, raw = TRUE), data = results_agg)\n",
       "\n",
       "Coefficients:\n",
       "            (Intercept)  poly(n, 3, raw = TRUE)1  poly(n, 3, raw = TRUE)2  \n",
       "             -3.299e-03                1.453e-04               -1.302e-06  \n",
       "poly(n, 3, raw = TRUE)3  \n",
       "              6.979e-09  \n"
      ]
     },
     "metadata": {},
     "output_type": "display_data"
    }
   ],
   "source": [
    "fit_naive = lm(naive_mean ~ poly(n, 3, raw=TRUE), data=results_agg)\n",
    "fit_naive"
   ]
  },
  {
   "cell_type": "code",
   "execution_count": 90,
   "metadata": {
    "scrolled": false
   },
   "outputs": [
    {
     "data": {
      "image/png": "[encoded data removed]",
      "text/plain": [
       "plot without title"
      ]
     },
     "metadata": {},
     "output_type": "display_data"
    }
   ],
   "source": [
    "data_naive = data.frame(n = seq(min(results_agg$n),max(results_agg$n), length.out=250))\n",
    "data_naive$naive_time = predict(fit_naive, data_naive)\n",
    "ggplot(results_agg,aes(n,naive_mean)) + geom_point() + geom_line(data=data_naive, aes(n,naive_time))"
   ]
  },
  {
   "cell_type": "code",
   "execution_count": 88,
   "metadata": {},
   "outputs": [
    {
     "data": {
      "text/plain": [
       "\n",
       "Call:\n",
       "lm(formula = blas_mean ~ poly(n, 3, raw = TRUE), data = results_agg)\n",
       "\n",
       "Coefficients:\n",
       "            (Intercept)  poly(n, 3, raw = TRUE)1  poly(n, 3, raw = TRUE)2  \n",
       "             -8.393e-04                3.347e-05               -2.185e-07  \n",
       "poly(n, 3, raw = TRUE)3  \n",
       "              8.802e-10  \n"
      ]
     },
     "metadata": {},
     "output_type": "display_data"
    }
   ],
   "source": [
    "fit_blas = lm(blas_mean ~ poly(n, 3, raw=TRUE), data=results_agg)\n",
    "fit_blas"
   ]
  },
  {
   "cell_type": "code",
   "execution_count": 91,
   "metadata": {},
   "outputs": [
    {
     "data": {
      "image/png": "[encoded data removed]",
      "text/plain": [
       "plot without title"
      ]
     },
     "metadata": {},
     "output_type": "display_data"
    }
   ],
   "source": [
    "data_blas = data.frame(n = seq(min(results_agg$n),max(results_agg$n), length.out=250))\n",
    "data_blas$blas_time = predict(fit_blas, data_blas)\n",
    "ggplot(results_agg,aes(n,blas_mean)) + geom_point() + geom_line(data=data_blas, aes(n,blas_time))"
   ]
  },
  {
   "cell_type": "markdown",
   "metadata": {},
   "source": [
    "### Zadanie 5"
   ]
  },
  {
   "cell_type": "code",
   "execution_count": 197,
   "metadata": {
    "scrolled": true
   },
   "outputs": [
    {
     "name": "stderr",
     "output_type": "stream",
     "text": [
      "\n",
      "\u001b[36m--\u001b[39m \u001b[1m\u001b[1mColumn specification\u001b[1m\u001b[22m \u001b[36m------------------------------------------------------------------------------------------------\u001b[39m\n",
      "cols(\n",
      "  .default = col_double(),\n",
      "  iso_code = col_character(),\n",
      "  continent = col_character(),\n",
      "  location = col_character(),\n",
      "  date = col_date(format = \"\"),\n",
      "  icu_patients = col_logical(),\n",
      "  icu_patients_per_million = col_logical(),\n",
      "  hosp_patients = col_logical(),\n",
      "  hosp_patients_per_million = col_logical(),\n",
      "  weekly_icu_admissions = col_logical(),\n",
      "  weekly_icu_admissions_per_million = col_logical(),\n",
      "  weekly_hosp_admissions = col_logical(),\n",
      "  weekly_hosp_admissions_per_million = col_logical(),\n",
      "  tests_units = col_character()\n",
      ")\n",
      "\u001b[36mi\u001b[39m Use \u001b[38;5;235m\u001b[48;5;253m\u001b[38;5;235m\u001b[48;5;253m`spec()`\u001b[48;5;253m\u001b[38;5;235m\u001b[49m\u001b[39m for the full column specifications.\n",
      "\n",
      "Warning message:\n",
      "\"40616 parsing failures.\n",
      " row                       col           expected actual             file\n",
      "4638 icu_patients              1/0/T/F/TRUE/FALSE 215.0  'covid-data.csv'\n",
      "4638 icu_patients_per_million  1/0/T/F/TRUE/FALSE 23.872 'covid-data.csv'\n",
      "4638 hosp_patients             1/0/T/F/TRUE/FALSE 856.0  'covid-data.csv'\n",
      "4638 hosp_patients_per_million 1/0/T/F/TRUE/FALSE 95.044 'covid-data.csv'\n",
      "4639 icu_patients              1/0/T/F/TRUE/FALSE 219.0  'covid-data.csv'\n",
      ".... ......................... .................. ...... ................\n",
      "See problems(...) for more details.\n",
      "\""
     ]
    }
   ],
   "source": [
    "covid_data = read_csv(\"covid-data.csv\")\n",
    "covid_data <- subset(covid_data, location==\"United States\") \n",
    "covid_data_03_11 <- subset(covid_data, date > \"2020-03-11\")\n",
    "covid_data_05_11 <- subset(covid_data, date > \"2020-05-11\") \n",
    "covid_data_10_11 <- subset(covid_data, date > \"2020-10-11\") "
   ]
  },
  {
   "cell_type": "code",
   "execution_count": 198,
   "metadata": {},
   "outputs": [
    {
     "data": {
      "text/html": [
       "<table>\n",
       "<thead><tr><th scope=col>iso_code</th><th scope=col>continent</th><th scope=col>location</th><th scope=col>date</th><th scope=col>total_cases</th><th scope=col>new_cases</th><th scope=col>new_cases_smoothed</th><th scope=col>total_deaths</th><th scope=col>new_deaths</th><th scope=col>new_deaths_smoothed</th><th scope=col>...</th><th scope=col>gdp_per_capita</th><th scope=col>extreme_poverty</th><th scope=col>cardiovasc_death_rate</th><th scope=col>diabetes_prevalence</th><th scope=col>female_smokers</th><th scope=col>male_smokers</th><th scope=col>handwashing_facilities</th><th scope=col>hospital_beds_per_thousand</th><th scope=col>life_expectancy</th><th scope=col>human_development_index</th></tr></thead>\n",
       "<tbody>\n",
       "\t<tr><td>USA          </td><td>North America</td><td>United States</td><td>2020-01-22   </td><td> 1           </td><td>NA           </td><td>   NA        </td><td>NA           </td><td>NA           </td><td>NA           </td><td>...          </td><td>54225.45     </td><td>1.2          </td><td>151.089      </td><td>10.79        </td><td>19.1         </td><td>24.6         </td><td>NA           </td><td>2.77         </td><td>78.86        </td><td>0.926        </td></tr>\n",
       "\t<tr><td>USA          </td><td>North America</td><td>United States</td><td>2020-01-23   </td><td> 1           </td><td> 0           </td><td>   NA        </td><td>NA           </td><td>NA           </td><td>NA           </td><td>...          </td><td>54225.45     </td><td>1.2          </td><td>151.089      </td><td>10.79        </td><td>19.1         </td><td>24.6         </td><td>NA           </td><td>2.77         </td><td>78.86        </td><td>0.926        </td></tr>\n",
       "\t<tr><td>USA          </td><td>North America</td><td>United States</td><td>2020-01-24   </td><td> 2           </td><td> 1           </td><td>   NA        </td><td>NA           </td><td>NA           </td><td>NA           </td><td>...          </td><td>54225.45     </td><td>1.2          </td><td>151.089      </td><td>10.79        </td><td>19.1         </td><td>24.6         </td><td>NA           </td><td>2.77         </td><td>78.86        </td><td>0.926        </td></tr>\n",
       "\t<tr><td>USA          </td><td>North America</td><td>United States</td><td>2020-01-25   </td><td> 2           </td><td> 0           </td><td>   NA        </td><td>NA           </td><td>NA           </td><td>NA           </td><td>...          </td><td>54225.45     </td><td>1.2          </td><td>151.089      </td><td>10.79        </td><td>19.1         </td><td>24.6         </td><td>NA           </td><td>2.77         </td><td>78.86        </td><td>0.926        </td></tr>\n",
       "\t<tr><td>USA          </td><td>North America</td><td>United States</td><td>2020-01-26   </td><td> 5           </td><td> 3           </td><td>   NA        </td><td>NA           </td><td>NA           </td><td>NA           </td><td>...          </td><td>54225.45     </td><td>1.2          </td><td>151.089      </td><td>10.79        </td><td>19.1         </td><td>24.6         </td><td>NA           </td><td>2.77         </td><td>78.86        </td><td>0.926        </td></tr>\n",
       "\t<tr><td>USA          </td><td>North America</td><td>United States</td><td>2020-01-27   </td><td> 5           </td><td> 0           </td><td>   NA        </td><td>NA           </td><td>NA           </td><td>NA           </td><td>...          </td><td>54225.45     </td><td>1.2          </td><td>151.089      </td><td>10.79        </td><td>19.1         </td><td>24.6         </td><td>NA           </td><td>2.77         </td><td>78.86        </td><td>0.926        </td></tr>\n",
       "\t<tr><td>USA          </td><td>North America</td><td>United States</td><td>2020-01-28   </td><td> 5           </td><td> 0           </td><td>0.571        </td><td>NA           </td><td>NA           </td><td> 0           </td><td>...          </td><td>54225.45     </td><td>1.2          </td><td>151.089      </td><td>10.79        </td><td>19.1         </td><td>24.6         </td><td>NA           </td><td>2.77         </td><td>78.86        </td><td>0.926        </td></tr>\n",
       "\t<tr><td>USA          </td><td>North America</td><td>United States</td><td>2020-01-29   </td><td> 6           </td><td> 1           </td><td>0.714        </td><td>NA           </td><td>NA           </td><td> 0           </td><td>...          </td><td>54225.45     </td><td>1.2          </td><td>151.089      </td><td>10.79        </td><td>19.1         </td><td>24.6         </td><td>NA           </td><td>2.77         </td><td>78.86        </td><td>0.926        </td></tr>\n",
       "\t<tr><td>USA          </td><td>North America</td><td>United States</td><td>2020-01-30   </td><td> 6           </td><td> 0           </td><td>0.714        </td><td>NA           </td><td>NA           </td><td> 0           </td><td>...          </td><td>54225.45     </td><td>1.2          </td><td>151.089      </td><td>10.79        </td><td>19.1         </td><td>24.6         </td><td>NA           </td><td>2.77         </td><td>78.86        </td><td>0.926        </td></tr>\n",
       "\t<tr><td>USA          </td><td>North America</td><td>United States</td><td>2020-01-31   </td><td> 8           </td><td> 2           </td><td>0.857        </td><td>NA           </td><td>NA           </td><td> 0           </td><td>...          </td><td>54225.45     </td><td>1.2          </td><td>151.089      </td><td>10.79        </td><td>19.1         </td><td>24.6         </td><td>NA           </td><td>2.77         </td><td>78.86        </td><td>0.926        </td></tr>\n",
       "\t<tr><td>USA          </td><td>North America</td><td>United States</td><td>2020-02-01   </td><td> 8           </td><td> 0           </td><td>0.857        </td><td>NA           </td><td>NA           </td><td> 0           </td><td>...          </td><td>54225.45     </td><td>1.2          </td><td>151.089      </td><td>10.79        </td><td>19.1         </td><td>24.6         </td><td>NA           </td><td>2.77         </td><td>78.86        </td><td>0.926        </td></tr>\n",
       "\t<tr><td>USA          </td><td>North America</td><td>United States</td><td>2020-02-02   </td><td> 8           </td><td> 0           </td><td>0.429        </td><td>NA           </td><td>NA           </td><td> 0           </td><td>...          </td><td>54225.45     </td><td>1.2          </td><td>151.089      </td><td>10.79        </td><td>19.1         </td><td>24.6         </td><td>NA           </td><td>2.77         </td><td>78.86        </td><td>0.926        </td></tr>\n",
       "\t<tr><td>USA          </td><td>North America</td><td>United States</td><td>2020-02-03   </td><td>11           </td><td> 3           </td><td>0.857        </td><td>NA           </td><td>NA           </td><td> 0           </td><td>...          </td><td>54225.45     </td><td>1.2          </td><td>151.089      </td><td>10.79        </td><td>19.1         </td><td>24.6         </td><td>NA           </td><td>2.77         </td><td>78.86        </td><td>0.926        </td></tr>\n",
       "\t<tr><td>USA          </td><td>North America</td><td>United States</td><td>2020-02-04   </td><td>11           </td><td> 0           </td><td>0.857        </td><td>NA           </td><td>NA           </td><td> 0           </td><td>...          </td><td>54225.45     </td><td>1.2          </td><td>151.089      </td><td>10.79        </td><td>19.1         </td><td>24.6         </td><td>NA           </td><td>2.77         </td><td>78.86        </td><td>0.926        </td></tr>\n",
       "\t<tr><td>USA          </td><td>North America</td><td>United States</td><td>2020-02-05   </td><td>11           </td><td> 0           </td><td>0.714        </td><td>NA           </td><td>NA           </td><td> 0           </td><td>...          </td><td>54225.45     </td><td>1.2          </td><td>151.089      </td><td>10.79        </td><td>19.1         </td><td>24.6         </td><td>NA           </td><td>2.77         </td><td>78.86        </td><td>0.926        </td></tr>\n",
       "\t<tr><td>USA          </td><td>North America</td><td>United States</td><td>2020-02-06   </td><td>12           </td><td> 1           </td><td>0.857        </td><td>NA           </td><td>NA           </td><td> 0           </td><td>...          </td><td>54225.45     </td><td>1.2          </td><td>151.089      </td><td>10.79        </td><td>19.1         </td><td>24.6         </td><td>NA           </td><td>2.77         </td><td>78.86        </td><td>0.926        </td></tr>\n",
       "\t<tr><td>USA          </td><td>North America</td><td>United States</td><td>2020-02-07   </td><td>12           </td><td> 0           </td><td>0.571        </td><td>NA           </td><td>NA           </td><td> 0           </td><td>...          </td><td>54225.45     </td><td>1.2          </td><td>151.089      </td><td>10.79        </td><td>19.1         </td><td>24.6         </td><td>NA           </td><td>2.77         </td><td>78.86        </td><td>0.926        </td></tr>\n",
       "\t<tr><td>USA          </td><td>North America</td><td>United States</td><td>2020-02-08   </td><td>12           </td><td> 0           </td><td>0.571        </td><td>NA           </td><td>NA           </td><td> 0           </td><td>...          </td><td>54225.45     </td><td>1.2          </td><td>151.089      </td><td>10.79        </td><td>19.1         </td><td>24.6         </td><td>NA           </td><td>2.77         </td><td>78.86        </td><td>0.926        </td></tr>\n",
       "\t<tr><td>USA          </td><td>North America</td><td>United States</td><td>2020-02-09   </td><td>12           </td><td> 0           </td><td>0.571        </td><td>NA           </td><td>NA           </td><td> 0           </td><td>...          </td><td>54225.45     </td><td>1.2          </td><td>151.089      </td><td>10.79        </td><td>19.1         </td><td>24.6         </td><td>NA           </td><td>2.77         </td><td>78.86        </td><td>0.926        </td></tr>\n",
       "\t<tr><td>USA          </td><td>North America</td><td>United States</td><td>2020-02-10   </td><td>12           </td><td> 0           </td><td>0.143        </td><td>NA           </td><td>NA           </td><td> 0           </td><td>...          </td><td>54225.45     </td><td>1.2          </td><td>151.089      </td><td>10.79        </td><td>19.1         </td><td>24.6         </td><td>NA           </td><td>2.77         </td><td>78.86        </td><td>0.926        </td></tr>\n",
       "\t<tr><td>USA          </td><td>North America</td><td>United States</td><td>2020-02-11   </td><td>13           </td><td> 1           </td><td>0.286        </td><td>NA           </td><td>NA           </td><td> 0           </td><td>...          </td><td>54225.45     </td><td>1.2          </td><td>151.089      </td><td>10.79        </td><td>19.1         </td><td>24.6         </td><td>NA           </td><td>2.77         </td><td>78.86        </td><td>0.926        </td></tr>\n",
       "\t<tr><td>USA          </td><td>North America</td><td>United States</td><td>2020-02-12   </td><td>13           </td><td> 0           </td><td>0.286        </td><td>NA           </td><td>NA           </td><td> 0           </td><td>...          </td><td>54225.45     </td><td>1.2          </td><td>151.089      </td><td>10.79        </td><td>19.1         </td><td>24.6         </td><td>NA           </td><td>2.77         </td><td>78.86        </td><td>0.926        </td></tr>\n",
       "\t<tr><td>USA          </td><td>North America</td><td>United States</td><td>2020-02-13   </td><td>14           </td><td> 1           </td><td>0.286        </td><td>NA           </td><td>NA           </td><td> 0           </td><td>...          </td><td>54225.45     </td><td>1.2          </td><td>151.089      </td><td>10.79        </td><td>19.1         </td><td>24.6         </td><td>NA           </td><td>2.77         </td><td>78.86        </td><td>0.926        </td></tr>\n",
       "\t<tr><td>USA          </td><td>North America</td><td>United States</td><td>2020-02-14   </td><td>14           </td><td> 0           </td><td>0.286        </td><td>NA           </td><td>NA           </td><td> 0           </td><td>...          </td><td>54225.45     </td><td>1.2          </td><td>151.089      </td><td>10.79        </td><td>19.1         </td><td>24.6         </td><td>NA           </td><td>2.77         </td><td>78.86        </td><td>0.926        </td></tr>\n",
       "\t<tr><td>USA          </td><td>North America</td><td>United States</td><td>2020-02-15   </td><td>14           </td><td> 0           </td><td>0.286        </td><td>NA           </td><td>NA           </td><td> 0           </td><td>...          </td><td>54225.45     </td><td>1.2          </td><td>151.089      </td><td>10.79        </td><td>19.1         </td><td>24.6         </td><td>NA           </td><td>2.77         </td><td>78.86        </td><td>0.926        </td></tr>\n",
       "\t<tr><td>USA          </td><td>North America</td><td>United States</td><td>2020-02-16   </td><td>14           </td><td> 0           </td><td>0.286        </td><td>NA           </td><td>NA           </td><td> 0           </td><td>...          </td><td>54225.45     </td><td>1.2          </td><td>151.089      </td><td>10.79        </td><td>19.1         </td><td>24.6         </td><td>NA           </td><td>2.77         </td><td>78.86        </td><td>0.926        </td></tr>\n",
       "\t<tr><td>USA          </td><td>North America</td><td>United States</td><td>2020-02-17   </td><td>14           </td><td> 0           </td><td>0.286        </td><td>NA           </td><td>NA           </td><td> 0           </td><td>...          </td><td>54225.45     </td><td>1.2          </td><td>151.089      </td><td>10.79        </td><td>19.1         </td><td>24.6         </td><td>NA           </td><td>2.77         </td><td>78.86        </td><td>0.926        </td></tr>\n",
       "\t<tr><td>USA          </td><td>North America</td><td>United States</td><td>2020-02-18   </td><td>14           </td><td> 0           </td><td>0.143        </td><td>NA           </td><td>NA           </td><td> 0           </td><td>...          </td><td>54225.45     </td><td>1.2          </td><td>151.089      </td><td>10.79        </td><td>19.1         </td><td>24.6         </td><td>NA           </td><td>2.77         </td><td>78.86        </td><td>0.926        </td></tr>\n",
       "\t<tr><td>USA          </td><td>North America</td><td>United States</td><td>2020-02-19   </td><td>14           </td><td> 0           </td><td>0.143        </td><td>NA           </td><td>NA           </td><td> 0           </td><td>...          </td><td>54225.45     </td><td>1.2          </td><td>151.089      </td><td>10.79        </td><td>19.1         </td><td>24.6         </td><td>NA           </td><td>2.77         </td><td>78.86        </td><td>0.926        </td></tr>\n",
       "\t<tr><td>USA          </td><td>North America</td><td>United States</td><td>2020-02-20   </td><td>14           </td><td> 0           </td><td>0.000        </td><td>NA           </td><td>NA           </td><td> 0           </td><td>...          </td><td>54225.45     </td><td>1.2          </td><td>151.089      </td><td>10.79        </td><td>19.1         </td><td>24.6         </td><td>NA           </td><td>2.77         </td><td>78.86        </td><td>0.926        </td></tr>\n",
       "\t<tr><td>...</td><td>...</td><td>...</td><td>...</td><td>...</td><td>...</td><td>...</td><td>...</td><td>...</td><td>...</td><td>   </td><td>...</td><td>...</td><td>...</td><td>...</td><td>...</td><td>...</td><td>...</td><td>...</td><td>...</td><td>...</td></tr>\n",
       "\t<tr><td>USA          </td><td>North America</td><td>United States</td><td>2021-03-08   </td><td>29108785     </td><td>45014        </td><td>57552.86     </td><td>526802       </td><td> 741         </td><td>1584.143     </td><td>...          </td><td>54225.45     </td><td>1.2          </td><td>151.089      </td><td>10.79        </td><td>19.1         </td><td>24.6         </td><td>NA           </td><td>2.77         </td><td>78.86        </td><td>0.926        </td></tr>\n",
       "\t<tr><td>USA          </td><td>North America</td><td>United States</td><td>2021-03-09   </td><td>29166483     </td><td>57698        </td><td>57645.14     </td><td>528603       </td><td>1801         </td><td>1563.286     </td><td>...          </td><td>54225.45     </td><td>1.2          </td><td>151.089      </td><td>10.79        </td><td>19.1         </td><td>24.6         </td><td>NA           </td><td>2.77         </td><td>78.86        </td><td>0.926        </td></tr>\n",
       "\t<tr><td>USA          </td><td>North America</td><td>United States</td><td>2021-03-10   </td><td>29224389     </td><td>57906        </td><td>56319.71     </td><td>530173       </td><td>1570         </td><td>1431.286     </td><td>...          </td><td>54225.45     </td><td>1.2          </td><td>151.089      </td><td>10.79        </td><td>19.1         </td><td>24.6         </td><td>NA           </td><td>2.77         </td><td>78.86        </td><td>0.926        </td></tr>\n",
       "\t<tr><td>USA          </td><td>North America</td><td>United States</td><td>2021-03-11   </td><td>29286851     </td><td>62462        </td><td>55522.14     </td><td>531737       </td><td>1564         </td><td>1378.286     </td><td>...          </td><td>54225.45     </td><td>1.2          </td><td>151.089      </td><td>10.79        </td><td>19.1         </td><td>24.6         </td><td>NA           </td><td>2.77         </td><td>78.86        </td><td>0.926        </td></tr>\n",
       "\t<tr><td>USA          </td><td>North America</td><td>United States</td><td>2021-03-12   </td><td>29348168     </td><td>61317        </td><td>54789.57     </td><td>533310       </td><td>1573         </td><td>1348.429     </td><td>...          </td><td>54225.45     </td><td>1.2          </td><td>151.089      </td><td>10.79        </td><td>19.1         </td><td>24.6         </td><td>NA           </td><td>2.77         </td><td>78.86        </td><td>0.926        </td></tr>\n",
       "\t<tr><td>USA          </td><td>North America</td><td>United States</td><td>2021-03-13   </td><td>29401288     </td><td>53120        </td><td>54065.14     </td><td>535047       </td><td>1737         </td><td>1381.857     </td><td>...          </td><td>54225.45     </td><td>1.2          </td><td>151.089      </td><td>10.79        </td><td>19.1         </td><td>24.6         </td><td>NA           </td><td>2.77         </td><td>78.86        </td><td>0.926        </td></tr>\n",
       "\t<tr><td>USA          </td><td>North America</td><td>United States</td><td>2021-03-14   </td><td>29439500     </td><td>38212        </td><td>53675.57     </td><td>535626       </td><td> 579         </td><td>1366.429     </td><td>...          </td><td>54225.45     </td><td>1.2          </td><td>151.089      </td><td>10.79        </td><td>19.1         </td><td>24.6         </td><td>NA           </td><td>2.77         </td><td>78.86        </td><td>0.926        </td></tr>\n",
       "\t<tr><td>USA          </td><td>North America</td><td>United States</td><td>2021-03-15   </td><td>29496149     </td><td>56649        </td><td>55337.71     </td><td>536373       </td><td> 747         </td><td>1367.286     </td><td>...          </td><td>54225.45     </td><td>1.2          </td><td>151.089      </td><td>10.79        </td><td>19.1         </td><td>24.6         </td><td>NA           </td><td>2.77         </td><td>78.86        </td><td>0.926        </td></tr>\n",
       "\t<tr><td>USA          </td><td>North America</td><td>United States</td><td>2021-03-16   </td><td>29550095     </td><td>53946        </td><td>54801.71     </td><td>537534       </td><td>1161         </td><td>1275.857     </td><td>...          </td><td>54225.45     </td><td>1.2          </td><td>151.089      </td><td>10.79        </td><td>19.1         </td><td>24.6         </td><td>NA           </td><td>2.77         </td><td>78.86        </td><td>0.926        </td></tr>\n",
       "\t<tr><td>USA          </td><td>North America</td><td>United States</td><td>2021-03-17   </td><td>29609216     </td><td>59121        </td><td>54975.29     </td><td>538716       </td><td>1182         </td><td>1220.429     </td><td>...          </td><td>54225.45     </td><td>1.2          </td><td>151.089      </td><td>10.79        </td><td>19.1         </td><td>24.6         </td><td>NA           </td><td>2.77         </td><td>78.86        </td><td>0.926        </td></tr>\n",
       "\t<tr><td>USA          </td><td>North America</td><td>United States</td><td>2021-03-18   </td><td>29669741     </td><td>60525        </td><td>54698.57     </td><td>540336       </td><td>1620         </td><td>1228.429     </td><td>...          </td><td>54225.45     </td><td>1.2          </td><td>151.089      </td><td>10.79        </td><td>19.1         </td><td>24.6         </td><td>NA           </td><td>2.77         </td><td>78.86        </td><td>0.926        </td></tr>\n",
       "\t<tr><td>USA          </td><td>North America</td><td>United States</td><td>2021-03-19   </td><td>29731361     </td><td>61620        </td><td>54741.86     </td><td>541433       </td><td>1097         </td><td>1160.429     </td><td>...          </td><td>54225.45     </td><td>1.2          </td><td>151.089      </td><td>10.79        </td><td>19.1         </td><td>24.6         </td><td>NA           </td><td>2.77         </td><td>78.86        </td><td>0.926        </td></tr>\n",
       "\t<tr><td>USA          </td><td>North America</td><td>United States</td><td>2021-03-20   </td><td>29786730     </td><td>55369        </td><td>55063.14     </td><td>542212       </td><td> 779         </td><td>1023.571     </td><td>...          </td><td>54225.45     </td><td>1.2          </td><td>151.089      </td><td>10.79        </td><td>19.1         </td><td>24.6         </td><td>NA           </td><td>2.77         </td><td>78.86        </td><td>0.926        </td></tr>\n",
       "\t<tr><td>USA          </td><td>North America</td><td>United States</td><td>2021-03-21   </td><td>29820490     </td><td>33760        </td><td>54427.14     </td><td>542660       </td><td> 448         </td><td>1004.857     </td><td>...          </td><td>54225.45     </td><td>1.2          </td><td>151.089      </td><td>10.79        </td><td>19.1         </td><td>24.6         </td><td>NA           </td><td>2.77         </td><td>78.86        </td><td>0.926        </td></tr>\n",
       "\t<tr><td>USA          </td><td>North America</td><td>United States</td><td>2021-03-22   </td><td>29872067     </td><td>51577        </td><td>53702.57     </td><td>543222       </td><td> 562         </td><td> 978.429     </td><td>...          </td><td>54225.45     </td><td>1.2          </td><td>151.089      </td><td>10.79        </td><td>19.1         </td><td>24.6         </td><td>NA           </td><td>2.77         </td><td>78.86        </td><td>0.926        </td></tr>\n",
       "\t<tr><td>USA          </td><td>North America</td><td>United States</td><td>2021-03-23   </td><td>29925655     </td><td>53588        </td><td>53651.43     </td><td>544070       </td><td> 848         </td><td> 933.714     </td><td>...          </td><td>54225.45     </td><td>1.2          </td><td>151.089      </td><td>10.79        </td><td>19.1         </td><td>24.6         </td><td>NA           </td><td>2.77         </td><td>78.86        </td><td>0.926        </td></tr>\n",
       "\t<tr><td>USA          </td><td>North America</td><td>United States</td><td>2021-03-24   </td><td>30012606     </td><td>86951        </td><td>57627.14     </td><td>545526       </td><td>1456         </td><td> 972.857     </td><td>...          </td><td>54225.45     </td><td>1.2          </td><td>151.089      </td><td>10.79        </td><td>19.1         </td><td>24.6         </td><td>NA           </td><td>2.77         </td><td>78.86        </td><td>0.926        </td></tr>\n",
       "\t<tr><td>USA          </td><td>North America</td><td>United States</td><td>2021-03-25   </td><td>30080058     </td><td>67452        </td><td>58616.71     </td><td>547085       </td><td>1559         </td><td> 964.143     </td><td>...          </td><td>54225.45     </td><td>1.2          </td><td>151.089      </td><td>10.79        </td><td>19.1         </td><td>24.6         </td><td>NA           </td><td>2.77         </td><td>78.86        </td><td>0.926        </td></tr>\n",
       "\t<tr><td>USA          </td><td>North America</td><td>United States</td><td>2021-03-26   </td><td>30157372     </td><td>77314        </td><td>60858.71     </td><td>548206       </td><td>1121         </td><td> 967.571     </td><td>...          </td><td>54225.45     </td><td>1.2          </td><td>151.089      </td><td>10.79        </td><td>19.1         </td><td>24.6         </td><td>NA           </td><td>2.77         </td><td>78.86        </td><td>0.926        </td></tr>\n",
       "\t<tr><td>USA          </td><td>North America</td><td>United States</td><td>2021-03-27   </td><td>30219450     </td><td>62078        </td><td>61817.14     </td><td>548947       </td><td> 741         </td><td> 962.143     </td><td>...          </td><td>54225.45     </td><td>1.2          </td><td>151.089      </td><td>10.79        </td><td>19.1         </td><td>24.6         </td><td>NA           </td><td>2.77         </td><td>78.86        </td><td>0.926        </td></tr>\n",
       "\t<tr><td>USA          </td><td>North America</td><td>United States</td><td>2021-03-28   </td><td>30263145     </td><td>43695        </td><td>63236.43     </td><td>549454       </td><td> 507         </td><td> 970.571     </td><td>...          </td><td>54225.45     </td><td>1.2          </td><td>151.089      </td><td>10.79        </td><td>19.1         </td><td>24.6         </td><td>NA           </td><td>2.77         </td><td>78.86        </td><td>0.926        </td></tr>\n",
       "\t<tr><td>USA          </td><td>North America</td><td>United States</td><td>2021-03-29   </td><td>30332565     </td><td>69420        </td><td>65785.43     </td><td>550155       </td><td> 701         </td><td> 990.429     </td><td>...          </td><td>54225.45     </td><td>1.2          </td><td>151.089      </td><td>10.79        </td><td>19.1         </td><td>24.6         </td><td>NA           </td><td>2.77         </td><td>78.86        </td><td>0.926        </td></tr>\n",
       "\t<tr><td>USA          </td><td>North America</td><td>United States</td><td>2021-03-30   </td><td>30393805     </td><td>61240        </td><td>66878.57     </td><td>551030       </td><td> 875         </td><td> 994.286     </td><td>...          </td><td>54225.45     </td><td>1.2          </td><td>151.089      </td><td>10.79        </td><td>19.1         </td><td>24.6         </td><td>NA           </td><td>2.77         </td><td>78.86        </td><td>0.926        </td></tr>\n",
       "\t<tr><td>USA          </td><td>North America</td><td>United States</td><td>2021-03-31   </td><td>30460834     </td><td>67029        </td><td>64032.57     </td><td>552106       </td><td>1076         </td><td> 940.000     </td><td>...          </td><td>54225.45     </td><td>1.2          </td><td>151.089      </td><td>10.79        </td><td>19.1         </td><td>24.6         </td><td>NA           </td><td>2.77         </td><td>78.86        </td><td>0.926        </td></tr>\n",
       "\t<tr><td>USA          </td><td>North America</td><td>United States</td><td>2021-04-01   </td><td>30539868     </td><td>79034        </td><td>65687.14     </td><td>553170       </td><td>1064         </td><td> 869.286     </td><td>...          </td><td>54225.45     </td><td>1.2          </td><td>151.089      </td><td>10.79        </td><td>19.1         </td><td>24.6         </td><td>NA           </td><td>2.77         </td><td>78.86        </td><td>0.926        </td></tr>\n",
       "\t<tr><td>USA          </td><td>North America</td><td>United States</td><td>2021-04-02   </td><td>30609690     </td><td>69822        </td><td>64616.86     </td><td>554103       </td><td> 933         </td><td> 842.429     </td><td>...          </td><td>54225.45     </td><td>1.2          </td><td>151.089      </td><td>10.79        </td><td>19.1         </td><td>24.6         </td><td>NA           </td><td>2.77         </td><td>78.86        </td><td>0.926        </td></tr>\n",
       "\t<tr><td>USA          </td><td>North America</td><td>United States</td><td>2021-04-03   </td><td>30672664     </td><td>62974        </td><td>64744.86     </td><td>554815       </td><td> 712         </td><td> 838.286     </td><td>...          </td><td>54225.45     </td><td>1.2          </td><td>151.089      </td><td>10.79        </td><td>19.1         </td><td>24.6         </td><td>NA           </td><td>2.77         </td><td>78.86        </td><td>0.926        </td></tr>\n",
       "\t<tr><td>USA          </td><td>North America</td><td>United States</td><td>2021-04-04   </td><td>30707596     </td><td>34932        </td><td>63493.00     </td><td>555098       </td><td> 283         </td><td> 806.286     </td><td>...          </td><td>54225.45     </td><td>1.2          </td><td>151.089      </td><td>10.79        </td><td>19.1         </td><td>24.6         </td><td>NA           </td><td>2.77         </td><td>78.86        </td><td>0.926        </td></tr>\n",
       "\t<tr><td>USA          </td><td>North America</td><td>United States</td><td>2021-04-05   </td><td>30785390     </td><td>77794        </td><td>64689.29     </td><td>555613       </td><td> 515         </td><td> 779.714     </td><td>...          </td><td>54225.45     </td><td>1.2          </td><td>151.089      </td><td>10.79        </td><td>19.1         </td><td>24.6         </td><td>NA           </td><td>2.77         </td><td>78.86        </td><td>0.926        </td></tr>\n",
       "\t<tr><td>USA          </td><td>North America</td><td>United States</td><td>2021-04-06   </td><td>30847165     </td><td>61775        </td><td>64765.71     </td><td>556528       </td><td> 915         </td><td> 785.429     </td><td>...          </td><td>54225.45     </td><td>1.2          </td><td>151.089      </td><td>10.79        </td><td>19.1         </td><td>24.6         </td><td>NA           </td><td>2.77         </td><td>78.86        </td><td>0.926        </td></tr>\n",
       "</tbody>\n",
       "</table>\n"
      ],
      "text/latex": [
       "\\begin{tabular}{r|lllllllllllllllllllllllllllllllllllllllllllllllllllllllllll}\n",
       " iso\\_code & continent & location & date & total\\_cases & new\\_cases & new\\_cases\\_smoothed & total\\_deaths & new\\_deaths & new\\_deaths\\_smoothed & ... & gdp\\_per\\_capita & extreme\\_poverty & cardiovasc\\_death\\_rate & diabetes\\_prevalence & female\\_smokers & male\\_smokers & handwashing\\_facilities & hospital\\_beds\\_per\\_thousand & life\\_expectancy & human\\_development\\_index\\\\\n",
       "\\hline\n",
       "\t USA           & North America & United States & 2020-01-22    &  1            & NA            &    NA         & NA            & NA            & NA            & ...           & 54225.45      & 1.2           & 151.089       & 10.79         & 19.1          & 24.6          & NA            & 2.77          & 78.86         & 0.926        \\\\\n",
       "\t USA           & North America & United States & 2020-01-23    &  1            &  0            &    NA         & NA            & NA            & NA            & ...           & 54225.45      & 1.2           & 151.089       & 10.79         & 19.1          & 24.6          & NA            & 2.77          & 78.86         & 0.926        \\\\\n",
       "\t USA           & North America & United States & 2020-01-24    &  2            &  1            &    NA         & NA            & NA            & NA            & ...           & 54225.45      & 1.2           & 151.089       & 10.79         & 19.1          & 24.6          & NA            & 2.77          & 78.86         & 0.926        \\\\\n",
       "\t USA           & North America & United States & 2020-01-25    &  2            &  0            &    NA         & NA            & NA            & NA            & ...           & 54225.45      & 1.2           & 151.089       & 10.79         & 19.1          & 24.6          & NA            & 2.77          & 78.86         & 0.926        \\\\\n",
       "\t USA           & North America & United States & 2020-01-26    &  5            &  3            &    NA         & NA            & NA            & NA            & ...           & 54225.45      & 1.2           & 151.089       & 10.79         & 19.1          & 24.6          & NA            & 2.77          & 78.86         & 0.926        \\\\\n",
       "\t USA           & North America & United States & 2020-01-27    &  5            &  0            &    NA         & NA            & NA            & NA            & ...           & 54225.45      & 1.2           & 151.089       & 10.79         & 19.1          & 24.6          & NA            & 2.77          & 78.86         & 0.926        \\\\\n",
       "\t USA           & North America & United States & 2020-01-28    &  5            &  0            & 0.571         & NA            & NA            &  0            & ...           & 54225.45      & 1.2           & 151.089       & 10.79         & 19.1          & 24.6          & NA            & 2.77          & 78.86         & 0.926        \\\\\n",
       "\t USA           & North America & United States & 2020-01-29    &  6            &  1            & 0.714         & NA            & NA            &  0            & ...           & 54225.45      & 1.2           & 151.089       & 10.79         & 19.1          & 24.6          & NA            & 2.77          & 78.86         & 0.926        \\\\\n",
       "\t USA           & North America & United States & 2020-01-30    &  6            &  0            & 0.714         & NA            & NA            &  0            & ...           & 54225.45      & 1.2           & 151.089       & 10.79         & 19.1          & 24.6          & NA            & 2.77          & 78.86         & 0.926        \\\\\n",
       "\t USA           & North America & United States & 2020-01-31    &  8            &  2            & 0.857         & NA            & NA            &  0            & ...           & 54225.45      & 1.2           & 151.089       & 10.79         & 19.1          & 24.6          & NA            & 2.77          & 78.86         & 0.926        \\\\\n",
       "\t USA           & North America & United States & 2020-02-01    &  8            &  0            & 0.857         & NA            & NA            &  0            & ...           & 54225.45      & 1.2           & 151.089       & 10.79         & 19.1          & 24.6          & NA            & 2.77          & 78.86         & 0.926        \\\\\n",
       "\t USA           & North America & United States & 2020-02-02    &  8            &  0            & 0.429         & NA            & NA            &  0            & ...           & 54225.45      & 1.2           & 151.089       & 10.79         & 19.1          & 24.6          & NA            & 2.77          & 78.86         & 0.926        \\\\\n",
       "\t USA           & North America & United States & 2020-02-03    & 11            &  3            & 0.857         & NA            & NA            &  0            & ...           & 54225.45      & 1.2           & 151.089       & 10.79         & 19.1          & 24.6          & NA            & 2.77          & 78.86         & 0.926        \\\\\n",
       "\t USA           & North America & United States & 2020-02-04    & 11            &  0            & 0.857         & NA            & NA            &  0            & ...           & 54225.45      & 1.2           & 151.089       & 10.79         & 19.1          & 24.6          & NA            & 2.77          & 78.86         & 0.926        \\\\\n",
       "\t USA           & North America & United States & 2020-02-05    & 11            &  0            & 0.714         & NA            & NA            &  0            & ...           & 54225.45      & 1.2           & 151.089       & 10.79         & 19.1          & 24.6          & NA            & 2.77          & 78.86         & 0.926        \\\\\n",
       "\t USA           & North America & United States & 2020-02-06    & 12            &  1            & 0.857         & NA            & NA            &  0            & ...           & 54225.45      & 1.2           & 151.089       & 10.79         & 19.1          & 24.6          & NA            & 2.77          & 78.86         & 0.926        \\\\\n",
       "\t USA           & North America & United States & 2020-02-07    & 12            &  0            & 0.571         & NA            & NA            &  0            & ...           & 54225.45      & 1.2           & 151.089       & 10.79         & 19.1          & 24.6          & NA            & 2.77          & 78.86         & 0.926        \\\\\n",
       "\t USA           & North America & United States & 2020-02-08    & 12            &  0            & 0.571         & NA            & NA            &  0            & ...           & 54225.45      & 1.2           & 151.089       & 10.79         & 19.1          & 24.6          & NA            & 2.77          & 78.86         & 0.926        \\\\\n",
       "\t USA           & North America & United States & 2020-02-09    & 12            &  0            & 0.571         & NA            & NA            &  0            & ...           & 54225.45      & 1.2           & 151.089       & 10.79         & 19.1          & 24.6          & NA            & 2.77          & 78.86         & 0.926        \\\\\n",
       "\t USA           & North America & United States & 2020-02-10    & 12            &  0            & 0.143         & NA            & NA            &  0            & ...           & 54225.45      & 1.2           & 151.089       & 10.79         & 19.1          & 24.6          & NA            & 2.77          & 78.86         & 0.926        \\\\\n",
       "\t USA           & North America & United States & 2020-02-11    & 13            &  1            & 0.286         & NA            & NA            &  0            & ...           & 54225.45      & 1.2           & 151.089       & 10.79         & 19.1          & 24.6          & NA            & 2.77          & 78.86         & 0.926        \\\\\n",
       "\t USA           & North America & United States & 2020-02-12    & 13            &  0            & 0.286         & NA            & NA            &  0            & ...           & 54225.45      & 1.2           & 151.089       & 10.79         & 19.1          & 24.6          & NA            & 2.77          & 78.86         & 0.926        \\\\\n",
       "\t USA           & North America & United States & 2020-02-13    & 14            &  1            & 0.286         & NA            & NA            &  0            & ...           & 54225.45      & 1.2           & 151.089       & 10.79         & 19.1          & 24.6          & NA            & 2.77          & 78.86         & 0.926        \\\\\n",
       "\t USA           & North America & United States & 2020-02-14    & 14            &  0            & 0.286         & NA            & NA            &  0            & ...           & 54225.45      & 1.2           & 151.089       & 10.79         & 19.1          & 24.6          & NA            & 2.77          & 78.86         & 0.926        \\\\\n",
       "\t USA           & North America & United States & 2020-02-15    & 14            &  0            & 0.286         & NA            & NA            &  0            & ...           & 54225.45      & 1.2           & 151.089       & 10.79         & 19.1          & 24.6          & NA            & 2.77          & 78.86         & 0.926        \\\\\n",
       "\t USA           & North America & United States & 2020-02-16    & 14            &  0            & 0.286         & NA            & NA            &  0            & ...           & 54225.45      & 1.2           & 151.089       & 10.79         & 19.1          & 24.6          & NA            & 2.77          & 78.86         & 0.926        \\\\\n",
       "\t USA           & North America & United States & 2020-02-17    & 14            &  0            & 0.286         & NA            & NA            &  0            & ...           & 54225.45      & 1.2           & 151.089       & 10.79         & 19.1          & 24.6          & NA            & 2.77          & 78.86         & 0.926        \\\\\n",
       "\t USA           & North America & United States & 2020-02-18    & 14            &  0            & 0.143         & NA            & NA            &  0            & ...           & 54225.45      & 1.2           & 151.089       & 10.79         & 19.1          & 24.6          & NA            & 2.77          & 78.86         & 0.926        \\\\\n",
       "\t USA           & North America & United States & 2020-02-19    & 14            &  0            & 0.143         & NA            & NA            &  0            & ...           & 54225.45      & 1.2           & 151.089       & 10.79         & 19.1          & 24.6          & NA            & 2.77          & 78.86         & 0.926        \\\\\n",
       "\t USA           & North America & United States & 2020-02-20    & 14            &  0            & 0.000         & NA            & NA            &  0            & ...           & 54225.45      & 1.2           & 151.089       & 10.79         & 19.1          & 24.6          & NA            & 2.77          & 78.86         & 0.926        \\\\\n",
       "\t ... & ... & ... & ... & ... & ... & ... & ... & ... & ... &     & ... & ... & ... & ... & ... & ... & ... & ... & ... & ...\\\\\n",
       "\t USA           & North America & United States & 2021-03-08    & 29108785      & 45014         & 57552.86      & 526802        &  741          & 1584.143      & ...           & 54225.45      & 1.2           & 151.089       & 10.79         & 19.1          & 24.6          & NA            & 2.77          & 78.86         & 0.926        \\\\\n",
       "\t USA           & North America & United States & 2021-03-09    & 29166483      & 57698         & 57645.14      & 528603        & 1801          & 1563.286      & ...           & 54225.45      & 1.2           & 151.089       & 10.79         & 19.1          & 24.6          & NA            & 2.77          & 78.86         & 0.926        \\\\\n",
       "\t USA           & North America & United States & 2021-03-10    & 29224389      & 57906         & 56319.71      & 530173        & 1570          & 1431.286      & ...           & 54225.45      & 1.2           & 151.089       & 10.79         & 19.1          & 24.6          & NA            & 2.77          & 78.86         & 0.926        \\\\\n",
       "\t USA           & North America & United States & 2021-03-11    & 29286851      & 62462         & 55522.14      & 531737        & 1564          & 1378.286      & ...           & 54225.45      & 1.2           & 151.089       & 10.79         & 19.1          & 24.6          & NA            & 2.77          & 78.86         & 0.926        \\\\\n",
       "\t USA           & North America & United States & 2021-03-12    & 29348168      & 61317         & 54789.57      & 533310        & 1573          & 1348.429      & ...           & 54225.45      & 1.2           & 151.089       & 10.79         & 19.1          & 24.6          & NA            & 2.77          & 78.86         & 0.926        \\\\\n",
       "\t USA           & North America & United States & 2021-03-13    & 29401288      & 53120         & 54065.14      & 535047        & 1737          & 1381.857      & ...           & 54225.45      & 1.2           & 151.089       & 10.79         & 19.1          & 24.6          & NA            & 2.77          & 78.86         & 0.926        \\\\\n",
       "\t USA           & North America & United States & 2021-03-14    & 29439500      & 38212         & 53675.57      & 535626        &  579          & 1366.429      & ...           & 54225.45      & 1.2           & 151.089       & 10.79         & 19.1          & 24.6          & NA            & 2.77          & 78.86         & 0.926        \\\\\n",
       "\t USA           & North America & United States & 2021-03-15    & 29496149      & 56649         & 55337.71      & 536373        &  747          & 1367.286      & ...           & 54225.45      & 1.2           & 151.089       & 10.79         & 19.1          & 24.6          & NA            & 2.77          & 78.86         & 0.926        \\\\\n",
       "\t USA           & North America & United States & 2021-03-16    & 29550095      & 53946         & 54801.71      & 537534        & 1161          & 1275.857      & ...           & 54225.45      & 1.2           & 151.089       & 10.79         & 19.1          & 24.6          & NA            & 2.77          & 78.86         & 0.926        \\\\\n",
       "\t USA           & North America & United States & 2021-03-17    & 29609216      & 59121         & 54975.29      & 538716        & 1182          & 1220.429      & ...           & 54225.45      & 1.2           & 151.089       & 10.79         & 19.1          & 24.6          & NA            & 2.77          & 78.86         & 0.926        \\\\\n",
       "\t USA           & North America & United States & 2021-03-18    & 29669741      & 60525         & 54698.57      & 540336        & 1620          & 1228.429      & ...           & 54225.45      & 1.2           & 151.089       & 10.79         & 19.1          & 24.6          & NA            & 2.77          & 78.86         & 0.926        \\\\\n",
       "\t USA           & North America & United States & 2021-03-19    & 29731361      & 61620         & 54741.86      & 541433        & 1097          & 1160.429      & ...           & 54225.45      & 1.2           & 151.089       & 10.79         & 19.1          & 24.6          & NA            & 2.77          & 78.86         & 0.926        \\\\\n",
       "\t USA           & North America & United States & 2021-03-20    & 29786730      & 55369         & 55063.14      & 542212        &  779          & 1023.571      & ...           & 54225.45      & 1.2           & 151.089       & 10.79         & 19.1          & 24.6          & NA            & 2.77          & 78.86         & 0.926        \\\\\n",
       "\t USA           & North America & United States & 2021-03-21    & 29820490      & 33760         & 54427.14      & 542660        &  448          & 1004.857      & ...           & 54225.45      & 1.2           & 151.089       & 10.79         & 19.1          & 24.6          & NA            & 2.77          & 78.86         & 0.926        \\\\\n",
       "\t USA           & North America & United States & 2021-03-22    & 29872067      & 51577         & 53702.57      & 543222        &  562          &  978.429      & ...           & 54225.45      & 1.2           & 151.089       & 10.79         & 19.1          & 24.6          & NA            & 2.77          & 78.86         & 0.926        \\\\\n",
       "\t USA           & North America & United States & 2021-03-23    & 29925655      & 53588         & 53651.43      & 544070        &  848          &  933.714      & ...           & 54225.45      & 1.2           & 151.089       & 10.79         & 19.1          & 24.6          & NA            & 2.77          & 78.86         & 0.926        \\\\\n",
       "\t USA           & North America & United States & 2021-03-24    & 30012606      & 86951         & 57627.14      & 545526        & 1456          &  972.857      & ...           & 54225.45      & 1.2           & 151.089       & 10.79         & 19.1          & 24.6          & NA            & 2.77          & 78.86         & 0.926        \\\\\n",
       "\t USA           & North America & United States & 2021-03-25    & 30080058      & 67452         & 58616.71      & 547085        & 1559          &  964.143      & ...           & 54225.45      & 1.2           & 151.089       & 10.79         & 19.1          & 24.6          & NA            & 2.77          & 78.86         & 0.926        \\\\\n",
       "\t USA           & North America & United States & 2021-03-26    & 30157372      & 77314         & 60858.71      & 548206        & 1121          &  967.571      & ...           & 54225.45      & 1.2           & 151.089       & 10.79         & 19.1          & 24.6          & NA            & 2.77          & 78.86         & 0.926        \\\\\n",
       "\t USA           & North America & United States & 2021-03-27    & 30219450      & 62078         & 61817.14      & 548947        &  741          &  962.143      & ...           & 54225.45      & 1.2           & 151.089       & 10.79         & 19.1          & 24.6          & NA            & 2.77          & 78.86         & 0.926        \\\\\n",
       "\t USA           & North America & United States & 2021-03-28    & 30263145      & 43695         & 63236.43      & 549454        &  507          &  970.571      & ...           & 54225.45      & 1.2           & 151.089       & 10.79         & 19.1          & 24.6          & NA            & 2.77          & 78.86         & 0.926        \\\\\n",
       "\t USA           & North America & United States & 2021-03-29    & 30332565      & 69420         & 65785.43      & 550155        &  701          &  990.429      & ...           & 54225.45      & 1.2           & 151.089       & 10.79         & 19.1          & 24.6          & NA            & 2.77          & 78.86         & 0.926        \\\\\n",
       "\t USA           & North America & United States & 2021-03-30    & 30393805      & 61240         & 66878.57      & 551030        &  875          &  994.286      & ...           & 54225.45      & 1.2           & 151.089       & 10.79         & 19.1          & 24.6          & NA            & 2.77          & 78.86         & 0.926        \\\\\n",
       "\t USA           & North America & United States & 2021-03-31    & 30460834      & 67029         & 64032.57      & 552106        & 1076          &  940.000      & ...           & 54225.45      & 1.2           & 151.089       & 10.79         & 19.1          & 24.6          & NA            & 2.77          & 78.86         & 0.926        \\\\\n",
       "\t USA           & North America & United States & 2021-04-01    & 30539868      & 79034         & 65687.14      & 553170        & 1064          &  869.286      & ...           & 54225.45      & 1.2           & 151.089       & 10.79         & 19.1          & 24.6          & NA            & 2.77          & 78.86         & 0.926        \\\\\n",
       "\t USA           & North America & United States & 2021-04-02    & 30609690      & 69822         & 64616.86      & 554103        &  933          &  842.429      & ...           & 54225.45      & 1.2           & 151.089       & 10.79         & 19.1          & 24.6          & NA            & 2.77          & 78.86         & 0.926        \\\\\n",
       "\t USA           & North America & United States & 2021-04-03    & 30672664      & 62974         & 64744.86      & 554815        &  712          &  838.286      & ...           & 54225.45      & 1.2           & 151.089       & 10.79         & 19.1          & 24.6          & NA            & 2.77          & 78.86         & 0.926        \\\\\n",
       "\t USA           & North America & United States & 2021-04-04    & 30707596      & 34932         & 63493.00      & 555098        &  283          &  806.286      & ...           & 54225.45      & 1.2           & 151.089       & 10.79         & 19.1          & 24.6          & NA            & 2.77          & 78.86         & 0.926        \\\\\n",
       "\t USA           & North America & United States & 2021-04-05    & 30785390      & 77794         & 64689.29      & 555613        &  515          &  779.714      & ...           & 54225.45      & 1.2           & 151.089       & 10.79         & 19.1          & 24.6          & NA            & 2.77          & 78.86         & 0.926        \\\\\n",
       "\t USA           & North America & United States & 2021-04-06    & 30847165      & 61775         & 64765.71      & 556528        &  915          &  785.429      & ...           & 54225.45      & 1.2           & 151.089       & 10.79         & 19.1          & 24.6          & NA            & 2.77          & 78.86         & 0.926        \\\\\n",
       "\\end{tabular}\n"
      ],
      "text/markdown": [
       "\n",
       "| iso_code | continent | location | date | total_cases | new_cases | new_cases_smoothed | total_deaths | new_deaths | new_deaths_smoothed | ... | gdp_per_capita | extreme_poverty | cardiovasc_death_rate | diabetes_prevalence | female_smokers | male_smokers | handwashing_facilities | hospital_beds_per_thousand | life_expectancy | human_development_index |\n",
       "|---|---|---|---|---|---|---|---|---|---|---|---|---|---|---|---|---|---|---|---|---|\n",
       "| USA           | North America | United States | 2020-01-22    |  1            | NA            |    NA         | NA            | NA            | NA            | ...           | 54225.45      | 1.2           | 151.089       | 10.79         | 19.1          | 24.6          | NA            | 2.77          | 78.86         | 0.926         |\n",
       "| USA           | North America | United States | 2020-01-23    |  1            |  0            |    NA         | NA            | NA            | NA            | ...           | 54225.45      | 1.2           | 151.089       | 10.79         | 19.1          | 24.6          | NA            | 2.77          | 78.86         | 0.926         |\n",
       "| USA           | North America | United States | 2020-01-24    |  2            |  1            |    NA         | NA            | NA            | NA            | ...           | 54225.45      | 1.2           | 151.089       | 10.79         | 19.1          | 24.6          | NA            | 2.77          | 78.86         | 0.926         |\n",
       "| USA           | North America | United States | 2020-01-25    |  2            |  0            |    NA         | NA            | NA            | NA            | ...           | 54225.45      | 1.2           | 151.089       | 10.79         | 19.1          | 24.6          | NA            | 2.77          | 78.86         | 0.926         |\n",
       "| USA           | North America | United States | 2020-01-26    |  5            |  3            |    NA         | NA            | NA            | NA            | ...           | 54225.45      | 1.2           | 151.089       | 10.79         | 19.1          | 24.6          | NA            | 2.77          | 78.86         | 0.926         |\n",
       "| USA           | North America | United States | 2020-01-27    |  5            |  0            |    NA         | NA            | NA            | NA            | ...           | 54225.45      | 1.2           | 151.089       | 10.79         | 19.1          | 24.6          | NA            | 2.77          | 78.86         | 0.926         |\n",
       "| USA           | North America | United States | 2020-01-28    |  5            |  0            | 0.571         | NA            | NA            |  0            | ...           | 54225.45      | 1.2           | 151.089       | 10.79         | 19.1          | 24.6          | NA            | 2.77          | 78.86         | 0.926         |\n",
       "| USA           | North America | United States | 2020-01-29    |  6            |  1            | 0.714         | NA            | NA            |  0            | ...           | 54225.45      | 1.2           | 151.089       | 10.79         | 19.1          | 24.6          | NA            | 2.77          | 78.86         | 0.926         |\n",
       "| USA           | North America | United States | 2020-01-30    |  6            |  0            | 0.714         | NA            | NA            |  0            | ...           | 54225.45      | 1.2           | 151.089       | 10.79         | 19.1          | 24.6          | NA            | 2.77          | 78.86         | 0.926         |\n",
       "| USA           | North America | United States | 2020-01-31    |  8            |  2            | 0.857         | NA            | NA            |  0            | ...           | 54225.45      | 1.2           | 151.089       | 10.79         | 19.1          | 24.6          | NA            | 2.77          | 78.86         | 0.926         |\n",
       "| USA           | North America | United States | 2020-02-01    |  8            |  0            | 0.857         | NA            | NA            |  0            | ...           | 54225.45      | 1.2           | 151.089       | 10.79         | 19.1          | 24.6          | NA            | 2.77          | 78.86         | 0.926         |\n",
       "| USA           | North America | United States | 2020-02-02    |  8            |  0            | 0.429         | NA            | NA            |  0            | ...           | 54225.45      | 1.2           | 151.089       | 10.79         | 19.1          | 24.6          | NA            | 2.77          | 78.86         | 0.926         |\n",
       "| USA           | North America | United States | 2020-02-03    | 11            |  3            | 0.857         | NA            | NA            |  0            | ...           | 54225.45      | 1.2           | 151.089       | 10.79         | 19.1          | 24.6          | NA            | 2.77          | 78.86         | 0.926         |\n",
       "| USA           | North America | United States | 2020-02-04    | 11            |  0            | 0.857         | NA            | NA            |  0            | ...           | 54225.45      | 1.2           | 151.089       | 10.79         | 19.1          | 24.6          | NA            | 2.77          | 78.86         | 0.926         |\n",
       "| USA           | North America | United States | 2020-02-05    | 11            |  0            | 0.714         | NA            | NA            |  0            | ...           | 54225.45      | 1.2           | 151.089       | 10.79         | 19.1          | 24.6          | NA            | 2.77          | 78.86         | 0.926         |\n",
       "| USA           | North America | United States | 2020-02-06    | 12            |  1            | 0.857         | NA            | NA            |  0            | ...           | 54225.45      | 1.2           | 151.089       | 10.79         | 19.1          | 24.6          | NA            | 2.77          | 78.86         | 0.926         |\n",
       "| USA           | North America | United States | 2020-02-07    | 12            |  0            | 0.571         | NA            | NA            |  0            | ...           | 54225.45      | 1.2           | 151.089       | 10.79         | 19.1          | 24.6          | NA            | 2.77          | 78.86         | 0.926         |\n",
       "| USA           | North America | United States | 2020-02-08    | 12            |  0            | 0.571         | NA            | NA            |  0            | ...           | 54225.45      | 1.2           | 151.089       | 10.79         | 19.1          | 24.6          | NA            | 2.77          | 78.86         | 0.926         |\n",
       "| USA           | North America | United States | 2020-02-09    | 12            |  0            | 0.571         | NA            | NA            |  0            | ...           | 54225.45      | 1.2           | 151.089       | 10.79         | 19.1          | 24.6          | NA            | 2.77          | 78.86         | 0.926         |\n",
       "| USA           | North America | United States | 2020-02-10    | 12            |  0            | 0.143         | NA            | NA            |  0            | ...           | 54225.45      | 1.2           | 151.089       | 10.79         | 19.1          | 24.6          | NA            | 2.77          | 78.86         | 0.926         |\n",
       "| USA           | North America | United States | 2020-02-11    | 13            |  1            | 0.286         | NA            | NA            |  0            | ...           | 54225.45      | 1.2           | 151.089       | 10.79         | 19.1          | 24.6          | NA            | 2.77          | 78.86         | 0.926         |\n",
       "| USA           | North America | United States | 2020-02-12    | 13            |  0            | 0.286         | NA            | NA            |  0            | ...           | 54225.45      | 1.2           | 151.089       | 10.79         | 19.1          | 24.6          | NA            | 2.77          | 78.86         | 0.926         |\n",
       "| USA           | North America | United States | 2020-02-13    | 14            |  1            | 0.286         | NA            | NA            |  0            | ...           | 54225.45      | 1.2           | 151.089       | 10.79         | 19.1          | 24.6          | NA            | 2.77          | 78.86         | 0.926         |\n",
       "| USA           | North America | United States | 2020-02-14    | 14            |  0            | 0.286         | NA            | NA            |  0            | ...           | 54225.45      | 1.2           | 151.089       | 10.79         | 19.1          | 24.6          | NA            | 2.77          | 78.86         | 0.926         |\n",
       "| USA           | North America | United States | 2020-02-15    | 14            |  0            | 0.286         | NA            | NA            |  0            | ...           | 54225.45      | 1.2           | 151.089       | 10.79         | 19.1          | 24.6          | NA            | 2.77          | 78.86         | 0.926         |\n",
       "| USA           | North America | United States | 2020-02-16    | 14            |  0            | 0.286         | NA            | NA            |  0            | ...           | 54225.45      | 1.2           | 151.089       | 10.79         | 19.1          | 24.6          | NA            | 2.77          | 78.86         | 0.926         |\n",
       "| USA           | North America | United States | 2020-02-17    | 14            |  0            | 0.286         | NA            | NA            |  0            | ...           | 54225.45      | 1.2           | 151.089       | 10.79         | 19.1          | 24.6          | NA            | 2.77          | 78.86         | 0.926         |\n",
       "| USA           | North America | United States | 2020-02-18    | 14            |  0            | 0.143         | NA            | NA            |  0            | ...           | 54225.45      | 1.2           | 151.089       | 10.79         | 19.1          | 24.6          | NA            | 2.77          | 78.86         | 0.926         |\n",
       "| USA           | North America | United States | 2020-02-19    | 14            |  0            | 0.143         | NA            | NA            |  0            | ...           | 54225.45      | 1.2           | 151.089       | 10.79         | 19.1          | 24.6          | NA            | 2.77          | 78.86         | 0.926         |\n",
       "| USA           | North America | United States | 2020-02-20    | 14            |  0            | 0.000         | NA            | NA            |  0            | ...           | 54225.45      | 1.2           | 151.089       | 10.79         | 19.1          | 24.6          | NA            | 2.77          | 78.86         | 0.926         |\n",
       "| ... | ... | ... | ... | ... | ... | ... | ... | ... | ... |     | ... | ... | ... | ... | ... | ... | ... | ... | ... | ... |\n",
       "| USA           | North America | United States | 2021-03-08    | 29108785      | 45014         | 57552.86      | 526802        |  741          | 1584.143      | ...           | 54225.45      | 1.2           | 151.089       | 10.79         | 19.1          | 24.6          | NA            | 2.77          | 78.86         | 0.926         |\n",
       "| USA           | North America | United States | 2021-03-09    | 29166483      | 57698         | 57645.14      | 528603        | 1801          | 1563.286      | ...           | 54225.45      | 1.2           | 151.089       | 10.79         | 19.1          | 24.6          | NA            | 2.77          | 78.86         | 0.926         |\n",
       "| USA           | North America | United States | 2021-03-10    | 29224389      | 57906         | 56319.71      | 530173        | 1570          | 1431.286      | ...           | 54225.45      | 1.2           | 151.089       | 10.79         | 19.1          | 24.6          | NA            | 2.77          | 78.86         | 0.926         |\n",
       "| USA           | North America | United States | 2021-03-11    | 29286851      | 62462         | 55522.14      | 531737        | 1564          | 1378.286      | ...           | 54225.45      | 1.2           | 151.089       | 10.79         | 19.1          | 24.6          | NA            | 2.77          | 78.86         | 0.926         |\n",
       "| USA           | North America | United States | 2021-03-12    | 29348168      | 61317         | 54789.57      | 533310        | 1573          | 1348.429      | ...           | 54225.45      | 1.2           | 151.089       | 10.79         | 19.1          | 24.6          | NA            | 2.77          | 78.86         | 0.926         |\n",
       "| USA           | North America | United States | 2021-03-13    | 29401288      | 53120         | 54065.14      | 535047        | 1737          | 1381.857      | ...           | 54225.45      | 1.2           | 151.089       | 10.79         | 19.1          | 24.6          | NA            | 2.77          | 78.86         | 0.926         |\n",
       "| USA           | North America | United States | 2021-03-14    | 29439500      | 38212         | 53675.57      | 535626        |  579          | 1366.429      | ...           | 54225.45      | 1.2           | 151.089       | 10.79         | 19.1          | 24.6          | NA            | 2.77          | 78.86         | 0.926         |\n",
       "| USA           | North America | United States | 2021-03-15    | 29496149      | 56649         | 55337.71      | 536373        |  747          | 1367.286      | ...           | 54225.45      | 1.2           | 151.089       | 10.79         | 19.1          | 24.6          | NA            | 2.77          | 78.86         | 0.926         |\n",
       "| USA           | North America | United States | 2021-03-16    | 29550095      | 53946         | 54801.71      | 537534        | 1161          | 1275.857      | ...           | 54225.45      | 1.2           | 151.089       | 10.79         | 19.1          | 24.6          | NA            | 2.77          | 78.86         | 0.926         |\n",
       "| USA           | North America | United States | 2021-03-17    | 29609216      | 59121         | 54975.29      | 538716        | 1182          | 1220.429      | ...           | 54225.45      | 1.2           | 151.089       | 10.79         | 19.1          | 24.6          | NA            | 2.77          | 78.86         | 0.926         |\n",
       "| USA           | North America | United States | 2021-03-18    | 29669741      | 60525         | 54698.57      | 540336        | 1620          | 1228.429      | ...           | 54225.45      | 1.2           | 151.089       | 10.79         | 19.1          | 24.6          | NA            | 2.77          | 78.86         | 0.926         |\n",
       "| USA           | North America | United States | 2021-03-19    | 29731361      | 61620         | 54741.86      | 541433        | 1097          | 1160.429      | ...           | 54225.45      | 1.2           | 151.089       | 10.79         | 19.1          | 24.6          | NA            | 2.77          | 78.86         | 0.926         |\n",
       "| USA           | North America | United States | 2021-03-20    | 29786730      | 55369         | 55063.14      | 542212        |  779          | 1023.571      | ...           | 54225.45      | 1.2           | 151.089       | 10.79         | 19.1          | 24.6          | NA            | 2.77          | 78.86         | 0.926         |\n",
       "| USA           | North America | United States | 2021-03-21    | 29820490      | 33760         | 54427.14      | 542660        |  448          | 1004.857      | ...           | 54225.45      | 1.2           | 151.089       | 10.79         | 19.1          | 24.6          | NA            | 2.77          | 78.86         | 0.926         |\n",
       "| USA           | North America | United States | 2021-03-22    | 29872067      | 51577         | 53702.57      | 543222        |  562          |  978.429      | ...           | 54225.45      | 1.2           | 151.089       | 10.79         | 19.1          | 24.6          | NA            | 2.77          | 78.86         | 0.926         |\n",
       "| USA           | North America | United States | 2021-03-23    | 29925655      | 53588         | 53651.43      | 544070        |  848          |  933.714      | ...           | 54225.45      | 1.2           | 151.089       | 10.79         | 19.1          | 24.6          | NA            | 2.77          | 78.86         | 0.926         |\n",
       "| USA           | North America | United States | 2021-03-24    | 30012606      | 86951         | 57627.14      | 545526        | 1456          |  972.857      | ...           | 54225.45      | 1.2           | 151.089       | 10.79         | 19.1          | 24.6          | NA            | 2.77          | 78.86         | 0.926         |\n",
       "| USA           | North America | United States | 2021-03-25    | 30080058      | 67452         | 58616.71      | 547085        | 1559          |  964.143      | ...           | 54225.45      | 1.2           | 151.089       | 10.79         | 19.1          | 24.6          | NA            | 2.77          | 78.86         | 0.926         |\n",
       "| USA           | North America | United States | 2021-03-26    | 30157372      | 77314         | 60858.71      | 548206        | 1121          |  967.571      | ...           | 54225.45      | 1.2           | 151.089       | 10.79         | 19.1          | 24.6          | NA            | 2.77          | 78.86         | 0.926         |\n",
       "| USA           | North America | United States | 2021-03-27    | 30219450      | 62078         | 61817.14      | 548947        |  741          |  962.143      | ...           | 54225.45      | 1.2           | 151.089       | 10.79         | 19.1          | 24.6          | NA            | 2.77          | 78.86         | 0.926         |\n",
       "| USA           | North America | United States | 2021-03-28    | 30263145      | 43695         | 63236.43      | 549454        |  507          |  970.571      | ...           | 54225.45      | 1.2           | 151.089       | 10.79         | 19.1          | 24.6          | NA            | 2.77          | 78.86         | 0.926         |\n",
       "| USA           | North America | United States | 2021-03-29    | 30332565      | 69420         | 65785.43      | 550155        |  701          |  990.429      | ...           | 54225.45      | 1.2           | 151.089       | 10.79         | 19.1          | 24.6          | NA            | 2.77          | 78.86         | 0.926         |\n",
       "| USA           | North America | United States | 2021-03-30    | 30393805      | 61240         | 66878.57      | 551030        |  875          |  994.286      | ...           | 54225.45      | 1.2           | 151.089       | 10.79         | 19.1          | 24.6          | NA            | 2.77          | 78.86         | 0.926         |\n",
       "| USA           | North America | United States | 2021-03-31    | 30460834      | 67029         | 64032.57      | 552106        | 1076          |  940.000      | ...           | 54225.45      | 1.2           | 151.089       | 10.79         | 19.1          | 24.6          | NA            | 2.77          | 78.86         | 0.926         |\n",
       "| USA           | North America | United States | 2021-04-01    | 30539868      | 79034         | 65687.14      | 553170        | 1064          |  869.286      | ...           | 54225.45      | 1.2           | 151.089       | 10.79         | 19.1          | 24.6          | NA            | 2.77          | 78.86         | 0.926         |\n",
       "| USA           | North America | United States | 2021-04-02    | 30609690      | 69822         | 64616.86      | 554103        |  933          |  842.429      | ...           | 54225.45      | 1.2           | 151.089       | 10.79         | 19.1          | 24.6          | NA            | 2.77          | 78.86         | 0.926         |\n",
       "| USA           | North America | United States | 2021-04-03    | 30672664      | 62974         | 64744.86      | 554815        |  712          |  838.286      | ...           | 54225.45      | 1.2           | 151.089       | 10.79         | 19.1          | 24.6          | NA            | 2.77          | 78.86         | 0.926         |\n",
       "| USA           | North America | United States | 2021-04-04    | 30707596      | 34932         | 63493.00      | 555098        |  283          |  806.286      | ...           | 54225.45      | 1.2           | 151.089       | 10.79         | 19.1          | 24.6          | NA            | 2.77          | 78.86         | 0.926         |\n",
       "| USA           | North America | United States | 2021-04-05    | 30785390      | 77794         | 64689.29      | 555613        |  515          |  779.714      | ...           | 54225.45      | 1.2           | 151.089       | 10.79         | 19.1          | 24.6          | NA            | 2.77          | 78.86         | 0.926         |\n",
       "| USA           | North America | United States | 2021-04-06    | 30847165      | 61775         | 64765.71      | 556528        |  915          |  785.429      | ...           | 54225.45      | 1.2           | 151.089       | 10.79         | 19.1          | 24.6          | NA            | 2.77          | 78.86         | 0.926         |\n",
       "\n"
      ],
      "text/plain": [
       "    iso_code continent     location      date       total_cases new_cases\n",
       "1   USA      North America United States 2020-01-22  1          NA       \n",
       "2   USA      North America United States 2020-01-23  1           0       \n",
       "3   USA      North America United States 2020-01-24  2           1       \n",
       "4   USA      North America United States 2020-01-25  2           0       \n",
       "5   USA      North America United States 2020-01-26  5           3       \n",
       "6   USA      North America United States 2020-01-27  5           0       \n",
       "7   USA      North America United States 2020-01-28  5           0       \n",
       "8   USA      North America United States 2020-01-29  6           1       \n",
       "9   USA      North America United States 2020-01-30  6           0       \n",
       "10  USA      North America United States 2020-01-31  8           2       \n",
       "11  USA      North America United States 2020-02-01  8           0       \n",
       "12  USA      North America United States 2020-02-02  8           0       \n",
       "13  USA      North America United States 2020-02-03 11           3       \n",
       "14  USA      North America United States 2020-02-04 11           0       \n",
       "15  USA      North America United States 2020-02-05 11           0       \n",
       "16  USA      North America United States 2020-02-06 12           1       \n",
       "17  USA      North America United States 2020-02-07 12           0       \n",
       "18  USA      North America United States 2020-02-08 12           0       \n",
       "19  USA      North America United States 2020-02-09 12           0       \n",
       "20  USA      North America United States 2020-02-10 12           0       \n",
       "21  USA      North America United States 2020-02-11 13           1       \n",
       "22  USA      North America United States 2020-02-12 13           0       \n",
       "23  USA      North America United States 2020-02-13 14           1       \n",
       "24  USA      North America United States 2020-02-14 14           0       \n",
       "25  USA      North America United States 2020-02-15 14           0       \n",
       "26  USA      North America United States 2020-02-16 14           0       \n",
       "27  USA      North America United States 2020-02-17 14           0       \n",
       "28  USA      North America United States 2020-02-18 14           0       \n",
       "29  USA      North America United States 2020-02-19 14           0       \n",
       "30  USA      North America United States 2020-02-20 14           0       \n",
       "... ...      ...           ...           ...        ...         ...      \n",
       "412 USA      North America United States 2021-03-08 29108785    45014    \n",
       "413 USA      North America United States 2021-03-09 29166483    57698    \n",
       "414 USA      North America United States 2021-03-10 29224389    57906    \n",
       "415 USA      North America United States 2021-03-11 29286851    62462    \n",
       "416 USA      North America United States 2021-03-12 29348168    61317    \n",
       "417 USA      North America United States 2021-03-13 29401288    53120    \n",
       "418 USA      North America United States 2021-03-14 29439500    38212    \n",
       "419 USA      North America United States 2021-03-15 29496149    56649    \n",
       "420 USA      North America United States 2021-03-16 29550095    53946    \n",
       "421 USA      North America United States 2021-03-17 29609216    59121    \n",
       "422 USA      North America United States 2021-03-18 29669741    60525    \n",
       "423 USA      North America United States 2021-03-19 29731361    61620    \n",
       "424 USA      North America United States 2021-03-20 29786730    55369    \n",
       "425 USA      North America United States 2021-03-21 29820490    33760    \n",
       "426 USA      North America United States 2021-03-22 29872067    51577    \n",
       "427 USA      North America United States 2021-03-23 29925655    53588    \n",
       "428 USA      North America United States 2021-03-24 30012606    86951    \n",
       "429 USA      North America United States 2021-03-25 30080058    67452    \n",
       "430 USA      North America United States 2021-03-26 30157372    77314    \n",
       "431 USA      North America United States 2021-03-27 30219450    62078    \n",
       "432 USA      North America United States 2021-03-28 30263145    43695    \n",
       "433 USA      North America United States 2021-03-29 30332565    69420    \n",
       "434 USA      North America United States 2021-03-30 30393805    61240    \n",
       "435 USA      North America United States 2021-03-31 30460834    67029    \n",
       "436 USA      North America United States 2021-04-01 30539868    79034    \n",
       "437 USA      North America United States 2021-04-02 30609690    69822    \n",
       "438 USA      North America United States 2021-04-03 30672664    62974    \n",
       "439 USA      North America United States 2021-04-04 30707596    34932    \n",
       "440 USA      North America United States 2021-04-05 30785390    77794    \n",
       "441 USA      North America United States 2021-04-06 30847165    61775    \n",
       "    new_cases_smoothed total_deaths new_deaths new_deaths_smoothed ...\n",
       "1      NA              NA           NA         NA                  ...\n",
       "2      NA              NA           NA         NA                  ...\n",
       "3      NA              NA           NA         NA                  ...\n",
       "4      NA              NA           NA         NA                  ...\n",
       "5      NA              NA           NA         NA                  ...\n",
       "6      NA              NA           NA         NA                  ...\n",
       "7   0.571              NA           NA          0                  ...\n",
       "8   0.714              NA           NA          0                  ...\n",
       "9   0.714              NA           NA          0                  ...\n",
       "10  0.857              NA           NA          0                  ...\n",
       "11  0.857              NA           NA          0                  ...\n",
       "12  0.429              NA           NA          0                  ...\n",
       "13  0.857              NA           NA          0                  ...\n",
       "14  0.857              NA           NA          0                  ...\n",
       "15  0.714              NA           NA          0                  ...\n",
       "16  0.857              NA           NA          0                  ...\n",
       "17  0.571              NA           NA          0                  ...\n",
       "18  0.571              NA           NA          0                  ...\n",
       "19  0.571              NA           NA          0                  ...\n",
       "20  0.143              NA           NA          0                  ...\n",
       "21  0.286              NA           NA          0                  ...\n",
       "22  0.286              NA           NA          0                  ...\n",
       "23  0.286              NA           NA          0                  ...\n",
       "24  0.286              NA           NA          0                  ...\n",
       "25  0.286              NA           NA          0                  ...\n",
       "26  0.286              NA           NA          0                  ...\n",
       "27  0.286              NA           NA          0                  ...\n",
       "28  0.143              NA           NA          0                  ...\n",
       "29  0.143              NA           NA          0                  ...\n",
       "30  0.000              NA           NA          0                  ...\n",
       "... ...                ...          ...        ...                    \n",
       "412 57552.86           526802        741       1584.143            ...\n",
       "413 57645.14           528603       1801       1563.286            ...\n",
       "414 56319.71           530173       1570       1431.286            ...\n",
       "415 55522.14           531737       1564       1378.286            ...\n",
       "416 54789.57           533310       1573       1348.429            ...\n",
       "417 54065.14           535047       1737       1381.857            ...\n",
       "418 53675.57           535626        579       1366.429            ...\n",
       "419 55337.71           536373        747       1367.286            ...\n",
       "420 54801.71           537534       1161       1275.857            ...\n",
       "421 54975.29           538716       1182       1220.429            ...\n",
       "422 54698.57           540336       1620       1228.429            ...\n",
       "423 54741.86           541433       1097       1160.429            ...\n",
       "424 55063.14           542212        779       1023.571            ...\n",
       "425 54427.14           542660        448       1004.857            ...\n",
       "426 53702.57           543222        562        978.429            ...\n",
       "427 53651.43           544070        848        933.714            ...\n",
       "428 57627.14           545526       1456        972.857            ...\n",
       "429 58616.71           547085       1559        964.143            ...\n",
       "430 60858.71           548206       1121        967.571            ...\n",
       "431 61817.14           548947        741        962.143            ...\n",
       "432 63236.43           549454        507        970.571            ...\n",
       "433 65785.43           550155        701        990.429            ...\n",
       "434 66878.57           551030        875        994.286            ...\n",
       "435 64032.57           552106       1076        940.000            ...\n",
       "436 65687.14           553170       1064        869.286            ...\n",
       "437 64616.86           554103        933        842.429            ...\n",
       "438 64744.86           554815        712        838.286            ...\n",
       "439 63493.00           555098        283        806.286            ...\n",
       "440 64689.29           555613        515        779.714            ...\n",
       "441 64765.71           556528        915        785.429            ...\n",
       "    gdp_per_capita extreme_poverty cardiovasc_death_rate diabetes_prevalence\n",
       "1   54225.45       1.2             151.089               10.79              \n",
       "2   54225.45       1.2             151.089               10.79              \n",
       "3   54225.45       1.2             151.089               10.79              \n",
       "4   54225.45       1.2             151.089               10.79              \n",
       "5   54225.45       1.2             151.089               10.79              \n",
       "6   54225.45       1.2             151.089               10.79              \n",
       "7   54225.45       1.2             151.089               10.79              \n",
       "8   54225.45       1.2             151.089               10.79              \n",
       "9   54225.45       1.2             151.089               10.79              \n",
       "10  54225.45       1.2             151.089               10.79              \n",
       "11  54225.45       1.2             151.089               10.79              \n",
       "12  54225.45       1.2             151.089               10.79              \n",
       "13  54225.45       1.2             151.089               10.79              \n",
       "14  54225.45       1.2             151.089               10.79              \n",
       "15  54225.45       1.2             151.089               10.79              \n",
       "16  54225.45       1.2             151.089               10.79              \n",
       "17  54225.45       1.2             151.089               10.79              \n",
       "18  54225.45       1.2             151.089               10.79              \n",
       "19  54225.45       1.2             151.089               10.79              \n",
       "20  54225.45       1.2             151.089               10.79              \n",
       "21  54225.45       1.2             151.089               10.79              \n",
       "22  54225.45       1.2             151.089               10.79              \n",
       "23  54225.45       1.2             151.089               10.79              \n",
       "24  54225.45       1.2             151.089               10.79              \n",
       "25  54225.45       1.2             151.089               10.79              \n",
       "26  54225.45       1.2             151.089               10.79              \n",
       "27  54225.45       1.2             151.089               10.79              \n",
       "28  54225.45       1.2             151.089               10.79              \n",
       "29  54225.45       1.2             151.089               10.79              \n",
       "30  54225.45       1.2             151.089               10.79              \n",
       "... ...            ...             ...                   ...                \n",
       "412 54225.45       1.2             151.089               10.79              \n",
       "413 54225.45       1.2             151.089               10.79              \n",
       "414 54225.45       1.2             151.089               10.79              \n",
       "415 54225.45       1.2             151.089               10.79              \n",
       "416 54225.45       1.2             151.089               10.79              \n",
       "417 54225.45       1.2             151.089               10.79              \n",
       "418 54225.45       1.2             151.089               10.79              \n",
       "419 54225.45       1.2             151.089               10.79              \n",
       "420 54225.45       1.2             151.089               10.79              \n",
       "421 54225.45       1.2             151.089               10.79              \n",
       "422 54225.45       1.2             151.089               10.79              \n",
       "423 54225.45       1.2             151.089               10.79              \n",
       "424 54225.45       1.2             151.089               10.79              \n",
       "425 54225.45       1.2             151.089               10.79              \n",
       "426 54225.45       1.2             151.089               10.79              \n",
       "427 54225.45       1.2             151.089               10.79              \n",
       "428 54225.45       1.2             151.089               10.79              \n",
       "429 54225.45       1.2             151.089               10.79              \n",
       "430 54225.45       1.2             151.089               10.79              \n",
       "431 54225.45       1.2             151.089               10.79              \n",
       "432 54225.45       1.2             151.089               10.79              \n",
       "433 54225.45       1.2             151.089               10.79              \n",
       "434 54225.45       1.2             151.089               10.79              \n",
       "435 54225.45       1.2             151.089               10.79              \n",
       "436 54225.45       1.2             151.089               10.79              \n",
       "437 54225.45       1.2             151.089               10.79              \n",
       "438 54225.45       1.2             151.089               10.79              \n",
       "439 54225.45       1.2             151.089               10.79              \n",
       "440 54225.45       1.2             151.089               10.79              \n",
       "441 54225.45       1.2             151.089               10.79              \n",
       "    female_smokers male_smokers handwashing_facilities\n",
       "1   19.1           24.6         NA                    \n",
       "2   19.1           24.6         NA                    \n",
       "3   19.1           24.6         NA                    \n",
       "4   19.1           24.6         NA                    \n",
       "5   19.1           24.6         NA                    \n",
       "6   19.1           24.6         NA                    \n",
       "7   19.1           24.6         NA                    \n",
       "8   19.1           24.6         NA                    \n",
       "9   19.1           24.6         NA                    \n",
       "10  19.1           24.6         NA                    \n",
       "11  19.1           24.6         NA                    \n",
       "12  19.1           24.6         NA                    \n",
       "13  19.1           24.6         NA                    \n",
       "14  19.1           24.6         NA                    \n",
       "15  19.1           24.6         NA                    \n",
       "16  19.1           24.6         NA                    \n",
       "17  19.1           24.6         NA                    \n",
       "18  19.1           24.6         NA                    \n",
       "19  19.1           24.6         NA                    \n",
       "20  19.1           24.6         NA                    \n",
       "21  19.1           24.6         NA                    \n",
       "22  19.1           24.6         NA                    \n",
       "23  19.1           24.6         NA                    \n",
       "24  19.1           24.6         NA                    \n",
       "25  19.1           24.6         NA                    \n",
       "26  19.1           24.6         NA                    \n",
       "27  19.1           24.6         NA                    \n",
       "28  19.1           24.6         NA                    \n",
       "29  19.1           24.6         NA                    \n",
       "30  19.1           24.6         NA                    \n",
       "... ...            ...          ...                   \n",
       "412 19.1           24.6         NA                    \n",
       "413 19.1           24.6         NA                    \n",
       "414 19.1           24.6         NA                    \n",
       "415 19.1           24.6         NA                    \n",
       "416 19.1           24.6         NA                    \n",
       "417 19.1           24.6         NA                    \n",
       "418 19.1           24.6         NA                    \n",
       "419 19.1           24.6         NA                    \n",
       "420 19.1           24.6         NA                    \n",
       "421 19.1           24.6         NA                    \n",
       "422 19.1           24.6         NA                    \n",
       "423 19.1           24.6         NA                    \n",
       "424 19.1           24.6         NA                    \n",
       "425 19.1           24.6         NA                    \n",
       "426 19.1           24.6         NA                    \n",
       "427 19.1           24.6         NA                    \n",
       "428 19.1           24.6         NA                    \n",
       "429 19.1           24.6         NA                    \n",
       "430 19.1           24.6         NA                    \n",
       "431 19.1           24.6         NA                    \n",
       "432 19.1           24.6         NA                    \n",
       "433 19.1           24.6         NA                    \n",
       "434 19.1           24.6         NA                    \n",
       "435 19.1           24.6         NA                    \n",
       "436 19.1           24.6         NA                    \n",
       "437 19.1           24.6         NA                    \n",
       "438 19.1           24.6         NA                    \n",
       "439 19.1           24.6         NA                    \n",
       "440 19.1           24.6         NA                    \n",
       "441 19.1           24.6         NA                    \n",
       "    hospital_beds_per_thousand life_expectancy human_development_index\n",
       "1   2.77                       78.86           0.926                  \n",
       "2   2.77                       78.86           0.926                  \n",
       "3   2.77                       78.86           0.926                  \n",
       "4   2.77                       78.86           0.926                  \n",
       "5   2.77                       78.86           0.926                  \n",
       "6   2.77                       78.86           0.926                  \n",
       "7   2.77                       78.86           0.926                  \n",
       "8   2.77                       78.86           0.926                  \n",
       "9   2.77                       78.86           0.926                  \n",
       "10  2.77                       78.86           0.926                  \n",
       "11  2.77                       78.86           0.926                  \n",
       "12  2.77                       78.86           0.926                  \n",
       "13  2.77                       78.86           0.926                  \n",
       "14  2.77                       78.86           0.926                  \n",
       "15  2.77                       78.86           0.926                  \n",
       "16  2.77                       78.86           0.926                  \n",
       "17  2.77                       78.86           0.926                  \n",
       "18  2.77                       78.86           0.926                  \n",
       "19  2.77                       78.86           0.926                  \n",
       "20  2.77                       78.86           0.926                  \n",
       "21  2.77                       78.86           0.926                  \n",
       "22  2.77                       78.86           0.926                  \n",
       "23  2.77                       78.86           0.926                  \n",
       "24  2.77                       78.86           0.926                  \n",
       "25  2.77                       78.86           0.926                  \n",
       "26  2.77                       78.86           0.926                  \n",
       "27  2.77                       78.86           0.926                  \n",
       "28  2.77                       78.86           0.926                  \n",
       "29  2.77                       78.86           0.926                  \n",
       "30  2.77                       78.86           0.926                  \n",
       "... ...                        ...             ...                    \n",
       "412 2.77                       78.86           0.926                  \n",
       "413 2.77                       78.86           0.926                  \n",
       "414 2.77                       78.86           0.926                  \n",
       "415 2.77                       78.86           0.926                  \n",
       "416 2.77                       78.86           0.926                  \n",
       "417 2.77                       78.86           0.926                  \n",
       "418 2.77                       78.86           0.926                  \n",
       "419 2.77                       78.86           0.926                  \n",
       "420 2.77                       78.86           0.926                  \n",
       "421 2.77                       78.86           0.926                  \n",
       "422 2.77                       78.86           0.926                  \n",
       "423 2.77                       78.86           0.926                  \n",
       "424 2.77                       78.86           0.926                  \n",
       "425 2.77                       78.86           0.926                  \n",
       "426 2.77                       78.86           0.926                  \n",
       "427 2.77                       78.86           0.926                  \n",
       "428 2.77                       78.86           0.926                  \n",
       "429 2.77                       78.86           0.926                  \n",
       "430 2.77                       78.86           0.926                  \n",
       "431 2.77                       78.86           0.926                  \n",
       "432 2.77                       78.86           0.926                  \n",
       "433 2.77                       78.86           0.926                  \n",
       "434 2.77                       78.86           0.926                  \n",
       "435 2.77                       78.86           0.926                  \n",
       "436 2.77                       78.86           0.926                  \n",
       "437 2.77                       78.86           0.926                  \n",
       "438 2.77                       78.86           0.926                  \n",
       "439 2.77                       78.86           0.926                  \n",
       "440 2.77                       78.86           0.926                  \n",
       "441 2.77                       78.86           0.926                  "
      ]
     },
     "metadata": {},
     "output_type": "display_data"
    }
   ],
   "source": [
    "covid_data"
   ]
  },
  {
   "cell_type": "code",
   "execution_count": 199,
   "metadata": {},
   "outputs": [],
   "source": [
    "fit_covid_03_11 <- lm(log(total_cases) ~ as.numeric(date), data=covid_data_03_11)\n",
    "fit_covid_05_11 <- lm(log(total_cases) ~ as.numeric(date), data=covid_data_05_11)\n",
    "fit_covid_10_11 <- lm(log(total_cases) ~ as.numeric(date), data=covid_data_10_11)"
   ]
  },
  {
   "cell_type": "code",
   "execution_count": 200,
   "metadata": {
    "scrolled": true
   },
   "outputs": [
    {
     "data": {
      "text/plain": [
       "\n",
       "Call:\n",
       "lm(formula = log(total_cases) ~ as.numeric(date), data = covid_data_03_11)\n",
       "\n",
       "Coefficients:\n",
       "     (Intercept)  as.numeric(date)  \n",
       "      -236.08510           0.01358  \n"
      ]
     },
     "metadata": {},
     "output_type": "display_data"
    }
   ],
   "source": [
    "fit_covid_03_11"
   ]
  },
  {
   "cell_type": "code",
   "execution_count": 205,
   "metadata": {},
   "outputs": [
    {
     "data": {
      "image/png": "[encoded data removed]",
      "text/plain": [
       "plot without title"
      ]
     },
     "metadata": {},
     "output_type": "display_data"
    }
   ],
   "source": [
    "fitdata_covid_03_11 = data.frame(date = seq(as.Date(\"2020-01-22\"), as.Date(\"2021-04-06\"), \"days\"))\n",
    "fitdata_covid_03_11$total_cases = exp(predict(fit_covid_03_11, fitdata_covid_03_11))\n",
    "ggplot(covid_data, aes(date,total_cases)) + geom_point() + geom_line(data=fitdata_covid_03_11, aes(date,total_cases))"
   ]
  },
  {
   "cell_type": "code",
   "execution_count": 206,
   "metadata": {},
   "outputs": [
    {
     "data": {
      "image/png": "[encoded data removed]",
      "text/plain": [
       "plot without title"
      ]
     },
     "metadata": {},
     "output_type": "display_data"
    }
   ],
   "source": [
    "fitdata_covid_05_11 = data.frame(date = seq(as.Date(\"2020-01-22\"), as.Date(\"2021-04-06\"), \"days\"))\n",
    "fitdata_covid_05_11$total_cases = exp(predict(fit_covid_05_11, fitdata_covid_05_11))\n",
    "ggplot(covid_data, aes(date,total_cases)) + geom_point() + geom_line(data=fitdata_covid_05_11, aes(date,total_cases))"
   ]
  },
  {
   "cell_type": "code",
   "execution_count": 207,
   "metadata": {},
   "outputs": [
    {
     "data": {
      "image/png": "[encoded data removed]",
      "text/plain": [
       "plot without title"
      ]
     },
     "metadata": {},
     "output_type": "display_data"
    }
   ],
   "source": [
    "fitdata_covid_10_11 = data.frame(date = seq(as.Date(\"2020-01-22\"), as.Date(\"2021-04-06\"), \"days\"))\n",
    "fitdata_covid_10_11$total_cases = exp(predict(fit_covid_10_11, fitdata_covid_10_11))\n",
    "ggplot(covid_data, aes(date,total_cases)) + geom_point() + geom_line(data=fitdata_covid_10_11, aes(date,total_cases))"
   ]
  },
  {
   "cell_type": "code",
   "execution_count": 229,
   "metadata": {},
   "outputs": [
    {
     "data": {
      "image/png": "[encoded data removed]",
      "text/plain": [
       "plot without title"
      ]
     },
     "metadata": {},
     "output_type": "display_data"
    }
   ],
   "source": [
    "ggplot(covid_data, aes(date,total_cases)) + geom_point() +\n",
    "geom_line(data=fitdata_covid_03_11, aes(date,total_cases, color=\"red\")) +\n",
    "geom_line(data=fitdata_covid_05_11, aes(date,total_cases, color=\"blue\")) +\n",
    "geom_line(data=fitdata_covid_10_11, aes(date,total_cases, color=\"green\")) + \n",
    "labs(x=\"Date\", y=\"Total Cases\") + \n",
    "scale_x_date(date_breaks = \"months\" , date_labels = \"%b-%y\") + \n",
    "scale_color_discrete(name = \"Dopasowanie krzywej exp w zal. od daty\",\n",
    "                     labels = c(\"Od 2020-03-11\", \"Od 2020-05-11\", \"Od 2020-10-11\")) +\n",
    "theme(legend.position=\"top\")\n",
    "\n"
   ]
  }
 ],
 "metadata": {
  "kernelspec": {
   "display_name": "R",
   "language": "R",
   "name": "ir"
  },
  "language_info": {
   "codemirror_mode": "r",
   "file_extension": ".r",
   "mimetype": "text/x-r-source",
   "name": "R",
   "pygments_lexer": "r",
   "version": "3.6.1"
  }
 },
 "nbformat": 4,
 "nbformat_minor": 4
}
