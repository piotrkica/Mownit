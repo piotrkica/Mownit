{
 "cells": [
  {
   "cell_type": "markdown",
   "metadata": {},
   "source": [
    "# MOwNiT \n",
    "## Laboratorium\n",
    "## Wybrane zagadnienia algebry liniowej, faktoryzacja\n",
    "### Algebra liniowa w Julii\n",
    "https://docs.julialang.org/en/v1.2/stdlib/LinearAlgebra/index.html"
   ]
  },
  {
   "cell_type": "code",
   "execution_count": 2,
   "metadata": {},
   "outputs": [],
   "source": [
    "using(LinearAlgebra)"
   ]
  },
  {
   "cell_type": "code",
   "execution_count": 2,
   "metadata": {
    "scrolled": true
   },
   "outputs": [
    {
     "data": {
      "text/html": [
       "# 11 methods for generic function <b>factorize</b>:<ul><li> factorize(A::<b>StridedArray{T, 2}</b>)<i> where T</i> in LinearAlgebra at <a href=\"file://C:/buildbot/worker/package_win64/build/usr/share/julia/stdlib/v1.5/LinearAlgebra/src/dense.jl\" target=\"_blank\">C:\\Users\\Piotrek\\AppData\\Local\\Programs\\Julia 1.5.3\\share\\julia\\stdlib\\v1.5\\LinearAlgebra\\src\\dense.jl:1207</a></li> <li> factorize(A::<b>Adjoint</b>) in LinearAlgebra at <a href=\"file://C:/buildbot/worker/package_win64/build/usr/share/julia/stdlib/v1.5/LinearAlgebra/src/dense.jl\" target=\"_blank\">C:\\Users\\Piotrek\\AppData\\Local\\Programs\\Julia 1.5.3\\share\\julia\\stdlib\\v1.5\\LinearAlgebra\\src\\dense.jl:1283</a></li> <li> factorize(A::<b>Transpose</b>) in LinearAlgebra at <a href=\"file://C:/buildbot/worker/package_win64/build/usr/share/julia/stdlib/v1.5/LinearAlgebra/src/dense.jl\" target=\"_blank\">C:\\Users\\Piotrek\\AppData\\Local\\Programs\\Julia 1.5.3\\share\\julia\\stdlib\\v1.5\\LinearAlgebra\\src\\dense.jl:1284</a></li> <li> factorize(A::<b>LinearAlgebra.AbstractTriangular</b>) in LinearAlgebra at <a href=\"file://C:/buildbot/worker/package_win64/build/usr/share/julia/stdlib/v1.5/LinearAlgebra/src/triangular.jl\" target=\"_blank\">C:\\Users\\Piotrek\\AppData\\Local\\Programs\\Julia 1.5.3\\share\\julia\\stdlib\\v1.5\\LinearAlgebra\\src\\triangular.jl:2676</a></li> <li> factorize(A::<b>Union{Hermitian{Complex{Float64},var\"#s828\"}, Hermitian{Float64,var\"#s828\"}, Symmetric{Float64,var\"#s828\"}} where var\"#s828\"<:SparseArrays.AbstractSparseMatrixCSC</b>) in SparseArrays at <a href=\"file://C:/buildbot/worker/package_win64/build/usr/share/julia/stdlib/v1.5/SparseArrays/src/linalg.jl\" target=\"_blank\">C:\\Users\\Piotrek\\AppData\\Local\\Programs\\Julia 1.5.3\\share\\julia\\stdlib\\v1.5\\SparseArrays\\src\\linalg.jl:1538</a></li> <li> factorize(A::<b>Union{Hermitian{T,S}, Symmetric{T,S}} where S where T</b>) in LinearAlgebra at <a href=\"file://C:/buildbot/worker/package_win64/build/usr/share/julia/stdlib/v1.5/LinearAlgebra/src/symmetric.jl\" target=\"_blank\">C:\\Users\\Piotrek\\AppData\\Local\\Programs\\Julia 1.5.3\\share\\julia\\stdlib\\v1.5\\LinearAlgebra\\src\\symmetric.jl:634</a></li> <li> factorize(A::<b>Tridiagonal</b>) in LinearAlgebra at <a href=\"file://C:/buildbot/worker/package_win64/build/usr/share/julia/stdlib/v1.5/LinearAlgebra/src/lu.jl\" target=\"_blank\">C:\\Users\\Piotrek\\AppData\\Local\\Programs\\Julia 1.5.3\\share\\julia\\stdlib\\v1.5\\LinearAlgebra\\src\\lu.jl:555</a></li> <li> factorize(D::<b>Diagonal</b>) in LinearAlgebra at <a href=\"file://C:/buildbot/worker/package_win64/build/usr/share/julia/stdlib/v1.5/LinearAlgebra/src/diagonal.jl\" target=\"_blank\">C:\\Users\\Piotrek\\AppData\\Local\\Programs\\Julia 1.5.3\\share\\julia\\stdlib\\v1.5\\LinearAlgebra\\src\\diagonal.jl:121</a></li> <li> factorize(A::<b>Bidiagonal</b>) in LinearAlgebra at <a href=\"file://C:/buildbot/worker/package_win64/build/usr/share/julia/stdlib/v1.5/LinearAlgebra/src/bidiag.jl\" target=\"_blank\">C:\\Users\\Piotrek\\AppData\\Local\\Programs\\Julia 1.5.3\\share\\julia\\stdlib\\v1.5\\LinearAlgebra\\src\\bidiag.jl:875</a></li> <li> factorize(S::<b>SymTridiagonal</b>) in LinearAlgebra at <a href=\"file://C:/buildbot/worker/package_win64/build/usr/share/julia/stdlib/v1.5/LinearAlgebra/src/ldlt.jl\" target=\"_blank\">C:\\Users\\Piotrek\\AppData\\Local\\Programs\\Julia 1.5.3\\share\\julia\\stdlib\\v1.5\\LinearAlgebra\\src\\ldlt.jl:166</a></li> <li> factorize(A::<b>SparseArrays.AbstractSparseMatrixCSC</b>) in SparseArrays at <a href=\"file://C:/buildbot/worker/package_win64/build/usr/share/julia/stdlib/v1.5/SparseArrays/src/linalg.jl\" target=\"_blank\">C:\\Users\\Piotrek\\AppData\\Local\\Programs\\Julia 1.5.3\\share\\julia\\stdlib\\v1.5\\SparseArrays\\src\\linalg.jl:1508</a></li> </ul>"
      ],
      "text/plain": [
       "# 11 methods for generic function \"factorize\":\n",
       "[1] factorize(A::StridedArray{T, 2}) where T in LinearAlgebra at C:\\Users\\Piotrek\\AppData\\Local\\Programs\\Julia 1.5.3\\share\\julia\\stdlib\\v1.5\\LinearAlgebra\\src\\dense.jl:1207\n",
       "[2] factorize(A::Adjoint) in LinearAlgebra at C:\\Users\\Piotrek\\AppData\\Local\\Programs\\Julia 1.5.3\\share\\julia\\stdlib\\v1.5\\LinearAlgebra\\src\\dense.jl:1283\n",
       "[3] factorize(A::Transpose) in LinearAlgebra at C:\\Users\\Piotrek\\AppData\\Local\\Programs\\Julia 1.5.3\\share\\julia\\stdlib\\v1.5\\LinearAlgebra\\src\\dense.jl:1284\n",
       "[4] factorize(A::LinearAlgebra.AbstractTriangular) in LinearAlgebra at C:\\Users\\Piotrek\\AppData\\Local\\Programs\\Julia 1.5.3\\share\\julia\\stdlib\\v1.5\\LinearAlgebra\\src\\triangular.jl:2676\n",
       "[5] factorize(A::Union{Hermitian{Complex{Float64},var\"#s828\"}, Hermitian{Float64,var\"#s828\"}, Symmetric{Float64,var\"#s828\"}} where var\"#s828\"<:SparseArrays.AbstractSparseMatrixCSC) in SparseArrays at C:\\Users\\Piotrek\\AppData\\Local\\Programs\\Julia 1.5.3\\share\\julia\\stdlib\\v1.5\\SparseArrays\\src\\linalg.jl:1538\n",
       "[6] factorize(A::Union{Hermitian{T,S}, Symmetric{T,S}} where S where T) in LinearAlgebra at C:\\Users\\Piotrek\\AppData\\Local\\Programs\\Julia 1.5.3\\share\\julia\\stdlib\\v1.5\\LinearAlgebra\\src\\symmetric.jl:634\n",
       "[7] factorize(A::Tridiagonal) in LinearAlgebra at C:\\Users\\Piotrek\\AppData\\Local\\Programs\\Julia 1.5.3\\share\\julia\\stdlib\\v1.5\\LinearAlgebra\\src\\lu.jl:555\n",
       "[8] factorize(D::Diagonal) in LinearAlgebra at C:\\Users\\Piotrek\\AppData\\Local\\Programs\\Julia 1.5.3\\share\\julia\\stdlib\\v1.5\\LinearAlgebra\\src\\diagonal.jl:121\n",
       "[9] factorize(A::Bidiagonal) in LinearAlgebra at C:\\Users\\Piotrek\\AppData\\Local\\Programs\\Julia 1.5.3\\share\\julia\\stdlib\\v1.5\\LinearAlgebra\\src\\bidiag.jl:875\n",
       "[10] factorize(S::SymTridiagonal) in LinearAlgebra at C:\\Users\\Piotrek\\AppData\\Local\\Programs\\Julia 1.5.3\\share\\julia\\stdlib\\v1.5\\LinearAlgebra\\src\\ldlt.jl:166\n",
       "[11] factorize(A::SparseArrays.AbstractSparseMatrixCSC) in SparseArrays at C:\\Users\\Piotrek\\AppData\\Local\\Programs\\Julia 1.5.3\\share\\julia\\stdlib\\v1.5\\SparseArrays\\src\\linalg.jl:1508"
      ]
     },
     "execution_count": 2,
     "metadata": {},
     "output_type": "execute_result"
    }
   ],
   "source": [
    "methods(factorize)"
   ]
  },
  {
   "cell_type": "code",
   "execution_count": 3,
   "metadata": {},
   "outputs": [
    {
     "data": {
      "text/plain": [
       "1×3 Array{Int64,2}:\n",
       " 1  2  2"
      ]
     },
     "execution_count": 3,
     "metadata": {},
     "output_type": "execute_result"
    }
   ],
   "source": [
    "# wiersze vs kolumny\n",
    "x1 = [1 2 2]"
   ]
  },
  {
   "cell_type": "code",
   "execution_count": 4,
   "metadata": {},
   "outputs": [
    {
     "data": {
      "text/plain": [
       "3-element Array{Int64,1}:\n",
       " 1\n",
       " 2\n",
       " 3"
      ]
     },
     "execution_count": 4,
     "metadata": {},
     "output_type": "execute_result"
    }
   ],
   "source": [
    "y1 = [1 ;2 ;3]"
   ]
  },
  {
   "cell_type": "code",
   "execution_count": 5,
   "metadata": {},
   "outputs": [
    {
     "data": {
      "text/plain": [
       "3×1 Transpose{Int64,Array{Int64,2}}:\n",
       " 1\n",
       " 2\n",
       " 2"
      ]
     },
     "execution_count": 5,
     "metadata": {},
     "output_type": "execute_result"
    }
   ],
   "source": [
    "transpose(x1)"
   ]
  },
  {
   "cell_type": "code",
   "execution_count": 6,
   "metadata": {},
   "outputs": [
    {
     "data": {
      "text/plain": [
       "11"
      ]
     },
     "execution_count": 6,
     "metadata": {},
     "output_type": "execute_result"
    }
   ],
   "source": [
    "# iloczyn skalarny\n",
    "dot(x1, y1)"
   ]
  },
  {
   "cell_type": "markdown",
   "metadata": {},
   "source": [
    " Długość wektora liczymy jako pierwiastek z jego iloczynu skalarnego \n",
    "$$ \\lVert\\mathbf{v}\\rVert = \\sqrt{\\mathbf{v}\\cdot \\mathbf{v}}=\\sqrt{\\sum_{i=1}^nv_i^2}$$\n",
    "\n"
   ]
  },
  {
   "cell_type": "markdown",
   "metadata": {},
   "source": [
    "#### Przykładowe dane"
   ]
  },
  {
   "cell_type": "code",
   "execution_count": 7,
   "metadata": {},
   "outputs": [
    {
     "data": {
      "text/plain": [
       "3×3 Array{Float64,2}:\n",
       " 0.899971  0.86987   0.22382\n",
       " 0.159068  0.567359  0.00395391\n",
       " 0.183727  0.526733  0.172389"
      ]
     },
     "execution_count": 7,
     "metadata": {},
     "output_type": "execute_result"
    }
   ],
   "source": [
    "# losujemy macierz 3x3\n",
    "A = rand(3,3)"
   ]
  },
  {
   "cell_type": "code",
   "execution_count": 8,
   "metadata": {},
   "outputs": [
    {
     "data": {
      "text/plain": [
       "3-element Array{Float64,1}:\n",
       " 0.7178431317948228\n",
       " 0.65795017693524\n",
       " 0.6656441293945998"
      ]
     },
     "execution_count": 8,
     "metadata": {},
     "output_type": "execute_result"
    }
   ],
   "source": [
    "# losujemy wektor x\n",
    "x = rand(3)"
   ]
  },
  {
   "cell_type": "code",
   "execution_count": 9,
   "metadata": {},
   "outputs": [
    {
     "data": {
      "text/plain": [
       "3-element Array{Float64,1}:\n",
       " 1.367354323537614\n",
       " 0.4901113712208542\n",
       " 0.5932014322080087"
      ]
     },
     "execution_count": 9,
     "metadata": {},
     "output_type": "execute_result"
    }
   ],
   "source": [
    "# wyliczamy b\n",
    "b = A*x"
   ]
  },
  {
   "cell_type": "markdown",
   "metadata": {},
   "source": [
    "### Sposoby rozwiązania Ax=b"
   ]
  },
  {
   "cell_type": "code",
   "execution_count": 10,
   "metadata": {},
   "outputs": [
    {
     "data": {
      "text/plain": [
       "3-element Array{Float64,1}:\n",
       " 0.7178431317948226\n",
       " 0.65795017693524\n",
       " 0.6656441293945998"
      ]
     },
     "execution_count": 10,
     "metadata": {},
     "output_type": "execute_result"
    }
   ],
   "source": [
    "# mozemy policzyc odwrotność macierzy i wymnożyć\n",
    "# uwaga: nieefektywne!\n",
    "inv(A) * b"
   ]
  },
  {
   "cell_type": "code",
   "execution_count": 11,
   "metadata": {},
   "outputs": [
    {
     "data": {
      "text/plain": [
       "3-element Array{Float64,1}:\n",
       " 0.7178431317948226\n",
       " 0.6579501769352402\n",
       " 0.6656441293946"
      ]
     },
     "execution_count": 11,
     "metadata": {},
     "output_type": "execute_result"
    }
   ],
   "source": [
    "# najlepiej używać zoptymalizowanego operatora \"\\\"\"\n",
    "x = A\\b"
   ]
  },
  {
   "cell_type": "markdown",
   "metadata": {},
   "source": [
    " operator \"\\\\\" wybiera odpowiednią faktoryzację:\n",
    "- https://docs.julialang.org/en/v1.2/stdlib/LinearAlgebra/#LinearAlgebra.factorize\n",
    "- https://docs.julialang.org/en/v1.2/stdlib/LinearAlgebra/#man-linalg-factorizations-1\n",
    " \n"
   ]
  },
  {
   "cell_type": "markdown",
   "metadata": {},
   "source": [
    "### Faktoryzacja LU"
   ]
  },
  {
   "cell_type": "code",
   "execution_count": 12,
   "metadata": {},
   "outputs": [
    {
     "data": {
      "text/plain": [
       "LU{Float64,Array{Float64,2}}\n",
       "L factor:\n",
       "3×3 Array{Float64,2}:\n",
       " 1.0       0.0       0.0\n",
       " 0.176748  1.0       0.0\n",
       " 0.204148  0.844152  1.0\n",
       "U factor:\n",
       "3×3 Array{Float64,2}:\n",
       " 0.899971  0.86987    0.22382\n",
       " 0.0       0.413611  -0.0356059\n",
       " 0.0       0.0        0.156754"
      ]
     },
     "execution_count": 12,
     "metadata": {},
     "output_type": "execute_result"
    }
   ],
   "source": [
    "# W przypadku ogólnej macierzy kwadratowej jest to faktoryzacja LU z pivotem\n",
    "Af = factorize(A)"
   ]
  },
  {
   "cell_type": "code",
   "execution_count": 13,
   "metadata": {},
   "outputs": [
    {
     "data": {
      "text/plain": [
       "3×3 Array{Float64,2}:\n",
       " 1.0       0.0       0.0\n",
       " 0.176748  1.0       0.0\n",
       " 0.204148  0.844152  1.0"
      ]
     },
     "execution_count": 13,
     "metadata": {},
     "output_type": "execute_result"
    }
   ],
   "source": [
    "# Macierz L\n",
    "Af.L"
   ]
  },
  {
   "cell_type": "code",
   "execution_count": 14,
   "metadata": {},
   "outputs": [
    {
     "data": {
      "text/plain": [
       "3×3 Array{Float64,2}:\n",
       " 0.899971  0.86987    0.22382\n",
       " 0.0       0.413611  -0.0356059\n",
       " 0.0       0.0        0.156754"
      ]
     },
     "execution_count": 14,
     "metadata": {},
     "output_type": "execute_result"
    }
   ],
   "source": [
    "# Macierz U\n",
    "Af.U"
   ]
  },
  {
   "cell_type": "code",
   "execution_count": 18,
   "metadata": {},
   "outputs": [
    {
     "data": {
      "text/plain": [
       "3-element Array{Int64,1}:\n",
       " 1\n",
       " 2\n",
       " 3"
      ]
     },
     "execution_count": 18,
     "metadata": {},
     "output_type": "execute_result"
    }
   ],
   "source": [
    "# wektor permutacji wierszy \n",
    "Af.p"
   ]
  },
  {
   "cell_type": "code",
   "execution_count": 16,
   "metadata": {},
   "outputs": [
    {
     "data": {
      "text/plain": [
       "3×3 Array{Float64,2}:\n",
       " 0.0  0.0  0.0\n",
       " 0.0  0.0  0.0\n",
       " 0.0  0.0  0.0"
      ]
     },
     "execution_count": 16,
     "metadata": {},
     "output_type": "execute_result"
    }
   ],
   "source": [
    "# sprawdzenie czy dostaniemy pierwotna macierz\n",
    "Af.P * A - Af.L*Af.U"
   ]
  },
  {
   "cell_type": "code",
   "execution_count": 19,
   "metadata": {
    "scrolled": true
   },
   "outputs": [
    {
     "data": {
      "text/plain": [
       "LU{Float64,Array{Float64,2}}\n",
       "L factor:\n",
       "3×3 Array{Float64,2}:\n",
       " 1.0       0.0       0.0\n",
       " 0.176748  1.0       0.0\n",
       " 0.204148  0.844152  1.0\n",
       "U factor:\n",
       "3×3 Array{Float64,2}:\n",
       " 0.899971  0.86987    0.22382\n",
       " 0.0       0.413611  -0.0356059\n",
       " 0.0       0.0        0.156754"
      ]
     },
     "execution_count": 19,
     "metadata": {},
     "output_type": "execute_result"
    }
   ],
   "source": [
    "# mozemy zamienic macierz A na postać zfaktoryzowaną\n",
    "A = factorize(A)"
   ]
  },
  {
   "cell_type": "code",
   "execution_count": 20,
   "metadata": {},
   "outputs": [
    {
     "data": {
      "text/plain": [
       "3-element Array{Float64,1}:\n",
       " 0.7178431317948226\n",
       " 0.6579501769352402\n",
       " 0.6656441293946"
      ]
     },
     "execution_count": 20,
     "metadata": {},
     "output_type": "execute_result"
    }
   ],
   "source": [
    "# i działać na niej operatorem \\\n",
    "# operator ten będzie wykorzytywał raz utworzony wynik faktoryzacji\n",
    "A\\b"
   ]
  },
  {
   "cell_type": "code",
   "execution_count": 21,
   "metadata": {},
   "outputs": [
    {
     "data": {
      "text/plain": [
       "3-element Array{Float64,1}:\n",
       " -0.5366394225668646\n",
       "  1.8261382257968783\n",
       " -0.6762589752270634"
      ]
     },
     "execution_count": 21,
     "metadata": {},
     "output_type": "execute_result"
    }
   ],
   "source": [
    "# dla różnych prawych stron równania z tą samą macierzą\n",
    "c = rand(3);\n",
    "A\\c"
   ]
  },
  {
   "cell_type": "markdown",
   "metadata": {},
   "source": [
    "### Faktoryzacja QR\n"
   ]
  },
  {
   "cell_type": "code",
   "execution_count": 22,
   "metadata": {},
   "outputs": [
    {
     "data": {
      "text/plain": [
       "10×5 Array{Float64,2}:\n",
       " 0.0568935  0.0875996  0.334551   0.41377   0.735346\n",
       " 0.490199   0.206696   0.774178   0.018011  0.391085\n",
       " 0.708714   0.658433   0.757815   0.584545  0.950053\n",
       " 0.481661   0.840763   0.602065   0.718781  0.786913\n",
       " 0.128453   0.134845   0.0223073  0.710962  0.556659\n",
       " 0.339261   0.458413   0.57314    0.386889  0.556076\n",
       " 0.98694    0.798721   0.569266   0.743248  0.320126\n",
       " 0.6052     0.378634   0.87735    0.268454  0.725498\n",
       " 0.746679   0.104029   0.903071   0.297582  0.840885\n",
       " 0.837184   0.226145   0.237276   0.355847  0.260392"
      ]
     },
     "execution_count": 22,
     "metadata": {},
     "output_type": "execute_result"
    }
   ],
   "source": [
    "B = rand(10, 5)"
   ]
  },
  {
   "cell_type": "code",
   "execution_count": 277,
   "metadata": {},
   "outputs": [
    {
     "data": {
      "text/plain": [
       "QRPivoted{Float64,Array{Float64,2}}\n",
       "Q factor:\n",
       "10×10 LinearAlgebra.QRPackedQ{Float64,Array{Float64,2}}:\n",
       " -0.357186   0.417627     0.149081    0.143604   …  -0.56371     -0.193404\n",
       " -0.189965  -0.170621     0.144185   -0.530077      -0.360061    -0.0487845\n",
       " -0.461478  -0.00282184  -0.145339    0.111816       0.183645    -0.609762\n",
       " -0.382234   0.0876222   -0.573288    0.0280935      0.0947439    0.568797\n",
       " -0.270391   0.243238     0.0737091   0.535337       0.0921867    0.0348739\n",
       " -0.270108   0.0628639   -0.226754   -0.204326   …   0.0114417    0.115421\n",
       " -0.155498  -0.639764    -0.360821    0.0666384      0.00251776  -0.320541\n",
       " -0.352403  -0.0568018    0.0912292  -0.329402      -0.203592     0.164893\n",
       " -0.40845   -0.104452     0.574563   -0.138846       0.579439     0.129066\n",
       " -0.126482  -0.549763     0.28586     0.473861      -0.352207     0.322092\n",
       "R factor:\n",
       "5×5 Array{Float64,2}:\n",
       " -2.05872  -1.52859  -1.18478   -1.80382    -1.36918\n",
       "  0.0      -1.17113  -0.532946  -0.539106   -0.289152\n",
       "  0.0       0.0      -0.758077   0.0392208  -0.439055\n",
       "  0.0       0.0       0.0       -0.629864    0.525383\n",
       "  0.0       0.0       0.0        0.0        -0.312433\n",
       "permutation:\n",
       "5-element Array{Int64,1}:\n",
       " 5\n",
       " 1\n",
       " 2\n",
       " 3\n",
       " 4"
      ]
     },
     "execution_count": 277,
     "metadata": {},
     "output_type": "execute_result"
    }
   ],
   "source": [
    "# W przypadku ogólnej macierzy prostokątnej wybierana jest faktoryzacja QR z pivotem\n",
    "qrf = factorize(B)"
   ]
  },
  {
   "cell_type": "markdown",
   "metadata": {},
   "source": [
    "- $Q$ to macierz  ortogonalna mxm, co oznacza, że  $Q^T*Q=Q*Q^T=I$ czyli $Q^{-1}=Q^T$ (odwracanie takich macierzy jest szybkie i nie generuje dodatkowych błędów !)\n",
    "- $R$ to macierz postaci $\\begin{pmatrix} Rfactor \\\\ 0 \\end{pmatrix} $ , gdzie $Rfactor$ jest macierzą trójkątną górną, a 0 to macierz zer o wymierze nx(m-n)"
   ]
  },
  {
   "cell_type": "code",
   "execution_count": 24,
   "metadata": {},
   "outputs": [
    {
     "data": {
      "text/plain": [
       "10×10 Array{Float64,2}:\n",
       "  1.0           1.66533e-16   4.16334e-17  …  -2.08167e-16  -6.245e-17\n",
       "  1.66533e-16   1.0          -2.77556e-17      8.32667e-17   5.55112e-17\n",
       "  4.16334e-17  -2.77556e-17   1.0              6.93889e-17  -8.32667e-17\n",
       "  7.63278e-17   0.0          -2.77556e-17      1.11022e-16   1.94289e-16\n",
       "  4.16334e-17   0.0           1.52656e-16     -9.71445e-17  -1.11022e-16\n",
       " -4.51028e-17  -1.38778e-17  -3.46945e-17  …   5.55112e-17   6.93889e-17\n",
       "  2.5327e-16   -1.17961e-16  -1.14492e-16      1.2837e-16    2.42861e-17\n",
       " -1.66533e-16   0.0           3.1225e-17      -4.51028e-17   1.73472e-17\n",
       " -2.08167e-16   8.32667e-17   6.93889e-17      1.0          -1.38778e-17\n",
       " -6.245e-17     5.55112e-17  -8.32667e-17     -1.38778e-17   1.0"
      ]
     },
     "execution_count": 24,
     "metadata": {},
     "output_type": "execute_result"
    }
   ],
   "source": [
    "# sprawdzenie macierzy Q\n",
    "transpose(qrf.Q)*qrf.Q"
   ]
  },
  {
   "cell_type": "code",
   "execution_count": 27,
   "metadata": {
    "scrolled": true
   },
   "outputs": [
    {
     "data": {
      "text/plain": [
       "true"
      ]
     },
     "execution_count": 27,
     "metadata": {},
     "output_type": "execute_result"
    }
   ],
   "source": [
    "isapprox(transpose(qrf.Q)*qrf.Q, I)"
   ]
  },
  {
   "cell_type": "code",
   "execution_count": 28,
   "metadata": {},
   "outputs": [
    {
     "data": {
      "text/plain": [
       "5×5 Array{Float64,2}:\n",
       " -2.05872  -1.52859  -1.18478   -1.80382    -1.36918\n",
       "  0.0      -1.17113  -0.532946  -0.539106   -0.289152\n",
       "  0.0       0.0      -0.758077   0.0392208  -0.439055\n",
       "  0.0       0.0       0.0       -0.629864    0.525383\n",
       "  0.0       0.0       0.0        0.0        -0.312433"
      ]
     },
     "execution_count": 28,
     "metadata": {},
     "output_type": "execute_result"
    }
   ],
   "source": [
    "qrf.R"
   ]
  },
  {
   "cell_type": "markdown",
   "metadata": {},
   "source": [
    "### Zastosowanie faktoryzacji do metody najmniejszych kwadratów\n",
    "\n",
    "Jednym z zastosowań faktoryzacji QR jest użycie jej do metody najmniejszych kwadratów.\n",
    "\n",
    "Przykład:\n",
    "\n",
    "Obliczmy dopasowanie wielomianu $$f(x)=wsp_2*x^2+wsp_1*x+wsp_0$$ do punktów (1,1) (2,2) (3,4) (4, 4) (5,3) (6,0)\n",
    "\n",
    "- Budujemy układ równań wg wzoru $$wsp_2x_i^2+wsp_1x_i+wsp_0=y_i$$:\n",
    "$$wsp_2*1^2+wsp_1*1+wsp_0=1$$\n",
    "$$wsp_2*2^2+wsp_1*2+wsp_0=2$$\n",
    "$$wsp_2*3^2+wsp_1*3+wsp_0=4$$\n",
    "$$wsp_2*4^2+wsp_1*4+wsp_0=4$$\n",
    "$$wsp_2*5^2+wsp_1*5+wsp_0=3$$\n",
    "$$wsp_2*6^2+wsp_1*6+wsp_0=0$$\n",
    "\n",
    "- Układ ten  nie ma dokładnego rozwiązania. Możemy jednak znaleźć najlepsze przybliżenie, czyli takie $wsp_i$, które minimalizują odległość:\n",
    "\n",
    "$$\\sqrt{\\sum_{i=1}^{6}{(y_i-f(x_i))^2}}=\\lVert y-A*wsp\\rVert$$\n",
    "\n",
    "\n",
    "\n"
   ]
  },
  {
   "cell_type": "markdown",
   "metadata": {},
   "source": [
    "Jak użyć do tej mimalizacji faktoryzacji QR:\n",
    "\n",
    "#### 1. Tworzymy macierz A na postawie $(x_i,y_i)$"
   ]
  },
  {
   "cell_type": "code",
   "execution_count": 29,
   "metadata": {},
   "outputs": [
    {
     "data": {
      "text/plain": [
       "6×3 Array{Float64,2}:\n",
       " 0.0  0.0  0.0\n",
       " 0.0  0.0  0.0\n",
       " 0.0  0.0  0.0\n",
       " 0.0  0.0  0.0\n",
       " 0.0  0.0  0.0\n",
       " 0.0  0.0  0.0"
      ]
     },
     "execution_count": 29,
     "metadata": {},
     "output_type": "execute_result"
    }
   ],
   "source": [
    "A = zeros(6,3) "
   ]
  },
  {
   "cell_type": "markdown",
   "metadata": {},
   "source": [
    " punkty $(x_i,y_i)$\n"
   ]
  },
  {
   "cell_type": "code",
   "execution_count": 30,
   "metadata": {},
   "outputs": [
    {
     "data": {
      "text/plain": [
       "6-element Array{Int64,1}:\n",
       " 1\n",
       " 2\n",
       " 4\n",
       " 4\n",
       " 3\n",
       " 0"
      ]
     },
     "execution_count": 30,
     "metadata": {},
     "output_type": "execute_result"
    }
   ],
   "source": [
    "x=[1; 2; 3; 4; 5; 6]\n",
    "y=[1; 2; 4; 4; 3; 0]"
   ]
  },
  {
   "cell_type": "code",
   "execution_count": 31,
   "metadata": {},
   "outputs": [
    {
     "data": {
      "text/plain": [
       "6-element Array{Int64,1}:\n",
       "  1\n",
       "  4\n",
       "  9\n",
       " 16\n",
       " 25\n",
       " 36"
      ]
     },
     "execution_count": 31,
     "metadata": {},
     "output_type": "execute_result"
    }
   ],
   "source": [
    "A[:,1] = x.^2"
   ]
  },
  {
   "cell_type": "code",
   "execution_count": 32,
   "metadata": {},
   "outputs": [
    {
     "data": {
      "text/plain": [
       "6-element Array{Int64,1}:\n",
       " 1\n",
       " 2\n",
       " 3\n",
       " 4\n",
       " 5\n",
       " 6"
      ]
     },
     "execution_count": 32,
     "metadata": {},
     "output_type": "execute_result"
    }
   ],
   "source": [
    "A[:,2] = x"
   ]
  },
  {
   "cell_type": "code",
   "execution_count": 33,
   "metadata": {},
   "outputs": [
    {
     "data": {
      "text/plain": [
       "6-element Array{Float64,1}:\n",
       " 1.0\n",
       " 1.0\n",
       " 1.0\n",
       " 1.0\n",
       " 1.0\n",
       " 1.0"
      ]
     },
     "execution_count": 33,
     "metadata": {},
     "output_type": "execute_result"
    }
   ],
   "source": [
    "A[:,3] = ones(6)"
   ]
  },
  {
   "cell_type": "code",
   "execution_count": 34,
   "metadata": {},
   "outputs": [
    {
     "data": {
      "text/plain": [
       "6×3 Array{Float64,2}:\n",
       "  1.0  1.0  1.0\n",
       "  4.0  2.0  1.0\n",
       "  9.0  3.0  1.0\n",
       " 16.0  4.0  1.0\n",
       " 25.0  5.0  1.0\n",
       " 36.0  6.0  1.0"
      ]
     },
     "execution_count": 34,
     "metadata": {},
     "output_type": "execute_result"
    }
   ],
   "source": [
    "A"
   ]
  },
  {
   "cell_type": "markdown",
   "metadata": {},
   "source": [
    "#### 2. Dokonujemy faktoryzacji QR macierzy A "
   ]
  },
  {
   "cell_type": "code",
   "execution_count": 35,
   "metadata": {},
   "outputs": [
    {
     "data": {
      "text/plain": [
       "QRPivoted{Float64,Array{Float64,2}}\n",
       "Q factor:\n",
       "6×6 LinearAlgebra.QRPackedQ{Float64,Array{Float64,2}}:\n",
       " -0.0209657  -0.343313    0.838525   0.112335    -0.0400677  -0.405397\n",
       " -0.0838628  -0.521522    0.167705  -0.00636667   0.34634     0.756879\n",
       " -0.188691   -0.534625   -0.223607  -0.612934    -0.487947   -0.121617\n",
       " -0.335451   -0.382624   -0.33541    0.753648    -0.213523   -0.122449\n",
       " -0.524142   -0.0655178  -0.167705  -0.204705     0.705864   -0.390779\n",
       " -0.754765    0.416693    0.279508  -0.0419783   -0.310667    0.283364\n",
       "R factor:\n",
       "3×3 Array{Float64,2}:\n",
       " -47.697  -9.24587  -1.90788\n",
       "   0.0    -2.34816  -1.43091\n",
       "   0.0     0.0       0.559017\n",
       "permutation:\n",
       "3-element Array{Int64,1}:\n",
       " 1\n",
       " 2\n",
       " 3"
      ]
     },
     "execution_count": 35,
     "metadata": {},
     "output_type": "execute_result"
    }
   ],
   "source": [
    "AF = factorize(A)"
   ]
  },
  {
   "cell_type": "code",
   "execution_count": 36,
   "metadata": {},
   "outputs": [
    {
     "data": {
      "text/plain": [
       "6×6 Array{Float64,2}:\n",
       "  1.0           0.0           1.11022e-16  …   8.32667e-17   0.0\n",
       "  0.0           1.0           9.71445e-17     -5.55112e-17  -1.249e-16\n",
       "  1.11022e-16   9.71445e-17   1.0             -4.16334e-17   0.0\n",
       " -9.71445e-17   3.46945e-17   2.60209e-17     -9.88792e-17  -2.08167e-17\n",
       "  8.32667e-17  -5.55112e-17  -4.16334e-17      1.0           0.0\n",
       "  0.0          -1.249e-16     0.0          …   0.0           1.0"
      ]
     },
     "execution_count": 36,
     "metadata": {},
     "output_type": "execute_result"
    }
   ],
   "source": [
    "# można przetestować ortogonalność:\n",
    "Transpose(AF.Q)*AF.Q"
   ]
  },
  {
   "cell_type": "markdown",
   "metadata": {},
   "source": [
    "Mamy równanie:\n",
    "$$A*wsp=y$$\n",
    "Dla $A=QR$:\n",
    "$$QR*wsp =y$$\n",
    "Możemy obydwie strony wymnożyć z lewej przez $Q^T$:\n",
    "$$R*wsp =Q^T y$$\n",
    "$$\\begin{pmatrix} Rfactor \\\\ 0 \\end{pmatrix} wsp= Q^T y$$\n",
    "\n",
    "Poszukiwanym rozwiązaniem jest rozwiązanie równania będącego górną niezerową częścią:\n",
    "$$Rfactor * wsp= Q^T y[1:n]$$\n",
    "$$wsp=Rfactor \\setminus Q^T y[1:n]$$"
   ]
  },
  {
   "cell_type": "code",
   "execution_count": 37,
   "metadata": {},
   "outputs": [
    {
     "data": {
      "text/plain": [
       "3-element Array{Float64,1}:\n",
       " -0.5714285714285725\n",
       "  3.9428571428571515\n",
       " -2.8000000000000163"
      ]
     },
     "execution_count": 37,
     "metadata": {},
     "output_type": "execute_result"
    }
   ],
   "source": [
    "# implementacja powyższego (uwaga: w tym przykladzie nie jest potrzebna permutacja,\n",
    "# bo wektor permutacji wynosi[1 2 3])\n",
    "AF.R\\((Transpose(AF.Q)*y)[1:3])"
   ]
  },
  {
   "cell_type": "markdown",
   "metadata": {},
   "source": [
    "Więcej informacji:\n",
    "- http://www.math.uconn.edu/~leykekhman/courses/MATH3795/Lectures/Lecture_8_Linear_least_squares_orthogonal_matrices.pdf\n",
    "- http://www.seas.ucla.edu/~vandenbe/133A/lectures/qr.pdf"
   ]
  },
  {
   "cell_type": "markdown",
   "metadata": {},
   "source": [
    "W praktyce używamy tego algorytmu poprzez operator \"\\\\\", za którym jest on \"schowany\"."
   ]
  },
  {
   "cell_type": "code",
   "execution_count": 38,
   "metadata": {},
   "outputs": [
    {
     "data": {
      "text/plain": [
       "3-element Array{Float64,1}:\n",
       " -0.5714285714285726\n",
       "  3.942857142857151\n",
       " -2.8000000000000145"
      ]
     },
     "execution_count": 38,
     "metadata": {},
     "output_type": "execute_result"
    }
   ],
   "source": [
    "A \\ y"
   ]
  },
  {
   "cell_type": "code",
   "execution_count": 39,
   "metadata": {},
   "outputs": [
    {
     "data": {
      "text/html": [
       "&#45;2.8 &#43; 3.9428571428571417&#8729;x &#45; 0.5714285714285711&#8729;x<sup>2</sup>"
      ],
      "text/latex": [
       "$-2.8 + 3.9428571428571417\\cdot x - 0.5714285714285711\\cdot x^{2}$"
      ],
      "text/plain": [
       "Polynomial(-2.8 + 3.9428571428571417*x - 0.5714285714285711*x^2)"
      ]
     },
     "execution_count": 39,
     "metadata": {},
     "output_type": "execute_result"
    }
   ],
   "source": [
    "# sprawdzamy czy dostaliśmy dobre wspólczynniki\n",
    "using Polynomials\n",
    "fit(x, y, 2)"
   ]
  },
  {
   "cell_type": "code",
   "execution_count": 40,
   "metadata": {},
   "outputs": [
    {
     "data": {
      "text/plain": [
       "Polynomials"
      ]
     },
     "execution_count": 40,
     "metadata": {},
     "output_type": "execute_result"
    }
   ],
   "source": [
    "@which fit"
   ]
  },
  {
   "cell_type": "markdown",
   "metadata": {},
   "source": [
    "Funkcja <a href=\"https://github.com/JuliaMath/Polynomials.jl/blob/master/src/common.jl#L142\">\n",
    "fit</a>  z pakietu Polynomials używa własnie tej metody\n"
   ]
  },
  {
   "cell_type": "markdown",
   "metadata": {},
   "source": [
    "### Zadania"
   ]
  },
  {
   "cell_type": "markdown",
   "metadata": {},
   "source": [
    "#### Zadanie 1 (1pkt)\n",
    "Ustal losowe (referencyjne) x rozmiaru 1000 oraz losowe A rozmiaru 1000x1000, policz b=A*x.\n",
    "Nastepnie rozwiąż równanie Ax=b trzema metodami:\n",
    "- inv()\n",
    "- \\\n",
    "- factorize()\n",
    "\n",
    "Porównaj jakość wyniku (zmierzoną jako długość różnicy wektorów wyniku oraz referencyjnego x) oraz czas wykonania (@time). UWAGA: pierwsze wykonanie funkcji w Julii zawiera czas kompilacji tej funkcji, dlatego czas mierzymy  od drugiego wywołania !\n",
    "\n",
    "#### Zadanie 2 (1pkt)\n",
    "Policz współczynniki wielomianu aproksymującego dowolne dane z poprzednich laboratoriów tworząc wprost układ równań i rozwiązujac go (metoda z użyciem faktoryzacji QR zaprezentowana na tym laboratorium).\n",
    "Porównaj wyniki z tymi otrzymanymi poprzednio.\n",
    "\n",
    "#### Zadanie 3 (2 pkt)\n",
    "\n",
    "Znajdź i zaprezentuj działanie innego zastosowania wybranej faktoryzacji. Przykładowe (ale nie jedyne!) tematy:\n",
    "\n",
    "-    tworzenie pseudoinversji macierzy (http://buzzard.ups.edu/courses/2014spring/420projects/math420-UPS-spring-2014-macausland-pseudo-inverse-present.pdf).\n",
    "\n",
    "-   uzycie faktoryzacji QR do znajdowania wartości własnych (https://en.wikipedia.org/wiki/QR_algorithm)\n",
    "\n",
    "-  zastosowanie faktoryzacji SVD - przykład zastosowania w uczeniu maszynowym https://blog.statsbot.co/singular-value-decomposition-tutorial-52c695315254\n",
    "\n",
    "\n"
   ]
  },
  {
   "cell_type": "markdown",
   "metadata": {},
   "source": [
    "#### Zadanie 1"
   ]
  },
  {
   "cell_type": "code",
   "execution_count": 8,
   "metadata": {},
   "outputs": [],
   "source": [
    "using Polynomials\n",
    "using Plots\n",
    "using Statistics\n",
    "using LinearAlgebra"
   ]
  },
  {
   "cell_type": "code",
   "execution_count": 9,
   "metadata": {
    "scrolled": true
   },
   "outputs": [],
   "source": [
    "A = rand(1000, 1000)\n",
    "x = rand(1000)\n",
    "b = A*x;\n",
    "x2 = A \\ b;\n",
    "factorize(A) \\ b;"
   ]
  },
  {
   "cell_type": "code",
   "execution_count": 21,
   "metadata": {},
   "outputs": [
    {
     "name": "stdout",
     "output_type": "stream",
     "text": [
      "0.0704729803"
     ]
    }
   ],
   "source": [
    "means = []\n",
    "for i in 1:10\n",
    "    push!(means, @elapsed  x1 = inv(A) * b)\n",
    "end\n",
    "print(mean(means))"
   ]
  },
  {
   "cell_type": "code",
   "execution_count": 22,
   "metadata": {},
   "outputs": [
    {
     "name": "stdout",
     "output_type": "stream",
     "text": [
      "0.031233490000000003"
     ]
    }
   ],
   "source": [
    "means = []\n",
    "for i in 1:10\n",
    "    push!(means, @elapsed  x2 = A \\ b)\n",
    "end\n",
    "print(mean(means))"
   ]
  },
  {
   "cell_type": "code",
   "execution_count": 23,
   "metadata": {},
   "outputs": [
    {
     "name": "stdout",
     "output_type": "stream",
     "text": [
      "0.0322129898"
     ]
    }
   ],
   "source": [
    "means = []\n",
    "for i in 1:10\n",
    "    push!(means, @elapsed factorize(A) \\ b)\n",
    "end\n",
    "print(mean(means))"
   ]
  },
  {
   "cell_type": "markdown",
   "metadata": {},
   "source": [
    "#### Zadanie 2"
   ]
  },
  {
   "cell_type": "code",
   "execution_count": 184,
   "metadata": {},
   "outputs": [
    {
     "data": {
      "image/svg+xml": [
       "<?xml version=\"1.0\" encoding=\"utf-8\"?>\n",
       "<svg xmlns=\"http://www.w3.org/2000/svg\" xmlns:xlink=\"http://www.w3.org/1999/xlink\" width=\"600\" height=\"400\" viewBox=\"0 0 2400 1600\">\n",
       "<defs>\n",
       "  <clipPath id=\"clip270\">\n",
       "    <rect x=\"0\" y=\"0\" width=\"2400\" height=\"1600\"/>\n",
       "  </clipPath>\n",
       "</defs>\n",
       "<path clip-path=\"url(#clip270)\" d=\"\n",
       "M0 1600 L2400 1600 L2400 0 L0 0  Z\n",
       "  \" fill=\"#ffffff\" fill-rule=\"evenodd\" fill-opacity=\"1\"/>\n",
       "<defs>\n",
       "  <clipPath id=\"clip271\">\n",
       "    <rect x=\"480\" y=\"0\" width=\"1681\" height=\"1600\"/>\n",
       "  </clipPath>\n",
       "</defs>\n",
       "<path clip-path=\"url(#clip270)\" d=\"\n",
       "M148.334 1486.45 L2352.76 1486.45 L2352.76 47.2441 L148.334 47.2441  Z\n",
       "  \" fill=\"#ffffff\" fill-rule=\"evenodd\" fill-opacity=\"1\"/>\n",
       "<defs>\n",
       "  <clipPath id=\"clip272\">\n",
       "    <rect x=\"148\" y=\"47\" width=\"2205\" height=\"1440\"/>\n",
       "  </clipPath>\n",
       "</defs>\n",
       "<polyline clip-path=\"url(#clip272)\" style=\"stroke:#000000; stroke-width:2; stroke-opacity:0.1; fill:none\" points=\"\n",
       "  210.724,1486.45 210.724,47.2441 \n",
       "  \"/>\n",
       "<polyline clip-path=\"url(#clip272)\" style=\"stroke:#000000; stroke-width:2; stroke-opacity:0.1; fill:none\" points=\"\n",
       "  804.907,1486.45 804.907,47.2441 \n",
       "  \"/>\n",
       "<polyline clip-path=\"url(#clip272)\" style=\"stroke:#000000; stroke-width:2; stroke-opacity:0.1; fill:none\" points=\"\n",
       "  1399.09,1486.45 1399.09,47.2441 \n",
       "  \"/>\n",
       "<polyline clip-path=\"url(#clip272)\" style=\"stroke:#000000; stroke-width:2; stroke-opacity:0.1; fill:none\" points=\"\n",
       "  1993.27,1486.45 1993.27,47.2441 \n",
       "  \"/>\n",
       "<polyline clip-path=\"url(#clip270)\" style=\"stroke:#000000; stroke-width:4; stroke-opacity:1; fill:none\" points=\"\n",
       "  148.334,1486.45 2352.76,1486.45 \n",
       "  \"/>\n",
       "<polyline clip-path=\"url(#clip270)\" style=\"stroke:#000000; stroke-width:4; stroke-opacity:1; fill:none\" points=\"\n",
       "  210.724,1486.45 210.724,1469.18 \n",
       "  \"/>\n",
       "<polyline clip-path=\"url(#clip270)\" style=\"stroke:#000000; stroke-width:4; stroke-opacity:1; fill:none\" points=\"\n",
       "  804.907,1486.45 804.907,1469.18 \n",
       "  \"/>\n",
       "<polyline clip-path=\"url(#clip270)\" style=\"stroke:#000000; stroke-width:4; stroke-opacity:1; fill:none\" points=\"\n",
       "  1399.09,1486.45 1399.09,1469.18 \n",
       "  \"/>\n",
       "<polyline clip-path=\"url(#clip270)\" style=\"stroke:#000000; stroke-width:4; stroke-opacity:1; fill:none\" points=\"\n",
       "  1993.27,1486.45 1993.27,1469.18 \n",
       "  \"/>\n",
       "<path clip-path=\"url(#clip270)\" d=\"M 0 0 M210.724 1515.64 Q207.113 1515.64 205.284 1519.2 Q203.478 1522.75 203.478 1529.87 Q203.478 1536.98 205.284 1540.55 Q207.113 1544.09 210.724 1544.09 Q214.358 1544.09 216.163 1540.55 Q217.992 1536.98 217.992 1529.87 Q217.992 1522.75 216.163 1519.2 Q214.358 1515.64 210.724 1515.64 M210.724 1511.93 Q216.534 1511.93 219.589 1516.54 Q222.668 1521.12 222.668 1529.87 Q222.668 1538.6 219.589 1543.21 Q216.534 1547.79 210.724 1547.79 Q204.914 1547.79 201.835 1543.21 Q198.779 1538.6 198.779 1529.87 Q198.779 1521.12 201.835 1516.54 Q204.914 1511.93 210.724 1511.93 Z\" fill=\"#000000\" fill-rule=\"evenodd\" fill-opacity=\"1\" /><path clip-path=\"url(#clip270)\" d=\"M 0 0 M799.56 1543.18 L815.88 1543.18 L815.88 1547.12 L793.935 1547.12 L793.935 1543.18 Q796.597 1540.43 801.181 1535.8 Q805.787 1531.15 806.968 1529.81 Q809.213 1527.28 810.093 1525.55 Q810.995 1523.79 810.995 1522.1 Q810.995 1519.34 809.051 1517.61 Q807.13 1515.87 804.028 1515.87 Q801.829 1515.87 799.375 1516.63 Q796.944 1517.4 794.167 1518.95 L794.167 1514.23 Q796.991 1513.09 799.444 1512.51 Q801.898 1511.93 803.935 1511.93 Q809.305 1511.93 812.5 1514.62 Q815.694 1517.31 815.694 1521.8 Q815.694 1523.93 814.884 1525.85 Q814.097 1527.74 811.991 1530.34 Q811.412 1531.01 808.31 1534.23 Q805.208 1537.42 799.56 1543.18 Z\" fill=\"#000000\" fill-rule=\"evenodd\" fill-opacity=\"1\" /><path clip-path=\"url(#clip270)\" d=\"M 0 0 M1402.1 1516.63 L1390.29 1535.08 L1402.1 1535.08 L1402.1 1516.63 M1400.87 1512.56 L1406.75 1512.56 L1406.75 1535.08 L1411.68 1535.08 L1411.68 1538.97 L1406.75 1538.97 L1406.75 1547.12 L1402.1 1547.12 L1402.1 1538.97 L1386.5 1538.97 L1386.5 1534.46 L1400.87 1512.56 Z\" fill=\"#000000\" fill-rule=\"evenodd\" fill-opacity=\"1\" /><path clip-path=\"url(#clip270)\" d=\"M 0 0 M1993.68 1527.98 Q1990.53 1527.98 1988.68 1530.13 Q1986.85 1532.28 1986.85 1536.03 Q1986.85 1539.76 1988.68 1541.93 Q1990.53 1544.09 1993.68 1544.09 Q1996.83 1544.09 1998.66 1541.93 Q2000.51 1539.76 2000.51 1536.03 Q2000.51 1532.28 1998.66 1530.13 Q1996.83 1527.98 1993.68 1527.98 M2002.96 1513.32 L2002.96 1517.58 Q2001.2 1516.75 1999.4 1516.31 Q1997.62 1515.87 1995.86 1515.87 Q1991.23 1515.87 1988.77 1519 Q1986.34 1522.12 1985.99 1528.44 Q1987.36 1526.43 1989.42 1525.36 Q1991.48 1524.27 1993.96 1524.27 Q1999.17 1524.27 2002.18 1527.44 Q2005.21 1530.59 2005.21 1536.03 Q2005.21 1541.36 2002.06 1544.57 Q1998.91 1547.79 1993.68 1547.79 Q1987.68 1547.79 1984.51 1543.21 Q1981.34 1538.6 1981.34 1529.87 Q1981.34 1521.68 1985.23 1516.82 Q1989.12 1511.93 1995.67 1511.93 Q1997.43 1511.93 1999.21 1512.28 Q2001.02 1512.63 2002.96 1513.32 Z\" fill=\"#000000\" fill-rule=\"evenodd\" fill-opacity=\"1\" /><polyline clip-path=\"url(#clip272)\" style=\"stroke:#000000; stroke-width:2; stroke-opacity:0.1; fill:none\" points=\"\n",
       "  148.334,1222.51 2352.76,1222.51 \n",
       "  \"/>\n",
       "<polyline clip-path=\"url(#clip272)\" style=\"stroke:#000000; stroke-width:2; stroke-opacity:0.1; fill:none\" points=\"\n",
       "  148.334,912.308 2352.76,912.308 \n",
       "  \"/>\n",
       "<polyline clip-path=\"url(#clip272)\" style=\"stroke:#000000; stroke-width:2; stroke-opacity:0.1; fill:none\" points=\"\n",
       "  148.334,602.109 2352.76,602.109 \n",
       "  \"/>\n",
       "<polyline clip-path=\"url(#clip272)\" style=\"stroke:#000000; stroke-width:2; stroke-opacity:0.1; fill:none\" points=\"\n",
       "  148.334,291.91 2352.76,291.91 \n",
       "  \"/>\n",
       "<polyline clip-path=\"url(#clip270)\" style=\"stroke:#000000; stroke-width:4; stroke-opacity:1; fill:none\" points=\"\n",
       "  148.334,1486.45 148.334,47.2441 \n",
       "  \"/>\n",
       "<polyline clip-path=\"url(#clip270)\" style=\"stroke:#000000; stroke-width:4; stroke-opacity:1; fill:none\" points=\"\n",
       "  148.334,1222.51 174.787,1222.51 \n",
       "  \"/>\n",
       "<polyline clip-path=\"url(#clip270)\" style=\"stroke:#000000; stroke-width:4; stroke-opacity:1; fill:none\" points=\"\n",
       "  148.334,912.308 174.787,912.308 \n",
       "  \"/>\n",
       "<polyline clip-path=\"url(#clip270)\" style=\"stroke:#000000; stroke-width:4; stroke-opacity:1; fill:none\" points=\"\n",
       "  148.334,602.109 174.787,602.109 \n",
       "  \"/>\n",
       "<polyline clip-path=\"url(#clip270)\" style=\"stroke:#000000; stroke-width:4; stroke-opacity:1; fill:none\" points=\"\n",
       "  148.334,291.91 174.787,291.91 \n",
       "  \"/>\n",
       "<path clip-path=\"url(#clip270)\" d=\"M 0 0 M65.0198 1208.31 Q61.4087 1208.31 59.58 1211.87 Q57.7745 1215.41 57.7745 1222.54 Q57.7745 1229.65 59.58 1233.21 Q61.4087 1236.75 65.0198 1236.75 Q68.6541 1236.75 70.4596 1233.21 Q72.2883 1229.65 72.2883 1222.54 Q72.2883 1215.41 70.4596 1211.87 Q68.6541 1208.31 65.0198 1208.31 M65.0198 1204.6 Q70.83 1204.6 73.8855 1209.21 Q76.9642 1213.79 76.9642 1222.54 Q76.9642 1231.27 73.8855 1235.87 Q70.83 1240.46 65.0198 1240.46 Q59.2097 1240.46 56.131 1235.87 Q53.0754 1231.27 53.0754 1222.54 Q53.0754 1213.79 56.131 1209.21 Q59.2097 1204.6 65.0198 1204.6 Z\" fill=\"#000000\" fill-rule=\"evenodd\" fill-opacity=\"1\" /><path clip-path=\"url(#clip270)\" d=\"M 0 0 M82.0336 1233.91 L86.9179 1233.91 L86.9179 1239.79 L82.0336 1239.79 L82.0336 1233.91 Z\" fill=\"#000000\" fill-rule=\"evenodd\" fill-opacity=\"1\" /><path clip-path=\"url(#clip270)\" d=\"M 0 0 M96.015 1235.85 L112.334 1235.85 L112.334 1239.79 L90.3901 1239.79 L90.3901 1235.85 Q93.0521 1233.1 97.6354 1228.47 Q102.242 1223.81 103.422 1222.47 Q105.668 1219.95 106.547 1218.21 Q107.45 1216.45 107.45 1214.76 Q107.45 1212.01 105.506 1210.27 Q103.584 1208.54 100.483 1208.54 Q98.2835 1208.54 95.8298 1209.3 Q93.3993 1210.06 90.6215 1211.62 L90.6215 1206.89 Q93.4456 1205.76 95.8993 1205.18 Q98.353 1204.6 100.39 1204.6 Q105.76 1204.6 108.955 1207.29 Q112.149 1209.97 112.149 1214.46 Q112.149 1216.59 111.339 1218.51 Q110.552 1220.41 108.446 1223 Q107.867 1223.68 104.765 1226.89 Q101.663 1230.09 96.015 1235.85 Z\" fill=\"#000000\" fill-rule=\"evenodd\" fill-opacity=\"1\" /><path clip-path=\"url(#clip270)\" d=\"M 0 0 M62.9365 898.107 Q59.3254 898.107 57.4967 901.672 Q55.6912 905.213 55.6912 912.343 Q55.6912 919.449 57.4967 923.014 Q59.3254 926.556 62.9365 926.556 Q66.5707 926.556 68.3763 923.014 Q70.205 919.449 70.205 912.343 Q70.205 905.213 68.3763 901.672 Q66.5707 898.107 62.9365 898.107 M62.9365 894.403 Q68.7467 894.403 71.8022 899.01 Q74.8809 903.593 74.8809 912.343 Q74.8809 921.07 71.8022 925.676 Q68.7467 930.259 62.9365 930.259 Q57.1264 930.259 54.0477 925.676 Q50.9921 921.07 50.9921 912.343 Q50.9921 903.593 54.0477 899.01 Q57.1264 894.403 62.9365 894.403 Z\" fill=\"#000000\" fill-rule=\"evenodd\" fill-opacity=\"1\" /><path clip-path=\"url(#clip270)\" d=\"M 0 0 M79.9503 923.708 L84.8345 923.708 L84.8345 929.588 L79.9503 929.588 L79.9503 923.708 Z\" fill=\"#000000\" fill-rule=\"evenodd\" fill-opacity=\"1\" /><path clip-path=\"url(#clip270)\" d=\"M 0 0 M102.751 899.102 L90.9456 917.551 L102.751 917.551 L102.751 899.102 M101.524 895.028 L107.404 895.028 L107.404 917.551 L112.334 917.551 L112.334 921.44 L107.404 921.44 L107.404 929.588 L102.751 929.588 L102.751 921.44 L87.1493 921.44 L87.1493 916.926 L101.524 895.028 Z\" fill=\"#000000\" fill-rule=\"evenodd\" fill-opacity=\"1\" /><path clip-path=\"url(#clip270)\" d=\"M 0 0 M63.2606 587.908 Q59.6495 587.908 57.8208 591.473 Q56.0152 595.014 56.0152 602.144 Q56.0152 609.25 57.8208 612.815 Q59.6495 616.357 63.2606 616.357 Q66.8948 616.357 68.7004 612.815 Q70.5291 609.25 70.5291 602.144 Q70.5291 595.014 68.7004 591.473 Q66.8948 587.908 63.2606 587.908 M63.2606 584.204 Q69.0707 584.204 72.1263 588.811 Q75.205 593.394 75.205 602.144 Q75.205 610.871 72.1263 615.477 Q69.0707 620.06 63.2606 620.06 Q57.4504 620.06 54.3717 615.477 Q51.3162 610.871 51.3162 602.144 Q51.3162 593.394 54.3717 588.811 Q57.4504 584.204 63.2606 584.204 Z\" fill=\"#000000\" fill-rule=\"evenodd\" fill-opacity=\"1\" /><path clip-path=\"url(#clip270)\" d=\"M 0 0 M80.2744 613.51 L85.1586 613.51 L85.1586 619.389 L80.2744 619.389 L80.2744 613.51 Z\" fill=\"#000000\" fill-rule=\"evenodd\" fill-opacity=\"1\" /><path clip-path=\"url(#clip270)\" d=\"M 0 0 M100.807 600.246 Q97.6585 600.246 95.8067 602.399 Q93.978 604.551 93.978 608.301 Q93.978 612.028 95.8067 614.204 Q97.6585 616.357 100.807 616.357 Q103.955 616.357 105.783 614.204 Q107.635 612.028 107.635 608.301 Q107.635 604.551 105.783 602.399 Q103.955 600.246 100.807 600.246 M110.089 585.593 L110.089 589.852 Q108.33 589.019 106.524 588.579 Q104.742 588.139 102.983 588.139 Q98.353 588.139 95.8993 591.264 Q93.4688 594.389 93.1215 600.709 Q94.4873 598.695 96.5474 597.63 Q98.6076 596.542 101.084 596.542 Q106.293 596.542 109.302 599.713 Q112.334 602.861 112.334 608.301 Q112.334 613.625 109.186 616.843 Q106.038 620.06 100.807 620.06 Q94.8113 620.06 91.6401 615.477 Q88.4688 610.871 88.4688 602.144 Q88.4688 593.949 92.3576 589.088 Q96.2465 584.204 102.797 584.204 Q104.557 584.204 106.339 584.551 Q108.145 584.899 110.089 585.593 Z\" fill=\"#000000\" fill-rule=\"evenodd\" fill-opacity=\"1\" /><path clip-path=\"url(#clip270)\" d=\"M 0 0 M63.5152 277.709 Q59.9041 277.709 58.0754 281.274 Q56.2699 284.815 56.2699 291.945 Q56.2699 299.051 58.0754 302.616 Q59.9041 306.158 63.5152 306.158 Q67.1494 306.158 68.955 302.616 Q70.7837 299.051 70.7837 291.945 Q70.7837 284.815 68.955 281.274 Q67.1494 277.709 63.5152 277.709 M63.5152 274.005 Q69.3254 274.005 72.3809 278.612 Q75.4596 283.195 75.4596 291.945 Q75.4596 300.672 72.3809 305.278 Q69.3254 309.862 63.5152 309.862 Q57.7051 309.862 54.6264 305.278 Q51.5708 300.672 51.5708 291.945 Q51.5708 283.195 54.6264 278.612 Q57.7051 274.005 63.5152 274.005 Z\" fill=\"#000000\" fill-rule=\"evenodd\" fill-opacity=\"1\" /><path clip-path=\"url(#clip270)\" d=\"M 0 0 M80.529 303.311 L85.4132 303.311 L85.4132 309.19 L80.529 309.19 L80.529 303.311 Z\" fill=\"#000000\" fill-rule=\"evenodd\" fill-opacity=\"1\" /><path clip-path=\"url(#clip270)\" d=\"M 0 0 M100.483 292.778 Q97.1493 292.778 95.228 294.561 Q93.3299 296.343 93.3299 299.468 Q93.3299 302.593 95.228 304.375 Q97.1493 306.158 100.483 306.158 Q103.816 306.158 105.737 304.375 Q107.658 302.57 107.658 299.468 Q107.658 296.343 105.737 294.561 Q103.839 292.778 100.483 292.778 M95.8067 290.788 Q92.7975 290.047 91.1077 287.987 Q89.441 285.927 89.441 282.964 Q89.441 278.82 92.3808 276.413 Q95.3437 274.005 100.483 274.005 Q105.645 274.005 108.584 276.413 Q111.524 278.82 111.524 282.964 Q111.524 285.927 109.834 287.987 Q108.168 290.047 105.182 290.788 Q108.561 291.575 110.436 293.866 Q112.334 296.158 112.334 299.468 Q112.334 304.491 109.256 307.176 Q106.2 309.862 100.483 309.862 Q94.765 309.862 91.6864 307.176 Q88.6308 304.491 88.6308 299.468 Q88.6308 296.158 90.529 293.866 Q92.4271 291.575 95.8067 290.788 M94.0937 283.403 Q94.0937 286.089 95.7604 287.593 Q97.4502 289.098 100.483 289.098 Q103.492 289.098 105.182 287.593 Q106.895 286.089 106.895 283.403 Q106.895 280.718 105.182 279.214 Q103.492 277.709 100.483 277.709 Q97.4502 277.709 95.7604 279.214 Q94.0937 280.718 94.0937 283.403 Z\" fill=\"#000000\" fill-rule=\"evenodd\" fill-opacity=\"1\" /><polyline clip-path=\"url(#clip272)\" style=\"stroke:#009af9; stroke-width:4; stroke-opacity:1; fill:none\" points=\"\n",
       "  210.724,465.514 231.52,465.89 252.317,467.09 273.113,469.089 293.909,471.86 314.706,475.378 335.502,479.615 356.299,484.546 377.095,490.145 397.892,496.386 \n",
       "  418.688,503.242 439.484,510.688 460.281,518.697 481.077,527.243 501.874,536.3 522.67,545.842 543.467,555.842 564.263,566.275 585.059,577.115 605.856,588.335 \n",
       "  626.652,599.909 647.449,611.811 668.245,624.016 689.042,636.496 709.838,649.225 730.634,662.179 751.431,675.329 772.227,688.651 793.024,702.118 813.82,715.704 \n",
       "  834.617,729.383 855.413,743.129 876.209,756.915 897.006,770.716 917.802,784.505 938.599,798.257 959.395,811.944 980.192,825.542 1000.99,839.023 1021.78,852.362 \n",
       "  1042.58,865.533 1063.38,878.509 1084.17,891.265 1104.97,903.773 1125.77,916.009 1146.56,927.946 1167.36,939.557 1188.16,950.817 1208.95,961.7 1229.75,972.179 \n",
       "  1250.55,982.228 1271.34,991.821 1292.14,1000.93 1312.93,1009.54 1333.73,1017.6 1354.53,1025.11 1375.32,1032.04 1396.12,1038.35 1416.92,1044.02 1437.71,1049.02 \n",
       "  1458.51,1053.34 1479.31,1056.93 1500.1,1059.79 1520.9,1061.87 1541.7,1063.16 1562.49,1063.63 1583.29,1063.25 1604.08,1061.99 1624.88,1059.84 1645.68,1056.76 \n",
       "  1666.47,1052.73 1687.27,1047.72 1708.07,1041.7 1728.86,1034.65 1749.66,1026.55 1770.46,1017.36 1791.25,1007.07 1812.05,995.636 1832.85,983.043 1853.64,969.263 \n",
       "  1874.44,954.269 1895.23,938.036 1916.03,920.537 1936.83,901.745 1957.62,881.635 1978.42,860.181 1999.22,837.357 2020.01,813.136 2040.81,787.492 2061.61,760.4 \n",
       "  2082.4,731.832 2103.2,701.763 2124,670.167 2144.79,637.018 2165.59,602.289 2186.38,565.955 2207.18,527.989 2227.98,488.365 2248.77,447.056 2269.57,404.038 \n",
       "  2290.37,359.284 \n",
       "  \"/>\n",
       "<circle clip-path=\"url(#clip272)\" cx=\"210.724\" cy=\"659.879\" r=\"14\" fill=\"#e26f46\" fill-rule=\"evenodd\" fill-opacity=\"1\" stroke=\"#000000\" stroke-opacity=\"1\" stroke-width=\"3.2\"/>\n",
       "<circle clip-path=\"url(#clip272)\" cx=\"507.816\" cy=\"87.9763\" r=\"14\" fill=\"#e26f46\" fill-rule=\"evenodd\" fill-opacity=\"1\" stroke=\"#000000\" stroke-opacity=\"1\" stroke-width=\"3.2\"/>\n",
       "<circle clip-path=\"url(#clip272)\" cx=\"804.907\" cy=\"743.583\" r=\"14\" fill=\"#e26f46\" fill-rule=\"evenodd\" fill-opacity=\"1\" stroke=\"#000000\" stroke-opacity=\"1\" stroke-width=\"3.2\"/>\n",
       "<circle clip-path=\"url(#clip272)\" cx=\"1102\" cy=\"1445.72\" r=\"14\" fill=\"#e26f46\" fill-rule=\"evenodd\" fill-opacity=\"1\" stroke=\"#000000\" stroke-opacity=\"1\" stroke-width=\"3.2\"/>\n",
       "<circle clip-path=\"url(#clip272)\" cx=\"1399.09\" cy=\"744.431\" r=\"14\" fill=\"#e26f46\" fill-rule=\"evenodd\" fill-opacity=\"1\" stroke=\"#000000\" stroke-opacity=\"1\" stroke-width=\"3.2\"/>\n",
       "<circle clip-path=\"url(#clip272)\" cx=\"1696.18\" cy=\"1013.47\" r=\"14\" fill=\"#e26f46\" fill-rule=\"evenodd\" fill-opacity=\"1\" stroke=\"#000000\" stroke-opacity=\"1\" stroke-width=\"3.2\"/>\n",
       "<circle clip-path=\"url(#clip272)\" cx=\"1993.27\" cy=\"793.914\" r=\"14\" fill=\"#e26f46\" fill-rule=\"evenodd\" fill-opacity=\"1\" stroke=\"#000000\" stroke-opacity=\"1\" stroke-width=\"3.2\"/>\n",
       "<circle clip-path=\"url(#clip272)\" cx=\"2290.37\" cy=\"415.151\" r=\"14\" fill=\"#e26f46\" fill-rule=\"evenodd\" fill-opacity=\"1\" stroke=\"#000000\" stroke-opacity=\"1\" stroke-width=\"3.2\"/>\n",
       "<path clip-path=\"url(#clip270)\" d=\"\n",
       "M1227.93 276.658 L2279.28 276.658 L2279.28 95.2176 L1227.93 95.2176  Z\n",
       "  \" fill=\"#ffffff\" fill-rule=\"evenodd\" fill-opacity=\"1\"/>\n",
       "<polyline clip-path=\"url(#clip270)\" style=\"stroke:#000000; stroke-width:4; stroke-opacity:1; fill:none\" points=\"\n",
       "  1227.93,276.658 2279.28,276.658 2279.28,95.2176 1227.93,95.2176 1227.93,276.658 \n",
       "  \"/>\n",
       "<polyline clip-path=\"url(#clip270)\" style=\"stroke:#009af9; stroke-width:4; stroke-opacity:1; fill:none\" points=\"\n",
       "  1252.43,155.698 1399.39,155.698 \n",
       "  \"/>\n",
       "<path clip-path=\"url(#clip270)\" d=\"M 0 0 M1439.71 143.024 L1433.37 160.223 L1446.08 160.223 L1439.71 143.024 M1437.07 138.418 L1442.38 138.418 L1455.55 172.978 L1450.69 172.978 L1447.54 164.112 L1431.96 164.112 L1428.81 172.978 L1423.88 172.978 L1437.07 138.418 Z\" fill=\"#000000\" fill-rule=\"evenodd\" fill-opacity=\"1\" /><path clip-path=\"url(#clip270)\" d=\"M 0 0 M1464.13 169.089 L1464.13 182.839 L1459.85 182.839 L1459.85 147.052 L1464.13 147.052 L1464.13 150.987 Q1465.48 148.672 1467.51 147.561 Q1469.57 146.427 1472.42 146.427 Q1477.14 146.427 1480.08 150.177 Q1483.05 153.927 1483.05 160.038 Q1483.05 166.149 1480.08 169.899 Q1477.14 173.649 1472.42 173.649 Q1469.57 173.649 1467.51 172.538 Q1465.48 171.403 1464.13 169.089 M1478.63 160.038 Q1478.63 155.339 1476.68 152.677 Q1474.76 149.992 1471.38 149.992 Q1468 149.992 1466.06 152.677 Q1464.13 155.339 1464.13 160.038 Q1464.13 164.737 1466.06 167.422 Q1468 170.084 1471.38 170.084 Q1474.76 170.084 1476.68 167.422 Q1478.63 164.737 1478.63 160.038 Z\" fill=\"#000000\" fill-rule=\"evenodd\" fill-opacity=\"1\" /><path clip-path=\"url(#clip270)\" d=\"M 0 0 M1502.54 151.033 Q1501.82 150.617 1500.96 150.431 Q1500.13 150.223 1499.11 150.223 Q1495.5 150.223 1493.56 152.584 Q1491.63 154.922 1491.63 159.32 L1491.63 172.978 L1487.35 172.978 L1487.35 147.052 L1491.63 147.052 L1491.63 151.08 Q1492.98 148.718 1495.13 147.584 Q1497.28 146.427 1500.36 146.427 Q1500.8 146.427 1501.33 146.496 Q1501.87 146.543 1502.51 146.658 L1502.54 151.033 Z\" fill=\"#000000\" fill-rule=\"evenodd\" fill-opacity=\"1\" /><path clip-path=\"url(#clip270)\" d=\"M 0 0 M1516.01 150.038 Q1512.58 150.038 1510.59 152.723 Q1508.6 155.385 1508.6 160.038 Q1508.6 164.691 1510.57 167.376 Q1512.56 170.038 1516.01 170.038 Q1519.41 170.038 1521.4 167.353 Q1523.39 164.667 1523.39 160.038 Q1523.39 155.431 1521.4 152.746 Q1519.41 150.038 1516.01 150.038 M1516.01 146.427 Q1521.56 146.427 1524.74 150.038 Q1527.91 153.649 1527.91 160.038 Q1527.91 166.404 1524.74 170.038 Q1521.56 173.649 1516.01 173.649 Q1510.43 173.649 1507.26 170.038 Q1504.11 166.404 1504.11 160.038 Q1504.11 153.649 1507.26 150.038 Q1510.43 146.427 1516.01 146.427 Z\" fill=\"#000000\" fill-rule=\"evenodd\" fill-opacity=\"1\" /><path clip-path=\"url(#clip270)\" d=\"M 0 0 M1532.21 136.959 L1536.5 136.959 L1536.5 158.232 L1549.2 147.052 L1554.64 147.052 L1540.89 159.181 L1555.22 172.978 L1549.67 172.978 L1536.5 160.316 L1536.5 172.978 L1532.21 172.978 L1532.21 136.959 Z\" fill=\"#000000\" fill-rule=\"evenodd\" fill-opacity=\"1\" /><path clip-path=\"url(#clip270)\" d=\"M 0 0 M1576.22 147.816 L1576.22 151.843 Q1574.41 150.917 1572.47 150.455 Q1570.52 149.992 1568.44 149.992 Q1565.27 149.992 1563.67 150.964 Q1562.1 151.936 1562.1 153.88 Q1562.1 155.362 1563.23 156.218 Q1564.37 157.052 1567.79 157.816 L1569.25 158.14 Q1573.79 159.112 1575.69 160.894 Q1577.61 162.654 1577.61 165.825 Q1577.61 169.436 1574.74 171.542 Q1571.89 173.649 1566.89 173.649 Q1564.81 173.649 1562.54 173.232 Q1560.29 172.839 1557.79 172.028 L1557.79 167.63 Q1560.15 168.857 1562.44 169.482 Q1564.74 170.084 1566.98 170.084 Q1569.99 170.084 1571.61 169.066 Q1573.23 168.024 1573.23 166.149 Q1573.23 164.413 1572.05 163.487 Q1570.89 162.561 1566.94 161.704 L1565.45 161.357 Q1561.5 160.524 1559.74 158.811 Q1557.98 157.075 1557.98 154.066 Q1557.98 150.408 1560.57 148.418 Q1563.16 146.427 1567.93 146.427 Q1570.29 146.427 1572.37 146.774 Q1574.46 147.121 1576.22 147.816 Z\" fill=\"#000000\" fill-rule=\"evenodd\" fill-opacity=\"1\" /><path clip-path=\"url(#clip270)\" d=\"M 0 0 M1592.86 175.385 Q1591.06 180.015 1589.34 181.427 Q1587.63 182.839 1584.76 182.839 L1581.36 182.839 L1581.36 179.274 L1583.86 179.274 Q1585.62 179.274 1586.59 178.44 Q1587.56 177.607 1588.74 174.505 L1589.5 172.561 L1579.02 147.052 L1583.53 147.052 L1591.63 167.329 L1599.74 147.052 L1604.25 147.052 L1592.86 175.385 Z\" fill=\"#000000\" fill-rule=\"evenodd\" fill-opacity=\"1\" /><path clip-path=\"url(#clip270)\" d=\"M 0 0 M1628.9 152.029 Q1630.5 149.158 1632.72 147.793 Q1634.94 146.427 1637.95 146.427 Q1642 146.427 1644.2 149.274 Q1646.4 152.098 1646.4 157.329 L1646.4 172.978 L1642.12 172.978 L1642.12 157.468 Q1642.12 153.742 1640.8 151.936 Q1639.48 150.13 1636.77 150.13 Q1633.46 150.13 1631.54 152.33 Q1629.62 154.529 1629.62 158.325 L1629.62 172.978 L1625.34 172.978 L1625.34 157.468 Q1625.34 153.718 1624.02 151.936 Q1622.7 150.13 1619.94 150.13 Q1616.68 150.13 1614.76 152.353 Q1612.84 154.552 1612.84 158.325 L1612.84 172.978 L1608.56 172.978 L1608.56 147.052 L1612.84 147.052 L1612.84 151.08 Q1614.3 148.695 1616.33 147.561 Q1618.37 146.427 1621.17 146.427 Q1623.99 146.427 1625.96 147.862 Q1627.95 149.297 1628.9 152.029 Z\" fill=\"#000000\" fill-rule=\"evenodd\" fill-opacity=\"1\" /><path clip-path=\"url(#clip270)\" d=\"M 0 0 M1662.65 159.945 Q1657.49 159.945 1655.5 161.126 Q1653.51 162.306 1653.51 165.154 Q1653.51 167.422 1654.99 168.765 Q1656.49 170.084 1659.06 170.084 Q1662.61 170.084 1664.74 167.584 Q1666.89 165.061 1666.89 160.894 L1666.89 159.945 L1662.65 159.945 M1671.15 158.186 L1671.15 172.978 L1666.89 172.978 L1666.89 169.042 Q1665.43 171.403 1663.25 172.538 Q1661.08 173.649 1657.93 173.649 Q1653.95 173.649 1651.59 171.427 Q1649.25 169.181 1649.25 165.431 Q1649.25 161.056 1652.17 158.834 Q1655.11 156.612 1660.92 156.612 L1666.89 156.612 L1666.89 156.195 Q1666.89 153.255 1664.94 151.658 Q1663.02 150.038 1659.53 150.038 Q1657.31 150.038 1655.2 150.57 Q1653.09 151.103 1651.15 152.167 L1651.15 148.232 Q1653.49 147.33 1655.68 146.89 Q1657.88 146.427 1659.97 146.427 Q1665.59 146.427 1668.37 149.343 Q1671.15 152.26 1671.15 158.186 Z\" fill=\"#000000\" fill-rule=\"evenodd\" fill-opacity=\"1\" /><path clip-path=\"url(#clip270)\" d=\"M 0 0 M1694.27 148.047 L1694.27 152.029 Q1692.47 151.033 1690.64 150.547 Q1688.83 150.038 1686.98 150.038 Q1682.84 150.038 1680.55 152.677 Q1678.25 155.292 1678.25 160.038 Q1678.25 164.783 1680.55 167.422 Q1682.84 170.038 1686.98 170.038 Q1688.83 170.038 1690.64 169.552 Q1692.47 169.042 1694.27 168.047 L1694.27 171.982 Q1692.49 172.816 1690.57 173.232 Q1688.67 173.649 1686.52 173.649 Q1680.66 173.649 1677.21 169.968 Q1673.76 166.288 1673.76 160.038 Q1673.76 153.695 1677.24 150.061 Q1680.73 146.427 1686.8 146.427 Q1688.76 146.427 1690.64 146.843 Q1692.51 147.237 1694.27 148.047 Z\" fill=\"#000000\" fill-rule=\"evenodd\" fill-opacity=\"1\" /><path clip-path=\"url(#clip270)\" d=\"M 0 0 M1698.74 147.052 L1703 147.052 L1703 173.441 Q1703 178.394 1701.1 180.616 Q1699.23 182.839 1695.04 182.839 L1693.42 182.839 L1693.42 179.228 L1694.55 179.228 Q1696.98 179.228 1697.86 178.093 Q1698.74 176.982 1698.74 173.441 L1698.74 147.052 M1698.74 136.959 L1703 136.959 L1703 142.353 L1698.74 142.353 L1698.74 136.959 Z\" fill=\"#000000\" fill-rule=\"evenodd\" fill-opacity=\"1\" /><path clip-path=\"url(#clip270)\" d=\"M 0 0 M1719.25 159.945 Q1714.09 159.945 1712.1 161.126 Q1710.11 162.306 1710.11 165.154 Q1710.11 167.422 1711.59 168.765 Q1713.09 170.084 1715.66 170.084 Q1719.2 170.084 1721.33 167.584 Q1723.49 165.061 1723.49 160.894 L1723.49 159.945 L1719.25 159.945 M1727.74 158.186 L1727.74 172.978 L1723.49 172.978 L1723.49 169.042 Q1722.03 171.403 1719.85 172.538 Q1717.68 173.649 1714.53 173.649 Q1710.55 173.649 1708.18 171.427 Q1705.85 169.181 1705.85 165.431 Q1705.85 161.056 1708.76 158.834 Q1711.7 156.612 1717.51 156.612 L1723.49 156.612 L1723.49 156.195 Q1723.49 153.255 1721.54 151.658 Q1719.62 150.038 1716.12 150.038 Q1713.9 150.038 1711.8 150.57 Q1709.69 151.103 1707.74 152.167 L1707.74 148.232 Q1710.08 147.33 1712.28 146.89 Q1714.48 146.427 1716.56 146.427 Q1722.19 146.427 1724.97 149.343 Q1727.74 152.26 1727.74 158.186 Z\" fill=\"#000000\" fill-rule=\"evenodd\" fill-opacity=\"1\" /><path clip-path=\"url(#clip270)\" d=\"M 0 0 M1744.8 147.052 L1749.06 147.052 L1754.39 167.283 L1759.69 147.052 L1764.71 147.052 L1770.04 167.283 L1775.34 147.052 L1779.6 147.052 L1772.81 172.978 L1767.79 172.978 L1762.21 151.728 L1756.61 172.978 L1751.59 172.978 L1744.8 147.052 Z\" fill=\"#000000\" fill-rule=\"evenodd\" fill-opacity=\"1\" /><path clip-path=\"url(#clip270)\" d=\"M 0 0 M1784.06 147.052 L1788.32 147.052 L1788.32 172.978 L1784.06 172.978 L1784.06 147.052 M1784.06 136.959 L1788.32 136.959 L1788.32 142.353 L1784.06 142.353 L1784.06 136.959 Z\" fill=\"#000000\" fill-rule=\"evenodd\" fill-opacity=\"1\" /><path clip-path=\"url(#clip270)\" d=\"M 0 0 M1814.97 158.95 L1814.97 161.033 L1795.38 161.033 Q1795.66 165.431 1798.02 167.746 Q1800.41 170.038 1804.64 170.038 Q1807.1 170.038 1809.39 169.436 Q1811.7 168.834 1813.97 167.63 L1813.97 171.658 Q1811.68 172.63 1809.27 173.14 Q1806.86 173.649 1804.39 173.649 Q1798.18 173.649 1794.55 170.038 Q1790.94 166.427 1790.94 160.269 Q1790.94 153.904 1794.36 150.177 Q1797.81 146.427 1803.65 146.427 Q1808.88 146.427 1811.91 149.806 Q1814.97 153.163 1814.97 158.95 M1810.71 157.7 Q1810.66 154.205 1808.74 152.121 Q1806.84 150.038 1803.69 150.038 Q1800.13 150.038 1797.98 152.052 Q1795.85 154.066 1795.52 157.723 L1810.71 157.7 Z\" fill=\"#000000\" fill-rule=\"evenodd\" fill-opacity=\"1\" /><path clip-path=\"url(#clip270)\" d=\"M 0 0 M1819.43 136.959 L1823.69 136.959 L1823.69 172.978 L1819.43 172.978 L1819.43 136.959 Z\" fill=\"#000000\" fill-rule=\"evenodd\" fill-opacity=\"1\" /><path clip-path=\"url(#clip270)\" d=\"M 0 0 M1838.21 150.038 Q1834.78 150.038 1832.79 152.723 Q1830.8 155.385 1830.8 160.038 Q1830.8 164.691 1832.77 167.376 Q1834.76 170.038 1838.21 170.038 Q1841.61 170.038 1843.6 167.353 Q1845.59 164.667 1845.59 160.038 Q1845.59 155.431 1843.6 152.746 Q1841.61 150.038 1838.21 150.038 M1838.21 146.427 Q1843.76 146.427 1846.93 150.038 Q1850.1 153.649 1850.1 160.038 Q1850.1 166.404 1846.93 170.038 Q1843.76 173.649 1838.21 173.649 Q1832.63 173.649 1829.46 170.038 Q1826.31 166.404 1826.31 160.038 Q1826.31 153.649 1829.46 150.038 Q1832.63 146.427 1838.21 146.427 Z\" fill=\"#000000\" fill-rule=\"evenodd\" fill-opacity=\"1\" /><path clip-path=\"url(#clip270)\" d=\"M 0 0 M1874.76 152.029 Q1876.35 149.158 1878.58 147.793 Q1880.8 146.427 1883.81 146.427 Q1887.86 146.427 1890.06 149.274 Q1892.26 152.098 1892.26 157.329 L1892.26 172.978 L1887.98 172.978 L1887.98 157.468 Q1887.98 153.742 1886.66 151.936 Q1885.34 150.13 1882.63 150.13 Q1879.32 150.13 1877.4 152.33 Q1875.48 154.529 1875.48 158.325 L1875.48 172.978 L1871.19 172.978 L1871.19 157.468 Q1871.19 153.718 1869.87 151.936 Q1868.55 150.13 1865.8 150.13 Q1862.54 150.13 1860.61 152.353 Q1858.69 154.552 1858.69 158.325 L1858.69 172.978 L1854.41 172.978 L1854.41 147.052 L1858.69 147.052 L1858.69 151.08 Q1860.15 148.695 1862.19 147.561 Q1864.23 146.427 1867.03 146.427 Q1869.85 146.427 1871.82 147.862 Q1873.81 149.297 1874.76 152.029 Z\" fill=\"#000000\" fill-rule=\"evenodd\" fill-opacity=\"1\" /><path clip-path=\"url(#clip270)\" d=\"M 0 0 M1896.73 147.052 L1900.98 147.052 L1900.98 172.978 L1896.73 172.978 L1896.73 147.052 M1896.73 136.959 L1900.98 136.959 L1900.98 142.353 L1896.73 142.353 L1896.73 136.959 Z\" fill=\"#000000\" fill-rule=\"evenodd\" fill-opacity=\"1\" /><path clip-path=\"url(#clip270)\" d=\"M 0 0 M1917.23 159.945 Q1912.07 159.945 1910.08 161.126 Q1908.09 162.306 1908.09 165.154 Q1908.09 167.422 1909.57 168.765 Q1911.08 170.084 1913.65 170.084 Q1917.19 170.084 1919.32 167.584 Q1921.47 165.061 1921.47 160.894 L1921.47 159.945 L1917.23 159.945 M1925.73 158.186 L1925.73 172.978 L1921.47 172.978 L1921.47 169.042 Q1920.01 171.403 1917.84 172.538 Q1915.66 173.649 1912.51 173.649 Q1908.53 173.649 1906.17 171.427 Q1903.83 169.181 1903.83 165.431 Q1903.83 161.056 1906.75 158.834 Q1909.69 156.612 1915.5 156.612 L1921.47 156.612 L1921.47 156.195 Q1921.47 153.255 1919.53 151.658 Q1917.6 150.038 1914.11 150.038 Q1911.89 150.038 1909.78 150.57 Q1907.67 151.103 1905.73 152.167 L1905.73 148.232 Q1908.07 147.33 1910.27 146.89 Q1912.47 146.427 1914.55 146.427 Q1920.17 146.427 1922.95 149.343 Q1925.73 152.26 1925.73 158.186 Z\" fill=\"#000000\" fill-rule=\"evenodd\" fill-opacity=\"1\" /><path clip-path=\"url(#clip270)\" d=\"M 0 0 M1951.75 157.329 L1951.75 172.978 L1947.49 172.978 L1947.49 157.468 Q1947.49 153.788 1946.05 151.959 Q1944.62 150.13 1941.75 150.13 Q1938.3 150.13 1936.31 152.33 Q1934.32 154.529 1934.32 158.325 L1934.32 172.978 L1930.04 172.978 L1930.04 147.052 L1934.32 147.052 L1934.32 151.08 Q1935.85 148.742 1937.91 147.584 Q1939.99 146.427 1942.7 146.427 Q1947.16 146.427 1949.46 149.205 Q1951.75 151.959 1951.75 157.329 Z\" fill=\"#000000\" fill-rule=\"evenodd\" fill-opacity=\"1\" /><path clip-path=\"url(#clip270)\" d=\"M 0 0 M1978.39 158.95 L1978.39 161.033 L1958.81 161.033 Q1959.09 165.431 1961.45 167.746 Q1963.83 170.038 1968.07 170.038 Q1970.52 170.038 1972.81 169.436 Q1975.13 168.834 1977.4 167.63 L1977.4 171.658 Q1975.1 172.63 1972.7 173.14 Q1970.29 173.649 1967.81 173.649 Q1961.61 173.649 1957.97 170.038 Q1954.36 166.427 1954.36 160.269 Q1954.36 153.904 1957.79 150.177 Q1961.24 146.427 1967.07 146.427 Q1972.3 146.427 1975.34 149.806 Q1978.39 153.163 1978.39 158.95 M1974.13 157.7 Q1974.09 154.205 1972.16 152.121 Q1970.27 150.038 1967.12 150.038 Q1963.55 150.038 1961.4 152.052 Q1959.27 154.066 1958.95 157.723 L1974.13 157.7 Z\" fill=\"#000000\" fill-rule=\"evenodd\" fill-opacity=\"1\" /><path clip-path=\"url(#clip270)\" d=\"M 0 0 M2003.04 152.029 Q2004.64 149.158 2006.86 147.793 Q2009.09 146.427 2012.09 146.427 Q2016.15 146.427 2018.34 149.274 Q2020.54 152.098 2020.54 157.329 L2020.54 172.978 L2016.26 172.978 L2016.26 157.468 Q2016.26 153.742 2014.94 151.936 Q2013.62 150.13 2010.91 150.13 Q2007.6 150.13 2005.68 152.33 Q2003.76 154.529 2003.76 158.325 L2003.76 172.978 L1999.48 172.978 L1999.48 157.468 Q1999.48 153.718 1998.16 151.936 Q1996.84 150.13 1994.09 150.13 Q1990.82 150.13 1988.9 152.353 Q1986.98 154.552 1986.98 158.325 L1986.98 172.978 L1982.7 172.978 L1982.7 147.052 L1986.98 147.052 L1986.98 151.08 Q1988.44 148.695 1990.47 147.561 Q1992.51 146.427 1995.31 146.427 Q1998.14 146.427 2000.1 147.862 Q2002.09 149.297 2003.04 152.029 Z\" fill=\"#000000\" fill-rule=\"evenodd\" fill-opacity=\"1\" /><path clip-path=\"url(#clip270)\" d=\"M 0 0 M2054.85 154.343 Q2058.21 155.061 2060.08 157.329 Q2061.98 159.598 2061.98 162.931 Q2061.98 168.047 2058.46 170.848 Q2054.94 173.649 2048.46 173.649 Q2046.28 173.649 2043.97 173.209 Q2041.68 172.792 2039.22 171.936 L2039.22 167.422 Q2041.17 168.556 2043.48 169.135 Q2045.8 169.714 2048.32 169.714 Q2052.72 169.714 2055.01 167.978 Q2057.33 166.241 2057.33 162.931 Q2057.33 159.876 2055.17 158.163 Q2053.04 156.427 2049.22 156.427 L2045.2 156.427 L2045.2 152.584 L2049.41 152.584 Q2052.86 152.584 2054.69 151.218 Q2056.52 149.83 2056.52 147.237 Q2056.52 144.575 2054.62 143.163 Q2052.74 141.728 2049.22 141.728 Q2047.3 141.728 2045.1 142.144 Q2042.9 142.561 2040.27 143.441 L2040.27 139.274 Q2042.93 138.533 2045.24 138.163 Q2047.58 137.793 2049.64 137.793 Q2054.96 137.793 2058.07 140.223 Q2061.17 142.63 2061.17 146.751 Q2061.17 149.621 2059.53 151.612 Q2057.88 153.58 2054.85 154.343 Z\" fill=\"#000000\" fill-rule=\"evenodd\" fill-opacity=\"1\" /><path clip-path=\"url(#clip270)\" d=\"M 0 0 M2098.04 147.816 L2098.04 151.843 Q2096.24 150.917 2094.29 150.455 Q2092.35 149.992 2090.27 149.992 Q2087.09 149.992 2085.5 150.964 Q2083.92 151.936 2083.92 153.88 Q2083.92 155.362 2085.06 156.218 Q2086.19 157.052 2089.62 157.816 L2091.08 158.14 Q2095.61 159.112 2097.51 160.894 Q2099.43 162.654 2099.43 165.825 Q2099.43 169.436 2096.56 171.542 Q2093.71 173.649 2088.71 173.649 Q2086.63 173.649 2084.36 173.232 Q2082.12 172.839 2079.62 172.028 L2079.62 167.63 Q2081.98 168.857 2084.27 169.482 Q2086.56 170.084 2088.81 170.084 Q2091.82 170.084 2093.44 169.066 Q2095.06 168.024 2095.06 166.149 Q2095.06 164.413 2093.88 163.487 Q2092.72 162.561 2088.76 161.704 L2087.28 161.357 Q2083.32 160.524 2081.56 158.811 Q2079.8 157.075 2079.8 154.066 Q2079.8 150.408 2082.4 148.418 Q2084.99 146.427 2089.76 146.427 Q2092.12 146.427 2094.2 146.774 Q2096.28 147.121 2098.04 147.816 Z\" fill=\"#000000\" fill-rule=\"evenodd\" fill-opacity=\"1\" /><path clip-path=\"url(#clip270)\" d=\"M 0 0 M2108.11 139.691 L2108.11 147.052 L2116.89 147.052 L2116.89 150.362 L2108.11 150.362 L2108.11 164.436 Q2108.11 167.607 2108.97 168.51 Q2109.85 169.413 2112.51 169.413 L2116.89 169.413 L2116.89 172.978 L2112.51 172.978 Q2107.58 172.978 2105.71 171.149 Q2103.83 169.297 2103.83 164.436 L2103.83 150.362 L2100.71 150.362 L2100.71 147.052 L2103.83 147.052 L2103.83 139.691 L2108.11 139.691 Z\" fill=\"#000000\" fill-rule=\"evenodd\" fill-opacity=\"1\" /><path clip-path=\"url(#clip270)\" d=\"M 0 0 M2131.4 150.038 Q2127.97 150.038 2125.98 152.723 Q2123.99 155.385 2123.99 160.038 Q2123.99 164.691 2125.96 167.376 Q2127.95 170.038 2131.4 170.038 Q2134.8 170.038 2136.79 167.353 Q2138.78 164.667 2138.78 160.038 Q2138.78 155.431 2136.79 152.746 Q2134.8 150.038 2131.4 150.038 M2131.4 146.427 Q2136.96 146.427 2140.13 150.038 Q2143.3 153.649 2143.3 160.038 Q2143.3 166.404 2140.13 170.038 Q2136.96 173.649 2131.4 173.649 Q2125.82 173.649 2122.65 170.038 Q2119.5 166.404 2119.5 160.038 Q2119.5 153.649 2122.65 150.038 Q2125.82 146.427 2131.4 146.427 Z\" fill=\"#000000\" fill-rule=\"evenodd\" fill-opacity=\"1\" /><path clip-path=\"url(#clip270)\" d=\"M 0 0 M2151.89 169.089 L2151.89 182.839 L2147.6 182.839 L2147.6 147.052 L2151.89 147.052 L2151.89 150.987 Q2153.23 148.672 2155.27 147.561 Q2157.33 146.427 2160.17 146.427 Q2164.89 146.427 2167.83 150.177 Q2170.8 153.927 2170.8 160.038 Q2170.8 166.149 2167.83 169.899 Q2164.89 173.649 2160.17 173.649 Q2157.33 173.649 2155.27 172.538 Q2153.23 171.403 2151.89 169.089 M2166.38 160.038 Q2166.38 155.339 2164.43 152.677 Q2162.51 149.992 2159.13 149.992 Q2155.75 149.992 2153.81 152.677 Q2151.89 155.339 2151.89 160.038 Q2151.89 164.737 2153.81 167.422 Q2155.75 170.084 2159.13 170.084 Q2162.51 170.084 2164.43 167.422 Q2166.38 164.737 2166.38 160.038 Z\" fill=\"#000000\" fill-rule=\"evenodd\" fill-opacity=\"1\" /><path clip-path=\"url(#clip270)\" d=\"M 0 0 M2196.82 157.329 L2196.82 172.978 L2192.56 172.978 L2192.56 157.468 Q2192.56 153.788 2191.12 151.959 Q2189.69 150.13 2186.82 150.13 Q2183.37 150.13 2181.38 152.33 Q2179.39 154.529 2179.39 158.325 L2179.39 172.978 L2175.1 172.978 L2175.1 147.052 L2179.39 147.052 L2179.39 151.08 Q2180.91 148.742 2182.97 147.584 Q2185.06 146.427 2187.77 146.427 Q2192.23 146.427 2194.52 149.205 Q2196.82 151.959 2196.82 157.329 Z\" fill=\"#000000\" fill-rule=\"evenodd\" fill-opacity=\"1\" /><path clip-path=\"url(#clip270)\" d=\"M 0 0 M2201.28 147.052 L2205.54 147.052 L2205.54 172.978 L2201.28 172.978 L2201.28 147.052 M2201.28 136.959 L2205.54 136.959 L2205.54 142.353 L2201.28 142.353 L2201.28 136.959 Z\" fill=\"#000000\" fill-rule=\"evenodd\" fill-opacity=\"1\" /><path clip-path=\"url(#clip270)\" d=\"M 0 0 M2221.79 159.945 Q2216.63 159.945 2214.64 161.126 Q2212.65 162.306 2212.65 165.154 Q2212.65 167.422 2214.13 168.765 Q2215.64 170.084 2218.2 170.084 Q2221.75 170.084 2223.88 167.584 Q2226.03 165.061 2226.03 160.894 L2226.03 159.945 L2221.79 159.945 M2230.29 158.186 L2230.29 172.978 L2226.03 172.978 L2226.03 169.042 Q2224.57 171.403 2222.39 172.538 Q2220.22 173.649 2217.07 173.649 Q2213.09 173.649 2210.73 171.427 Q2208.39 169.181 2208.39 165.431 Q2208.39 161.056 2211.31 158.834 Q2214.25 156.612 2220.06 156.612 L2226.03 156.612 L2226.03 156.195 Q2226.03 153.255 2224.08 151.658 Q2222.16 150.038 2218.67 150.038 Q2216.45 150.038 2214.34 150.57 Q2212.23 151.103 2210.29 152.167 L2210.29 148.232 Q2212.63 147.33 2214.83 146.89 Q2217.02 146.427 2219.11 146.427 Q2224.73 146.427 2227.51 149.343 Q2230.29 152.26 2230.29 158.186 Z\" fill=\"#000000\" fill-rule=\"evenodd\" fill-opacity=\"1\" /><circle clip-path=\"url(#clip270)\" cx=\"1325.91\" cy=\"216.178\" r=\"23\" fill=\"#e26f46\" fill-rule=\"evenodd\" fill-opacity=\"1\" stroke=\"#000000\" stroke-opacity=\"1\" stroke-width=\"5.12\"/>\n",
       "<path clip-path=\"url(#clip270)\" d=\"M 0 0 M1428.56 202.74 L1428.56 229.615 L1434.2 229.615 Q1441.36 229.615 1444.67 226.374 Q1448 223.134 1448 216.143 Q1448 209.198 1444.67 205.981 Q1441.36 202.74 1434.2 202.74 L1428.56 202.74 M1423.88 198.898 L1433.49 198.898 Q1443.53 198.898 1448.23 203.087 Q1452.93 207.254 1452.93 216.143 Q1452.93 225.078 1448.21 229.268 Q1443.49 233.458 1433.49 233.458 L1423.88 233.458 L1423.88 198.898 Z\" fill=\"#000000\" fill-rule=\"evenodd\" fill-opacity=\"1\" /><path clip-path=\"url(#clip270)\" d=\"M 0 0 M1469.18 220.425 Q1464.02 220.425 1462.03 221.606 Q1460.04 222.786 1460.04 225.634 Q1460.04 227.902 1461.52 229.245 Q1463.02 230.564 1465.59 230.564 Q1469.13 230.564 1471.26 228.064 Q1473.42 225.541 1473.42 221.374 L1473.42 220.425 L1469.18 220.425 M1477.68 218.666 L1477.68 233.458 L1473.42 233.458 L1473.42 229.522 Q1471.96 231.883 1469.78 233.018 Q1467.61 234.129 1464.46 234.129 Q1460.48 234.129 1458.12 231.907 Q1455.78 229.661 1455.78 225.911 Q1455.78 221.536 1458.69 219.314 Q1461.63 217.092 1467.44 217.092 L1473.42 217.092 L1473.42 216.675 Q1473.42 213.735 1471.47 212.138 Q1469.55 210.518 1466.06 210.518 Q1463.83 210.518 1461.73 211.05 Q1459.62 211.583 1457.68 212.647 L1457.68 208.712 Q1460.01 207.81 1462.21 207.37 Q1464.41 206.907 1466.5 206.907 Q1472.12 206.907 1474.9 209.823 Q1477.68 212.74 1477.68 218.666 Z\" fill=\"#000000\" fill-rule=\"evenodd\" fill-opacity=\"1\" /><path clip-path=\"url(#clip270)\" d=\"M 0 0 M1503.69 217.809 L1503.69 233.458 L1499.44 233.458 L1499.44 217.948 Q1499.44 214.268 1498 212.439 Q1496.57 210.61 1493.69 210.61 Q1490.25 210.61 1488.25 212.81 Q1486.26 215.009 1486.26 218.805 L1486.26 233.458 L1481.98 233.458 L1481.98 207.532 L1486.26 207.532 L1486.26 211.56 Q1487.79 209.222 1489.85 208.064 Q1491.94 206.907 1494.64 206.907 Q1499.11 206.907 1501.4 209.685 Q1503.69 212.439 1503.69 217.809 Z\" fill=\"#000000\" fill-rule=\"evenodd\" fill-opacity=\"1\" /><path clip-path=\"url(#clip270)\" d=\"M 0 0 M1530.34 219.43 L1530.34 221.513 L1510.75 221.513 Q1511.03 225.911 1513.39 228.226 Q1515.78 230.518 1520.01 230.518 Q1522.47 230.518 1524.76 229.916 Q1527.07 229.314 1529.34 228.11 L1529.34 232.138 Q1527.05 233.11 1524.64 233.62 Q1522.24 234.129 1519.76 234.129 Q1513.56 234.129 1509.92 230.518 Q1506.31 226.907 1506.31 220.749 Q1506.31 214.384 1509.74 210.657 Q1513.19 206.907 1519.02 206.907 Q1524.25 206.907 1527.28 210.286 Q1530.34 213.643 1530.34 219.43 M1526.08 218.18 Q1526.03 214.685 1524.11 212.601 Q1522.21 210.518 1519.07 210.518 Q1515.5 210.518 1513.35 212.532 Q1511.22 214.546 1510.89 218.203 L1526.08 218.18 Z\" fill=\"#000000\" fill-rule=\"evenodd\" fill-opacity=\"1\" /><path clip-path=\"url(#clip270)\" d=\"M 0 0 M1554 229.569 L1554 243.319 L1549.71 243.319 L1549.71 207.532 L1554 207.532 L1554 211.467 Q1555.34 209.152 1557.37 208.041 Q1559.44 206.907 1562.28 206.907 Q1567 206.907 1569.94 210.657 Q1572.91 214.407 1572.91 220.518 Q1572.91 226.629 1569.94 230.379 Q1567 234.129 1562.28 234.129 Q1559.44 234.129 1557.37 233.018 Q1555.34 231.883 1554 229.569 M1568.49 220.518 Q1568.49 215.819 1566.54 213.157 Q1564.62 210.472 1561.24 210.472 Q1557.86 210.472 1555.92 213.157 Q1554 215.819 1554 220.518 Q1554 225.217 1555.92 227.902 Q1557.86 230.564 1561.24 230.564 Q1564.62 230.564 1566.54 227.902 Q1568.49 225.217 1568.49 220.518 Z\" fill=\"#000000\" fill-rule=\"evenodd\" fill-opacity=\"1\" /><path clip-path=\"url(#clip270)\" d=\"M 0 0 M1576.94 223.226 L1576.94 207.532 L1581.19 207.532 L1581.19 223.064 Q1581.19 226.745 1582.63 228.596 Q1584.06 230.425 1586.94 230.425 Q1590.38 230.425 1592.37 228.226 Q1594.39 226.027 1594.39 222.231 L1594.39 207.532 L1598.65 207.532 L1598.65 233.458 L1594.39 233.458 L1594.39 229.476 Q1592.84 231.837 1590.78 232.995 Q1588.74 234.129 1586.03 234.129 Q1581.56 234.129 1579.25 231.351 Q1576.94 228.573 1576.94 223.226 M1587.65 206.907 L1587.65 206.907 Z\" fill=\"#000000\" fill-rule=\"evenodd\" fill-opacity=\"1\" /><path clip-path=\"url(#clip270)\" d=\"M 0 0 M1624.67 217.809 L1624.67 233.458 L1620.41 233.458 L1620.41 217.948 Q1620.41 214.268 1618.97 212.439 Q1617.54 210.61 1614.67 210.61 Q1611.22 210.61 1609.23 212.81 Q1607.24 215.009 1607.24 218.805 L1607.24 233.458 L1602.95 233.458 L1602.95 207.532 L1607.24 207.532 L1607.24 211.56 Q1608.76 209.222 1610.82 208.064 Q1612.91 206.907 1615.62 206.907 Q1620.08 206.907 1622.37 209.685 Q1624.67 212.439 1624.67 217.809 Z\" fill=\"#000000\" fill-rule=\"evenodd\" fill-opacity=\"1\" /><path clip-path=\"url(#clip270)\" d=\"M 0 0 M1628.97 197.439 L1633.25 197.439 L1633.25 218.712 L1645.96 207.532 L1651.4 207.532 L1637.65 219.661 L1651.98 233.458 L1646.43 233.458 L1633.25 220.796 L1633.25 233.458 L1628.97 233.458 L1628.97 197.439 Z\" fill=\"#000000\" fill-rule=\"evenodd\" fill-opacity=\"1\" /><path clip-path=\"url(#clip270)\" d=\"M 0 0 M1660.66 200.171 L1660.66 207.532 L1669.43 207.532 L1669.43 210.842 L1660.66 210.842 L1660.66 224.916 Q1660.66 228.087 1661.52 228.99 Q1662.4 229.893 1665.06 229.893 L1669.43 229.893 L1669.43 233.458 L1665.06 233.458 Q1660.13 233.458 1658.25 231.629 Q1656.38 229.777 1656.38 224.916 L1656.38 210.842 L1653.25 210.842 L1653.25 207.532 L1656.38 207.532 L1656.38 200.171 L1660.66 200.171 Z\" fill=\"#000000\" fill-rule=\"evenodd\" fill-opacity=\"1\" /><path clip-path=\"url(#clip270)\" d=\"M 0 0 M1684.69 235.865 Q1682.88 240.495 1681.17 241.907 Q1679.46 243.319 1676.59 243.319 L1673.18 243.319 L1673.18 239.754 L1675.68 239.754 Q1677.44 239.754 1678.42 238.92 Q1679.39 238.087 1680.57 234.985 L1681.33 233.041 L1670.85 207.532 L1675.36 207.532 L1683.46 227.809 L1691.56 207.532 L1696.08 207.532 L1684.69 235.865 Z\" fill=\"#000000\" fill-rule=\"evenodd\" fill-opacity=\"1\" /></svg>\n"
      ]
     },
     "execution_count": 184,
     "metadata": {},
     "output_type": "execute_result"
    }
   ],
   "source": [
    "xs = 0:7\n",
    "ys = rand(8, 1)[:]\n",
    "\n",
    "fit_poly_3 = fit(xs, ys, 3)\n",
    "plot(fit_poly_3,  extrema(xs)..., label=\"Aproksymacja wielomianem 3 stopnia\")\n",
    "scatter!(xs, ys, label =\"Dane punkty\")"
   ]
  },
  {
   "cell_type": "code",
   "execution_count": 250,
   "metadata": {},
   "outputs": [
    {
     "data": {
      "text/plain": [
       "4-element Array{Float64,1}:\n",
       "  0.6880695975291264\n",
       "  0.0004152753082885059\n",
       " -0.055967627940892536\n",
       "  0.008186584333421234"
      ]
     },
     "execution_count": 250,
     "metadata": {},
     "output_type": "execute_result"
    }
   ],
   "source": [
    "fit_poly_3.coeffs"
   ]
  },
  {
   "cell_type": "code",
   "execution_count": 187,
   "metadata": {},
   "outputs": [
    {
     "data": {
      "text/plain": [
       "8×4 Array{Float64,2}:\n",
       "   0.0   0.0  0.0  1.0\n",
       "   1.0   1.0  1.0  1.0\n",
       "   8.0   4.0  2.0  1.0\n",
       "  27.0   9.0  3.0  1.0\n",
       "  64.0  16.0  4.0  1.0\n",
       " 125.0  25.0  5.0  1.0\n",
       " 216.0  36.0  6.0  1.0\n",
       " 343.0  49.0  7.0  1.0"
      ]
     },
     "execution_count": 187,
     "metadata": {},
     "output_type": "execute_result"
    }
   ],
   "source": [
    "A = zeros(8,4) \n",
    "A[:,1] = xs.^3\n",
    "A[:,2] = xs.^2\n",
    "A[:,3] = xs\n",
    "A[:,4] = ones(8)\n",
    "A"
   ]
  },
  {
   "cell_type": "code",
   "execution_count": 249,
   "metadata": {},
   "outputs": [
    {
     "data": {
      "text/plain": [
       "4-element Array{Float64,1}:\n",
       "  0.6880695975291273\n",
       "  0.00041527530828813254\n",
       " -0.055967627940892446\n",
       "  0.008186584333421225"
      ]
     },
     "execution_count": 249,
     "metadata": {},
     "output_type": "execute_result"
    }
   ],
   "source": [
    "AF = factorize(A)\n",
    "\n",
    "w = (AF.R\\((Transpose(AF.Q)*ys)[1:4]))[AF.p]\n",
    "w = reverse(w)"
   ]
  },
  {
   "cell_type": "code",
   "execution_count": 253,
   "metadata": {},
   "outputs": [
    {
     "data": {
      "text/plain": [
       "4-element Array{Float64,1}:\n",
       " -8.881784197001252e-16\n",
       "  3.7334501809538345e-16\n",
       " -9.020562075079397e-17\n",
       "  8.673617379884035e-18"
      ]
     },
     "execution_count": 253,
     "metadata": {},
     "output_type": "execute_result"
    }
   ],
   "source": [
    "fit_poly_3.coeffs - w"
   ]
  },
  {
   "cell_type": "markdown",
   "metadata": {},
   "source": [
    "#### Zadanie 3"
   ]
  },
  {
   "cell_type": "markdown",
   "metadata": {},
   "source": [
    "Znajdowanie wartości własnych"
   ]
  },
  {
   "cell_type": "code",
   "execution_count": 66,
   "metadata": {},
   "outputs": [
    {
     "data": {
      "text/plain": [
       "50×50 Array{Float64,2}:\n",
       " 1.18082   1.67945   1.54676   0.174269  …  0.162976  0.78983    1.6089\n",
       " 1.67945   1.99162   0.684139  0.890548     1.07718   0.392589   0.572907\n",
       " 1.54676   0.684139  1.28673   0.720526     1.48411   0.594441   0.927121\n",
       " 0.174269  0.890548  0.720526  1.47148      1.34666   0.388263   0.996042\n",
       " 1.56157   0.272826  1.28216   1.50242      1.05796   0.519985   0.649504\n",
       " 0.816764  1.00528   1.06473   1.33312   …  1.0078    0.937143   0.541669\n",
       " 1.33229   1.38726   1.63347   1.06649      0.920345  0.362497   1.03702\n",
       " 1.35422   0.934693  1.0186    1.33897      1.31058   0.731701   1.20136\n",
       " 1.0864    1.54376   1.05949   1.56483      1.36612   0.943021   1.42634\n",
       " 1.42691   1.48871   1.30035   0.723338     0.987757  1.72566    1.72731\n",
       " 1.05412   1.00209   0.477459  0.977288  …  1.06241   1.25356    1.367\n",
       " 1.58153   1.33065   0.950344  0.798415     1.72862   1.45608    0.8185\n",
       " 1.49718   0.693548  0.792059  0.358428     0.393596  0.644049   1.04309\n",
       " ⋮                                       ⋱                       \n",
       " 1.41207   0.41522   1.90835   0.641813     1.57472   0.368096   1.37274\n",
       " 0.315563  0.921198  0.452875  0.088485     1.26625   0.0628385  1.62508\n",
       " 1.40925   1.10891   0.441048  1.12925   …  0.818513  0.255735   0.450243\n",
       " 0.241176  1.32871   1.33778   0.783493     0.704037  1.5563     0.874642\n",
       " 1.13337   0.889898  1.80049   0.560998     1.16774   1.3462     1.7259\n",
       " 0.382671  0.682797  1.74542   0.17457      0.887966  1.23065    1.08775\n",
       " 0.773216  1.14263   0.431961  0.503382     0.96937   0.683364   1.14619\n",
       " 0.286161  0.675978  1.47508   0.73313   …  0.862538  1.02837    1.43156\n",
       " 0.409233  1.25641   1.0514    1.03785      0.73874   0.963343   1.73822\n",
       " 0.162976  1.07718   1.48411   1.34666      1.03373   0.981292   1.25271\n",
       " 0.78983   0.392589  0.594441  0.388263     0.981292  1.457      0.87019\n",
       " 1.6089    0.572907  0.927121  0.996042     1.25271   0.87019    1.91669"
      ]
     },
     "execution_count": 66,
     "metadata": {},
     "output_type": "execute_result"
    }
   ],
   "source": [
    "M = rand(50,50)\n",
    "M += Transpose(M)"
   ]
  },
  {
   "cell_type": "code",
   "execution_count": 73,
   "metadata": {},
   "outputs": [
    {
     "data": {
      "text/plain": [
       "50-element Array{Float64,1}:\n",
       " -5.675210603552012\n",
       " -4.879834690389623\n",
       " -4.708214067016242\n",
       " -4.405046682587527\n",
       " -4.099962161498494\n",
       " -3.8315010855725986\n",
       " -3.691296132952426\n",
       " -3.5140465054409353\n",
       " -3.34763489794596\n",
       " -3.235448293824896\n",
       " -2.7477079258343533\n",
       " -2.7025983696833\n",
       " -2.4639534756845505\n",
       "  ⋮\n",
       "  2.936767475334779\n",
       "  3.075648408048391\n",
       "  3.173772039627985\n",
       "  3.422395968439528\n",
       "  3.5126160226934706\n",
       "  3.7979278912621317\n",
       "  4.12962728717296\n",
       "  4.3609189257565735\n",
       "  4.71702858962183\n",
       "  4.958798749395962\n",
       "  5.926474820690268\n",
       " 49.91484702068908"
      ]
     },
     "execution_count": 73,
     "metadata": {},
     "output_type": "execute_result"
    }
   ],
   "source": [
    "m_eigvals = eigvals(M)"
   ]
  },
  {
   "cell_type": "code",
   "execution_count": 74,
   "metadata": {},
   "outputs": [],
   "source": [
    "X = M\n",
    "for i in 1:10000\n",
    "    X = qr(X).R * qr(X).Q\n",
    "end"
   ]
  },
  {
   "cell_type": "code",
   "execution_count": 75,
   "metadata": {},
   "outputs": [
    {
     "data": {
      "text/plain": [
       "50-element Array{Float64,1}:\n",
       " -5.6752106035519985\n",
       " -4.879834690389581\n",
       " -4.708214067016126\n",
       " -4.405046682587479\n",
       " -4.099962161498465\n",
       " -3.831501085572618\n",
       " -3.6912961329523855\n",
       " -3.5138284749979105\n",
       " -3.347634897945944\n",
       " -3.235448293824905\n",
       " -2.7477079258343156\n",
       " -2.7025983696832965\n",
       " -2.463953475684553\n",
       "  ⋮\n",
       "  2.936767475334787\n",
       "  3.0756484080483766\n",
       "  3.1737720396279427\n",
       "  3.422395968439516\n",
       "  3.512397992250346\n",
       "  3.797927891262113\n",
       "  4.129627287173022\n",
       "  4.360918925756571\n",
       "  4.717028589621642\n",
       "  4.958798749395947\n",
       "  5.926474820690306\n",
       " 49.914847020689145"
      ]
     },
     "execution_count": 75,
     "metadata": {},
     "output_type": "execute_result"
    }
   ],
   "source": [
    "qr_eigvals = sort(diag(X))"
   ]
  },
  {
   "cell_type": "code",
   "execution_count": 76,
   "metadata": {},
   "outputs": [
    {
     "data": {
      "text/plain": [
       "50-element Array{Float64,1}:\n",
       "  1.3322676295501878e-14\n",
       "  4.1744385725905886e-14\n",
       "  1.163513729807164e-13\n",
       "  4.884981308350689e-14\n",
       "  2.930988785010413e-14\n",
       " -1.9539925233402755e-14\n",
       "  4.04121180963557e-14\n",
       "  0.00021803044302481922\n",
       "  1.5987211554602254e-14\n",
       " -9.325873406851315e-15\n",
       "  3.774758283725532e-14\n",
       "  3.552713678800501e-15\n",
       " -2.6645352591003757e-15\n",
       "  ⋮\n",
       "  7.993605777301127e-15\n",
       " -1.4210854715202004e-14\n",
       " -4.218847493575595e-14\n",
       " -1.199040866595169e-14\n",
       " -0.0002180304431247393\n",
       " -1.865174681370263e-14\n",
       "  6.217248937900877e-14\n",
       " -2.6645352591003757e-15\n",
       " -1.8740564655672642e-13\n",
       " -1.509903313490213e-14\n",
       "  3.730349362740526e-14\n",
       "  6.394884621840902e-14"
      ]
     },
     "execution_count": 76,
     "metadata": {},
     "output_type": "execute_result"
    }
   ],
   "source": [
    "qr_eigvals - m_eigvals"
   ]
  },
  {
   "cell_type": "code",
   "execution_count": null,
   "metadata": {},
   "outputs": [],
   "source": []
  }
 ],
 "metadata": {
  "kernelspec": {
   "display_name": "Julia 1.5.3",
   "language": "julia",
   "name": "julia-1.5"
  },
  "language_info": {
   "file_extension": ".jl",
   "mimetype": "application/julia",
   "name": "julia",
   "version": "1.5.3"
  }
 },
 "nbformat": 4,
 "nbformat_minor": 2
}
